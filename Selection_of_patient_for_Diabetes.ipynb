{
  "nbformat": 4,
  "nbformat_minor": 0,
  "metadata": {
    "colab": {
      "provenance": [],
      "authorship_tag": "ABX9TyOiXoXcbwxqpnmIr11YNhiF",
      "include_colab_link": true
    },
    "kernelspec": {
      "name": "python3",
      "display_name": "Python 3"
    },
    "language_info": {
      "name": "python"
    }
  },
  "cells": [
    {
      "cell_type": "markdown",
      "metadata": {
        "id": "view-in-github",
        "colab_type": "text"
      },
      "source": [
        "<a href=\"https://colab.research.google.com/github/Mj2603/Patient-Selection-for-Diabetes-Drug-Testing/blob/main/Selection_of_patient_for_Diabetes.ipynb\" target=\"_parent\"><img src=\"https://colab.research.google.com/assets/colab-badge.svg\" alt=\"Open In Colab\"/></a>"
      ]
    },
    {
      "cell_type": "code",
      "source": [
        "!pip install utils"
      ],
      "metadata": {
        "id": "SIp5azsNqao3",
        "colab": {
          "base_uri": "https://localhost:8080/"
        },
        "outputId": "6dbc1e5d-cbaf-42d6-9e87-7edd5ef8794b"
      },
      "execution_count": 1,
      "outputs": [
        {
          "output_type": "stream",
          "name": "stdout",
          "text": [
            "Looking in indexes: https://pypi.org/simple, https://us-python.pkg.dev/colab-wheels/public/simple/\n",
            "Requirement already satisfied: utils in /usr/local/lib/python3.9/dist-packages (1.0.1)\n"
          ]
        }
      ]
    },
    {
      "cell_type": "code",
      "source": [
        "import os\n",
        "os.environ['KMP_DUPLICATE_LIB_OK']='True'"
      ],
      "metadata": {
        "id": "s339YCO6YQv_"
      },
      "execution_count": 63,
      "outputs": []
    },
    {
      "cell_type": "code",
      "source": [
        "from utils import build_vocab_files, show_group_stats_viz, aggregate_dataset, preprocess_df, df_to_dataset, posterior_mean_field, prior_trainable"
      ],
      "metadata": {
        "id": "D4EHRp4LumPt"
      },
      "execution_count": 2,
      "outputs": []
    },
    {
      "cell_type": "code",
      "source": [
        "!pip install aequitas==0.42.0 ;\n",
        "import os\n",
        "import numpy as np\n",
        "import tensorflow as tf\n",
        "from tensorflow.keras import layers\n",
        "import tensorflow_probability as tfp\n",
        "import matplotlib.pyplot as plt\n",
        "import pandas as pd\n",
        "import aequitas as ae\n",
        "import seaborn as sns"
      ],
      "metadata": {
        "colab": {
          "base_uri": "https://localhost:8080/"
        },
        "id": "THBwx8WByTW1",
        "outputId": "40b77519-9234-467e-a707-31ab9a624c06"
      },
      "execution_count": 3,
      "outputs": [
        {
          "output_type": "stream",
          "name": "stdout",
          "text": [
            "Looking in indexes: https://pypi.org/simple, https://us-python.pkg.dev/colab-wheels/public/simple/\n",
            "Requirement already satisfied: aequitas==0.42.0 in /usr/local/lib/python3.9/dist-packages (0.42.0)\n",
            "Requirement already satisfied: tabulate==0.8.2 in /usr/local/lib/python3.9/dist-packages (from aequitas==0.42.0) (0.8.2)\n",
            "Requirement already satisfied: matplotlib>=3.0.3 in /usr/local/lib/python3.9/dist-packages (from aequitas==0.42.0) (3.7.1)\n",
            "Requirement already satisfied: Flask==0.12.2 in /usr/local/lib/python3.9/dist-packages (from aequitas==0.42.0) (0.12.2)\n",
            "Requirement already satisfied: markdown2==2.3.5 in /usr/local/lib/python3.9/dist-packages (from aequitas==0.42.0) (2.3.5)\n",
            "Requirement already satisfied: altair==4.1.0 in /usr/local/lib/python3.9/dist-packages (from aequitas==0.42.0) (4.1.0)\n",
            "Requirement already satisfied: seaborn>=0.9.0 in /usr/local/lib/python3.9/dist-packages (from aequitas==0.42.0) (0.12.2)\n",
            "Requirement already satisfied: Flask-Bootstrap==3.3.7.1 in /usr/local/lib/python3.9/dist-packages (from aequitas==0.42.0) (3.3.7.1)\n",
            "Requirement already satisfied: millify==0.1.1 in /usr/local/lib/python3.9/dist-packages (from aequitas==0.42.0) (0.1.1)\n",
            "Requirement already satisfied: SQLAlchemy>=1.1.1 in /usr/local/lib/python3.9/dist-packages (from aequitas==0.42.0) (1.4.46)\n",
            "Requirement already satisfied: xhtml2pdf==0.2.2 in /usr/local/lib/python3.9/dist-packages (from aequitas==0.42.0) (0.2.2)\n",
            "Requirement already satisfied: pandas>=0.24.1 in /usr/local/lib/python3.9/dist-packages (from aequitas==0.42.0) (1.4.4)\n",
            "Requirement already satisfied: ohio>=0.2.0 in /usr/local/lib/python3.9/dist-packages (from aequitas==0.42.0) (0.5.0)\n",
            "Requirement already satisfied: pyyaml>=5.1 in /usr/local/lib/python3.9/dist-packages (from aequitas==0.42.0) (6.0)\n",
            "Requirement already satisfied: jinja2 in /usr/local/lib/python3.9/dist-packages (from altair==4.1.0->aequitas==0.42.0) (3.1.2)\n",
            "Requirement already satisfied: entrypoints in /usr/local/lib/python3.9/dist-packages (from altair==4.1.0->aequitas==0.42.0) (0.4)\n",
            "Requirement already satisfied: numpy in /usr/local/lib/python3.9/dist-packages (from altair==4.1.0->aequitas==0.42.0) (1.22.4)\n",
            "Requirement already satisfied: jsonschema in /usr/local/lib/python3.9/dist-packages (from altair==4.1.0->aequitas==0.42.0) (4.3.3)\n",
            "Requirement already satisfied: toolz in /usr/local/lib/python3.9/dist-packages (from altair==4.1.0->aequitas==0.42.0) (0.12.0)\n",
            "Requirement already satisfied: Werkzeug>=0.7 in /usr/local/lib/python3.9/dist-packages (from Flask==0.12.2->aequitas==0.42.0) (2.2.3)\n",
            "Requirement already satisfied: click>=2.0 in /usr/local/lib/python3.9/dist-packages (from Flask==0.12.2->aequitas==0.42.0) (8.1.3)\n",
            "Requirement already satisfied: itsdangerous>=0.21 in /usr/local/lib/python3.9/dist-packages (from Flask==0.12.2->aequitas==0.42.0) (2.1.2)\n",
            "Requirement already satisfied: visitor in /usr/local/lib/python3.9/dist-packages (from Flask-Bootstrap==3.3.7.1->aequitas==0.42.0) (0.1.3)\n",
            "Requirement already satisfied: dominate in /usr/local/lib/python3.9/dist-packages (from Flask-Bootstrap==3.3.7.1->aequitas==0.42.0) (2.7.0)\n",
            "Requirement already satisfied: httplib2 in /usr/local/lib/python3.9/dist-packages (from xhtml2pdf==0.2.2->aequitas==0.42.0) (0.21.0)\n",
            "Requirement already satisfied: Pillow in /usr/local/lib/python3.9/dist-packages (from xhtml2pdf==0.2.2->aequitas==0.42.0) (9.4.0)\n",
            "Requirement already satisfied: pyPdf2 in /usr/local/lib/python3.9/dist-packages (from xhtml2pdf==0.2.2->aequitas==0.42.0) (3.0.1)\n",
            "Requirement already satisfied: reportlab>=3.0 in /usr/local/lib/python3.9/dist-packages (from xhtml2pdf==0.2.2->aequitas==0.42.0) (3.6.12)\n",
            "Requirement already satisfied: html5lib>=1.0 in /usr/local/lib/python3.9/dist-packages (from xhtml2pdf==0.2.2->aequitas==0.42.0) (1.1)\n",
            "Requirement already satisfied: six in /usr/local/lib/python3.9/dist-packages (from xhtml2pdf==0.2.2->aequitas==0.42.0) (1.15.0)\n",
            "Requirement already satisfied: python-dateutil>=2.7 in /usr/local/lib/python3.9/dist-packages (from matplotlib>=3.0.3->aequitas==0.42.0) (2.8.2)\n",
            "Requirement already satisfied: fonttools>=4.22.0 in /usr/local/lib/python3.9/dist-packages (from matplotlib>=3.0.3->aequitas==0.42.0) (4.39.0)\n",
            "Requirement already satisfied: importlib-resources>=3.2.0 in /usr/local/lib/python3.9/dist-packages (from matplotlib>=3.0.3->aequitas==0.42.0) (5.12.0)\n",
            "Requirement already satisfied: kiwisolver>=1.0.1 in /usr/local/lib/python3.9/dist-packages (from matplotlib>=3.0.3->aequitas==0.42.0) (1.4.4)\n",
            "Requirement already satisfied: cycler>=0.10 in /usr/local/lib/python3.9/dist-packages (from matplotlib>=3.0.3->aequitas==0.42.0) (0.11.0)\n",
            "Requirement already satisfied: pyparsing>=2.3.1 in /usr/local/lib/python3.9/dist-packages (from matplotlib>=3.0.3->aequitas==0.42.0) (3.0.9)\n",
            "Requirement already satisfied: packaging>=20.0 in /usr/local/lib/python3.9/dist-packages (from matplotlib>=3.0.3->aequitas==0.42.0) (23.0)\n",
            "Requirement already satisfied: contourpy>=1.0.1 in /usr/local/lib/python3.9/dist-packages (from matplotlib>=3.0.3->aequitas==0.42.0) (1.0.7)\n",
            "Requirement already satisfied: pytz>=2020.1 in /usr/local/lib/python3.9/dist-packages (from pandas>=0.24.1->aequitas==0.42.0) (2022.7.1)\n",
            "Requirement already satisfied: greenlet!=0.4.17 in /usr/local/lib/python3.9/dist-packages (from SQLAlchemy>=1.1.1->aequitas==0.42.0) (2.0.2)\n",
            "Requirement already satisfied: webencodings in /usr/local/lib/python3.9/dist-packages (from html5lib>=1.0->xhtml2pdf==0.2.2->aequitas==0.42.0) (0.5.1)\n",
            "Requirement already satisfied: zipp>=3.1.0 in /usr/local/lib/python3.9/dist-packages (from importlib-resources>=3.2.0->matplotlib>=3.0.3->aequitas==0.42.0) (3.15.0)\n",
            "Requirement already satisfied: MarkupSafe>=2.0 in /usr/local/lib/python3.9/dist-packages (from jinja2->altair==4.1.0->aequitas==0.42.0) (2.1.2)\n",
            "Requirement already satisfied: attrs>=17.4.0 in /usr/local/lib/python3.9/dist-packages (from jsonschema->altair==4.1.0->aequitas==0.42.0) (22.2.0)\n",
            "Requirement already satisfied: pyrsistent!=0.17.0,!=0.17.1,!=0.17.2,>=0.14.0 in /usr/local/lib/python3.9/dist-packages (from jsonschema->altair==4.1.0->aequitas==0.42.0) (0.19.3)\n",
            "Requirement already satisfied: typing_extensions>=3.10.0.0 in /usr/local/lib/python3.9/dist-packages (from pyPdf2->xhtml2pdf==0.2.2->aequitas==0.42.0) (4.5.0)\n"
          ]
        }
      ]
    },
    {
      "cell_type": "code",
      "source": [
        "pd.set_option('display.max_columns', 500)\n",
        "# this allows us to make changes and save in my_utils.py and the file is reloaded every time you run a code block\n",
        "%load_ext autoreload\n",
        "%autoreload"
      ],
      "metadata": {
        "colab": {
          "base_uri": "https://localhost:8080/"
        },
        "id": "rvsYhJkTH5dL",
        "outputId": "15e5da32-f9c1-4ae8-a149-cff65b38883b"
      },
      "execution_count": 50,
      "outputs": [
        {
          "output_type": "stream",
          "name": "stdout",
          "text": [
            "The autoreload extension is already loaded. To reload it, use:\n",
            "  %reload_ext autoreload\n"
          ]
        }
      ]
    },
    {
      "cell_type": "markdown",
      "source": [
        "# Dataset Loading and Schema Review\n",
        "Load the dataset and view a sample of the dataset along with reviewing the schema reference files to gain a deeper understanding of the dataset. The dataset is located at the following path . \n",
        "\n",
        "Also, review the information found in the data schema "
      ],
      "metadata": {
        "id": "pjnVS7nkJX6L"
      }
    },
    {
      "cell_type": "code",
      "source": [
        "dataset_path = \"/content/final_project_dataset.csv\"\n",
        "df = pd.read_csv(dataset_path)"
      ],
      "metadata": {
        "id": "p3LR8ac0JK5o"
      },
      "execution_count": 7,
      "outputs": []
    },
    {
      "cell_type": "markdown",
      "source": [
        "# Determine Level of Dataset (Line or Encounter)"
      ],
      "metadata": {
        "id": "GCPgy6TmMDxj"
      }
    },
    {
      "cell_type": "code",
      "source": [
        "df.head()"
      ],
      "metadata": {
        "colab": {
          "base_uri": "https://localhost:8080/",
          "height": 357
        },
        "id": "5zl6gHPhL5Fo",
        "outputId": "6b306fb0-7f45-4749-8ace-f5a6b2f5262f"
      },
      "execution_count": 8,
      "outputs": [
        {
          "output_type": "execute_result",
          "data": {
            "text/plain": [
              "   encounter_id  patient_nbr             race  gender      age weight  \\\n",
              "0       2278392      8222157        Caucasian  Female   [0-10)      ?   \n",
              "1        149190     55629189        Caucasian  Female  [10-20)      ?   \n",
              "2         64410     86047875  AfricanAmerican  Female  [20-30)      ?   \n",
              "3        500364     82442376        Caucasian    Male  [30-40)      ?   \n",
              "4         16680     42519267        Caucasian    Male  [40-50)      ?   \n",
              "\n",
              "   admission_type_id  discharge_disposition_id  admission_source_id  \\\n",
              "0                  6                        25                    1   \n",
              "1                  1                         1                    7   \n",
              "2                  1                         1                    7   \n",
              "3                  1                         1                    7   \n",
              "4                  1                         1                    7   \n",
              "\n",
              "   time_in_hospital payer_code         medical_specialty  \\\n",
              "0                 1          ?  Pediatrics-Endocrinology   \n",
              "1                 3          ?                         ?   \n",
              "2                 2          ?                         ?   \n",
              "3                 2          ?                         ?   \n",
              "4                 1          ?                         ?   \n",
              "\n",
              "  primary_diagnosis_code other_diagnosis_codes  number_outpatient  \\\n",
              "0                 250.83                   ?|?                  0   \n",
              "1                    276            250.01|255                  0   \n",
              "2                    648               250|V27                  2   \n",
              "3                      8            250.43|403                  0   \n",
              "4                    197               157|250                  0   \n",
              "\n",
              "   number_inpatient  number_emergency  num_lab_procedures  number_diagnoses  \\\n",
              "0                 0                 0                  41                 1   \n",
              "1                 0                 0                  59                 9   \n",
              "2                 1                 0                  11                 6   \n",
              "3                 0                 0                  44                 7   \n",
              "4                 0                 0                  51                 5   \n",
              "\n",
              "   num_medications  num_procedures    ndc_code max_glu_serum A1Cresult change  \\\n",
              "0                1               0         NaN          None      None     No   \n",
              "1               18               0  68071-1701          None      None     Ch   \n",
              "2               13               5   0378-1110          None      None     No   \n",
              "3               16               1  68071-1701          None      None     Ch   \n",
              "4                8               0   0049-4110          None      None     Ch   \n",
              "\n",
              "  readmitted  \n",
              "0         NO  \n",
              "1        >30  \n",
              "2         NO  \n",
              "3         NO  \n",
              "4         NO  "
            ],
            "text/html": [
              "\n",
              "  <div id=\"df-fe1e3508-5623-43fe-bd3b-68cc6bec52a1\">\n",
              "    <div class=\"colab-df-container\">\n",
              "      <div>\n",
              "<style scoped>\n",
              "    .dataframe tbody tr th:only-of-type {\n",
              "        vertical-align: middle;\n",
              "    }\n",
              "\n",
              "    .dataframe tbody tr th {\n",
              "        vertical-align: top;\n",
              "    }\n",
              "\n",
              "    .dataframe thead th {\n",
              "        text-align: right;\n",
              "    }\n",
              "</style>\n",
              "<table border=\"1\" class=\"dataframe\">\n",
              "  <thead>\n",
              "    <tr style=\"text-align: right;\">\n",
              "      <th></th>\n",
              "      <th>encounter_id</th>\n",
              "      <th>patient_nbr</th>\n",
              "      <th>race</th>\n",
              "      <th>gender</th>\n",
              "      <th>age</th>\n",
              "      <th>weight</th>\n",
              "      <th>admission_type_id</th>\n",
              "      <th>discharge_disposition_id</th>\n",
              "      <th>admission_source_id</th>\n",
              "      <th>time_in_hospital</th>\n",
              "      <th>payer_code</th>\n",
              "      <th>medical_specialty</th>\n",
              "      <th>primary_diagnosis_code</th>\n",
              "      <th>other_diagnosis_codes</th>\n",
              "      <th>number_outpatient</th>\n",
              "      <th>number_inpatient</th>\n",
              "      <th>number_emergency</th>\n",
              "      <th>num_lab_procedures</th>\n",
              "      <th>number_diagnoses</th>\n",
              "      <th>num_medications</th>\n",
              "      <th>num_procedures</th>\n",
              "      <th>ndc_code</th>\n",
              "      <th>max_glu_serum</th>\n",
              "      <th>A1Cresult</th>\n",
              "      <th>change</th>\n",
              "      <th>readmitted</th>\n",
              "    </tr>\n",
              "  </thead>\n",
              "  <tbody>\n",
              "    <tr>\n",
              "      <th>0</th>\n",
              "      <td>2278392</td>\n",
              "      <td>8222157</td>\n",
              "      <td>Caucasian</td>\n",
              "      <td>Female</td>\n",
              "      <td>[0-10)</td>\n",
              "      <td>?</td>\n",
              "      <td>6</td>\n",
              "      <td>25</td>\n",
              "      <td>1</td>\n",
              "      <td>1</td>\n",
              "      <td>?</td>\n",
              "      <td>Pediatrics-Endocrinology</td>\n",
              "      <td>250.83</td>\n",
              "      <td>?|?</td>\n",
              "      <td>0</td>\n",
              "      <td>0</td>\n",
              "      <td>0</td>\n",
              "      <td>41</td>\n",
              "      <td>1</td>\n",
              "      <td>1</td>\n",
              "      <td>0</td>\n",
              "      <td>NaN</td>\n",
              "      <td>None</td>\n",
              "      <td>None</td>\n",
              "      <td>No</td>\n",
              "      <td>NO</td>\n",
              "    </tr>\n",
              "    <tr>\n",
              "      <th>1</th>\n",
              "      <td>149190</td>\n",
              "      <td>55629189</td>\n",
              "      <td>Caucasian</td>\n",
              "      <td>Female</td>\n",
              "      <td>[10-20)</td>\n",
              "      <td>?</td>\n",
              "      <td>1</td>\n",
              "      <td>1</td>\n",
              "      <td>7</td>\n",
              "      <td>3</td>\n",
              "      <td>?</td>\n",
              "      <td>?</td>\n",
              "      <td>276</td>\n",
              "      <td>250.01|255</td>\n",
              "      <td>0</td>\n",
              "      <td>0</td>\n",
              "      <td>0</td>\n",
              "      <td>59</td>\n",
              "      <td>9</td>\n",
              "      <td>18</td>\n",
              "      <td>0</td>\n",
              "      <td>68071-1701</td>\n",
              "      <td>None</td>\n",
              "      <td>None</td>\n",
              "      <td>Ch</td>\n",
              "      <td>&gt;30</td>\n",
              "    </tr>\n",
              "    <tr>\n",
              "      <th>2</th>\n",
              "      <td>64410</td>\n",
              "      <td>86047875</td>\n",
              "      <td>AfricanAmerican</td>\n",
              "      <td>Female</td>\n",
              "      <td>[20-30)</td>\n",
              "      <td>?</td>\n",
              "      <td>1</td>\n",
              "      <td>1</td>\n",
              "      <td>7</td>\n",
              "      <td>2</td>\n",
              "      <td>?</td>\n",
              "      <td>?</td>\n",
              "      <td>648</td>\n",
              "      <td>250|V27</td>\n",
              "      <td>2</td>\n",
              "      <td>1</td>\n",
              "      <td>0</td>\n",
              "      <td>11</td>\n",
              "      <td>6</td>\n",
              "      <td>13</td>\n",
              "      <td>5</td>\n",
              "      <td>0378-1110</td>\n",
              "      <td>None</td>\n",
              "      <td>None</td>\n",
              "      <td>No</td>\n",
              "      <td>NO</td>\n",
              "    </tr>\n",
              "    <tr>\n",
              "      <th>3</th>\n",
              "      <td>500364</td>\n",
              "      <td>82442376</td>\n",
              "      <td>Caucasian</td>\n",
              "      <td>Male</td>\n",
              "      <td>[30-40)</td>\n",
              "      <td>?</td>\n",
              "      <td>1</td>\n",
              "      <td>1</td>\n",
              "      <td>7</td>\n",
              "      <td>2</td>\n",
              "      <td>?</td>\n",
              "      <td>?</td>\n",
              "      <td>8</td>\n",
              "      <td>250.43|403</td>\n",
              "      <td>0</td>\n",
              "      <td>0</td>\n",
              "      <td>0</td>\n",
              "      <td>44</td>\n",
              "      <td>7</td>\n",
              "      <td>16</td>\n",
              "      <td>1</td>\n",
              "      <td>68071-1701</td>\n",
              "      <td>None</td>\n",
              "      <td>None</td>\n",
              "      <td>Ch</td>\n",
              "      <td>NO</td>\n",
              "    </tr>\n",
              "    <tr>\n",
              "      <th>4</th>\n",
              "      <td>16680</td>\n",
              "      <td>42519267</td>\n",
              "      <td>Caucasian</td>\n",
              "      <td>Male</td>\n",
              "      <td>[40-50)</td>\n",
              "      <td>?</td>\n",
              "      <td>1</td>\n",
              "      <td>1</td>\n",
              "      <td>7</td>\n",
              "      <td>1</td>\n",
              "      <td>?</td>\n",
              "      <td>?</td>\n",
              "      <td>197</td>\n",
              "      <td>157|250</td>\n",
              "      <td>0</td>\n",
              "      <td>0</td>\n",
              "      <td>0</td>\n",
              "      <td>51</td>\n",
              "      <td>5</td>\n",
              "      <td>8</td>\n",
              "      <td>0</td>\n",
              "      <td>0049-4110</td>\n",
              "      <td>None</td>\n",
              "      <td>None</td>\n",
              "      <td>Ch</td>\n",
              "      <td>NO</td>\n",
              "    </tr>\n",
              "  </tbody>\n",
              "</table>\n",
              "</div>\n",
              "      <button class=\"colab-df-convert\" onclick=\"convertToInteractive('df-fe1e3508-5623-43fe-bd3b-68cc6bec52a1')\"\n",
              "              title=\"Convert this dataframe to an interactive table.\"\n",
              "              style=\"display:none;\">\n",
              "        \n",
              "  <svg xmlns=\"http://www.w3.org/2000/svg\" height=\"24px\"viewBox=\"0 0 24 24\"\n",
              "       width=\"24px\">\n",
              "    <path d=\"M0 0h24v24H0V0z\" fill=\"none\"/>\n",
              "    <path d=\"M18.56 5.44l.94 2.06.94-2.06 2.06-.94-2.06-.94-.94-2.06-.94 2.06-2.06.94zm-11 1L8.5 8.5l.94-2.06 2.06-.94-2.06-.94L8.5 2.5l-.94 2.06-2.06.94zm10 10l.94 2.06.94-2.06 2.06-.94-2.06-.94-.94-2.06-.94 2.06-2.06.94z\"/><path d=\"M17.41 7.96l-1.37-1.37c-.4-.4-.92-.59-1.43-.59-.52 0-1.04.2-1.43.59L10.3 9.45l-7.72 7.72c-.78.78-.78 2.05 0 2.83L4 21.41c.39.39.9.59 1.41.59.51 0 1.02-.2 1.41-.59l7.78-7.78 2.81-2.81c.8-.78.8-2.07 0-2.86zM5.41 20L4 18.59l7.72-7.72 1.47 1.35L5.41 20z\"/>\n",
              "  </svg>\n",
              "      </button>\n",
              "      \n",
              "  <style>\n",
              "    .colab-df-container {\n",
              "      display:flex;\n",
              "      flex-wrap:wrap;\n",
              "      gap: 12px;\n",
              "    }\n",
              "\n",
              "    .colab-df-convert {\n",
              "      background-color: #E8F0FE;\n",
              "      border: none;\n",
              "      border-radius: 50%;\n",
              "      cursor: pointer;\n",
              "      display: none;\n",
              "      fill: #1967D2;\n",
              "      height: 32px;\n",
              "      padding: 0 0 0 0;\n",
              "      width: 32px;\n",
              "    }\n",
              "\n",
              "    .colab-df-convert:hover {\n",
              "      background-color: #E2EBFA;\n",
              "      box-shadow: 0px 1px 2px rgba(60, 64, 67, 0.3), 0px 1px 3px 1px rgba(60, 64, 67, 0.15);\n",
              "      fill: #174EA6;\n",
              "    }\n",
              "\n",
              "    [theme=dark] .colab-df-convert {\n",
              "      background-color: #3B4455;\n",
              "      fill: #D2E3FC;\n",
              "    }\n",
              "\n",
              "    [theme=dark] .colab-df-convert:hover {\n",
              "      background-color: #434B5C;\n",
              "      box-shadow: 0px 1px 3px 1px rgba(0, 0, 0, 0.15);\n",
              "      filter: drop-shadow(0px 1px 2px rgba(0, 0, 0, 0.3));\n",
              "      fill: #FFFFFF;\n",
              "    }\n",
              "  </style>\n",
              "\n",
              "      <script>\n",
              "        const buttonEl =\n",
              "          document.querySelector('#df-fe1e3508-5623-43fe-bd3b-68cc6bec52a1 button.colab-df-convert');\n",
              "        buttonEl.style.display =\n",
              "          google.colab.kernel.accessAllowed ? 'block' : 'none';\n",
              "\n",
              "        async function convertToInteractive(key) {\n",
              "          const element = document.querySelector('#df-fe1e3508-5623-43fe-bd3b-68cc6bec52a1');\n",
              "          const dataTable =\n",
              "            await google.colab.kernel.invokeFunction('convertToInteractive',\n",
              "                                                     [key], {});\n",
              "          if (!dataTable) return;\n",
              "\n",
              "          const docLinkHtml = 'Like what you see? Visit the ' +\n",
              "            '<a target=\"_blank\" href=https://colab.research.google.com/notebooks/data_table.ipynb>data table notebook</a>'\n",
              "            + ' to learn more about interactive tables.';\n",
              "          element.innerHTML = '';\n",
              "          dataTable['output_type'] = 'display_data';\n",
              "          await google.colab.output.renderOutput(dataTable, element);\n",
              "          const docLink = document.createElement('div');\n",
              "          docLink.innerHTML = docLinkHtml;\n",
              "          element.appendChild(docLink);\n",
              "        }\n",
              "      </script>\n",
              "    </div>\n",
              "  </div>\n",
              "  "
            ]
          },
          "metadata": {},
          "execution_count": 8
        }
      ]
    },
    {
      "cell_type": "code",
      "source": [
        "df.columns"
      ],
      "metadata": {
        "colab": {
          "base_uri": "https://localhost:8080/"
        },
        "id": "oD6cOKSxMQc0",
        "outputId": "d9eb3491-2d05-4820-edfa-8cf98f5a0837"
      },
      "execution_count": 9,
      "outputs": [
        {
          "output_type": "execute_result",
          "data": {
            "text/plain": [
              "Index(['encounter_id', 'patient_nbr', 'race', 'gender', 'age', 'weight',\n",
              "       'admission_type_id', 'discharge_disposition_id', 'admission_source_id',\n",
              "       'time_in_hospital', 'payer_code', 'medical_specialty',\n",
              "       'primary_diagnosis_code', 'other_diagnosis_codes', 'number_outpatient',\n",
              "       'number_inpatient', 'number_emergency', 'num_lab_procedures',\n",
              "       'number_diagnoses', 'num_medications', 'num_procedures', 'ndc_code',\n",
              "       'max_glu_serum', 'A1Cresult', 'change', 'readmitted'],\n",
              "      dtype='object')"
            ]
          },
          "metadata": {},
          "execution_count": 9
        }
      ]
    },
    {
      "cell_type": "code",
      "source": [
        "df.encounter_id.nunique()"
      ],
      "metadata": {
        "colab": {
          "base_uri": "https://localhost:8080/"
        },
        "id": "gi17ZPOAMQ_x",
        "outputId": "b99b04cf-3c7c-40f4-d8a9-e779a6624708"
      },
      "execution_count": 10,
      "outputs": [
        {
          "output_type": "execute_result",
          "data": {
            "text/plain": [
              "101766"
            ]
          },
          "metadata": {},
          "execution_count": 10
        }
      ]
    },
    {
      "cell_type": "code",
      "source": [
        "df.patient_nbr.nunique()"
      ],
      "metadata": {
        "colab": {
          "base_uri": "https://localhost:8080/"
        },
        "id": "HFDAUSHAMUqu",
        "outputId": "20fccbe1-158e-4c5f-fcb2-614647b4912f"
      },
      "execution_count": 11,
      "outputs": [
        {
          "output_type": "execute_result",
          "data": {
            "text/plain": [
              "71518"
            ]
          },
          "metadata": {},
          "execution_count": 11
        }
      ]
    },
    {
      "cell_type": "code",
      "source": [
        "df.shape[0]"
      ],
      "metadata": {
        "colab": {
          "base_uri": "https://localhost:8080/"
        },
        "id": "voWULKKgMZMZ",
        "outputId": "113dd527-e052-41af-c78c-2feb0edc7032"
      },
      "execution_count": 12,
      "outputs": [
        {
          "output_type": "execute_result",
          "data": {
            "text/plain": [
              "143424"
            ]
          },
          "metadata": {},
          "execution_count": 12
        }
      ]
    },
    {
      "cell_type": "markdown",
      "source": [
        "# Analyze Dataset\n",
        "Question 2: Utilizing the library of your choice (recommend Pandas and Seaborn or matplotlib though) we address the following questions:\n",
        "- a. Field(s) with high amount of missing/zero values only ndc_code column has missing values\n",
        "\n",
        "- b. Based off the frequency histogram for each numerical field, which numerical field(s) has/have a Gaussian(normal) distribution shape?\n",
        "None off the numerical field has pure normal distribution, but `num_lab_procedures` has some extent of normal distribution which violets at some point.\n",
        "\n",
        "- c. Which field(s) have high cardinality and why (HINT: ndc_code is one feature)\n",
        "other_diagnosis_codes, primary_diagnosis_code and ndc_code has high cardinalities. It has different codes related to dieases identified. So, it has more variation.\n",
        "\n",
        "- d. Please describe the demographic distributions in the dataset for the age and gender fields.\n",
        "From data, it shown that there are slightly more females than male who are hospitalized and it is more affected in age 60-90."
      ],
      "metadata": {
        "id": "rteIkieoMlXQ"
      }
    },
    {
      "cell_type": "code",
      "source": [
        "df.describe().transpose()"
      ],
      "metadata": {
        "colab": {
          "base_uri": "https://localhost:8080/",
          "height": 457
        },
        "id": "cNDOodjCM0ii",
        "outputId": "56b1fc5c-8b91-46c3-d75b-196e53423aba"
      },
      "execution_count": 13,
      "outputs": [
        {
          "output_type": "execute_result",
          "data": {
            "text/plain": [
              "                             count          mean           std      min  \\\n",
              "encounter_id              143424.0  1.674290e+08  1.019046e+08  12522.0   \n",
              "patient_nbr               143424.0  5.493608e+07  3.857840e+07    135.0   \n",
              "admission_type_id         143424.0  2.027694e+00  1.427585e+00      1.0   \n",
              "discharge_disposition_id  143424.0  3.655316e+00  5.219279e+00      1.0   \n",
              "admission_source_id       143424.0  5.701096e+00  4.064532e+00      1.0   \n",
              "time_in_hospital          143424.0  4.490190e+00  2.999667e+00      1.0   \n",
              "number_outpatient         143424.0  3.624289e-01  1.249295e+00      0.0   \n",
              "number_inpatient          143424.0  6.008548e-01  1.207934e+00      0.0   \n",
              "number_emergency          143424.0  1.950859e-01  9.204102e-01      0.0   \n",
              "num_lab_procedures        143424.0  4.325575e+01  1.965732e+01      1.0   \n",
              "number_diagnoses          143424.0  7.424434e+00  1.924872e+00      1.0   \n",
              "num_medications           143424.0  1.677603e+01  8.397130e+00      1.0   \n",
              "num_procedures            143424.0  1.349021e+00  1.719104e+00      0.0   \n",
              "\n",
              "                                 25%          50%          75%          max  \n",
              "encounter_id              88295964.0  154763706.0  232089688.5  443867222.0  \n",
              "patient_nbr               23572188.0   46307830.5   88236270.0  189502619.0  \n",
              "admission_type_id                1.0          1.0          3.0          8.0  \n",
              "discharge_disposition_id         1.0          1.0          3.0         28.0  \n",
              "admission_source_id              1.0          7.0          7.0         25.0  \n",
              "time_in_hospital                 2.0          4.0          6.0         14.0  \n",
              "number_outpatient                0.0          0.0          0.0         42.0  \n",
              "number_inpatient                 0.0          0.0          1.0         21.0  \n",
              "number_emergency                 0.0          0.0          0.0         76.0  \n",
              "num_lab_procedures              32.0         44.0         57.0        132.0  \n",
              "number_diagnoses                 6.0          8.0          9.0         16.0  \n",
              "num_medications                 11.0         15.0         21.0         81.0  \n",
              "num_procedures                   0.0          1.0          2.0          6.0  "
            ],
            "text/html": [
              "\n",
              "  <div id=\"df-ef8d546c-ed24-44d8-9b4d-141f6f683080\">\n",
              "    <div class=\"colab-df-container\">\n",
              "      <div>\n",
              "<style scoped>\n",
              "    .dataframe tbody tr th:only-of-type {\n",
              "        vertical-align: middle;\n",
              "    }\n",
              "\n",
              "    .dataframe tbody tr th {\n",
              "        vertical-align: top;\n",
              "    }\n",
              "\n",
              "    .dataframe thead th {\n",
              "        text-align: right;\n",
              "    }\n",
              "</style>\n",
              "<table border=\"1\" class=\"dataframe\">\n",
              "  <thead>\n",
              "    <tr style=\"text-align: right;\">\n",
              "      <th></th>\n",
              "      <th>count</th>\n",
              "      <th>mean</th>\n",
              "      <th>std</th>\n",
              "      <th>min</th>\n",
              "      <th>25%</th>\n",
              "      <th>50%</th>\n",
              "      <th>75%</th>\n",
              "      <th>max</th>\n",
              "    </tr>\n",
              "  </thead>\n",
              "  <tbody>\n",
              "    <tr>\n",
              "      <th>encounter_id</th>\n",
              "      <td>143424.0</td>\n",
              "      <td>1.674290e+08</td>\n",
              "      <td>1.019046e+08</td>\n",
              "      <td>12522.0</td>\n",
              "      <td>88295964.0</td>\n",
              "      <td>154763706.0</td>\n",
              "      <td>232089688.5</td>\n",
              "      <td>443867222.0</td>\n",
              "    </tr>\n",
              "    <tr>\n",
              "      <th>patient_nbr</th>\n",
              "      <td>143424.0</td>\n",
              "      <td>5.493608e+07</td>\n",
              "      <td>3.857840e+07</td>\n",
              "      <td>135.0</td>\n",
              "      <td>23572188.0</td>\n",
              "      <td>46307830.5</td>\n",
              "      <td>88236270.0</td>\n",
              "      <td>189502619.0</td>\n",
              "    </tr>\n",
              "    <tr>\n",
              "      <th>admission_type_id</th>\n",
              "      <td>143424.0</td>\n",
              "      <td>2.027694e+00</td>\n",
              "      <td>1.427585e+00</td>\n",
              "      <td>1.0</td>\n",
              "      <td>1.0</td>\n",
              "      <td>1.0</td>\n",
              "      <td>3.0</td>\n",
              "      <td>8.0</td>\n",
              "    </tr>\n",
              "    <tr>\n",
              "      <th>discharge_disposition_id</th>\n",
              "      <td>143424.0</td>\n",
              "      <td>3.655316e+00</td>\n",
              "      <td>5.219279e+00</td>\n",
              "      <td>1.0</td>\n",
              "      <td>1.0</td>\n",
              "      <td>1.0</td>\n",
              "      <td>3.0</td>\n",
              "      <td>28.0</td>\n",
              "    </tr>\n",
              "    <tr>\n",
              "      <th>admission_source_id</th>\n",
              "      <td>143424.0</td>\n",
              "      <td>5.701096e+00</td>\n",
              "      <td>4.064532e+00</td>\n",
              "      <td>1.0</td>\n",
              "      <td>1.0</td>\n",
              "      <td>7.0</td>\n",
              "      <td>7.0</td>\n",
              "      <td>25.0</td>\n",
              "    </tr>\n",
              "    <tr>\n",
              "      <th>time_in_hospital</th>\n",
              "      <td>143424.0</td>\n",
              "      <td>4.490190e+00</td>\n",
              "      <td>2.999667e+00</td>\n",
              "      <td>1.0</td>\n",
              "      <td>2.0</td>\n",
              "      <td>4.0</td>\n",
              "      <td>6.0</td>\n",
              "      <td>14.0</td>\n",
              "    </tr>\n",
              "    <tr>\n",
              "      <th>number_outpatient</th>\n",
              "      <td>143424.0</td>\n",
              "      <td>3.624289e-01</td>\n",
              "      <td>1.249295e+00</td>\n",
              "      <td>0.0</td>\n",
              "      <td>0.0</td>\n",
              "      <td>0.0</td>\n",
              "      <td>0.0</td>\n",
              "      <td>42.0</td>\n",
              "    </tr>\n",
              "    <tr>\n",
              "      <th>number_inpatient</th>\n",
              "      <td>143424.0</td>\n",
              "      <td>6.008548e-01</td>\n",
              "      <td>1.207934e+00</td>\n",
              "      <td>0.0</td>\n",
              "      <td>0.0</td>\n",
              "      <td>0.0</td>\n",
              "      <td>1.0</td>\n",
              "      <td>21.0</td>\n",
              "    </tr>\n",
              "    <tr>\n",
              "      <th>number_emergency</th>\n",
              "      <td>143424.0</td>\n",
              "      <td>1.950859e-01</td>\n",
              "      <td>9.204102e-01</td>\n",
              "      <td>0.0</td>\n",
              "      <td>0.0</td>\n",
              "      <td>0.0</td>\n",
              "      <td>0.0</td>\n",
              "      <td>76.0</td>\n",
              "    </tr>\n",
              "    <tr>\n",
              "      <th>num_lab_procedures</th>\n",
              "      <td>143424.0</td>\n",
              "      <td>4.325575e+01</td>\n",
              "      <td>1.965732e+01</td>\n",
              "      <td>1.0</td>\n",
              "      <td>32.0</td>\n",
              "      <td>44.0</td>\n",
              "      <td>57.0</td>\n",
              "      <td>132.0</td>\n",
              "    </tr>\n",
              "    <tr>\n",
              "      <th>number_diagnoses</th>\n",
              "      <td>143424.0</td>\n",
              "      <td>7.424434e+00</td>\n",
              "      <td>1.924872e+00</td>\n",
              "      <td>1.0</td>\n",
              "      <td>6.0</td>\n",
              "      <td>8.0</td>\n",
              "      <td>9.0</td>\n",
              "      <td>16.0</td>\n",
              "    </tr>\n",
              "    <tr>\n",
              "      <th>num_medications</th>\n",
              "      <td>143424.0</td>\n",
              "      <td>1.677603e+01</td>\n",
              "      <td>8.397130e+00</td>\n",
              "      <td>1.0</td>\n",
              "      <td>11.0</td>\n",
              "      <td>15.0</td>\n",
              "      <td>21.0</td>\n",
              "      <td>81.0</td>\n",
              "    </tr>\n",
              "    <tr>\n",
              "      <th>num_procedures</th>\n",
              "      <td>143424.0</td>\n",
              "      <td>1.349021e+00</td>\n",
              "      <td>1.719104e+00</td>\n",
              "      <td>0.0</td>\n",
              "      <td>0.0</td>\n",
              "      <td>1.0</td>\n",
              "      <td>2.0</td>\n",
              "      <td>6.0</td>\n",
              "    </tr>\n",
              "  </tbody>\n",
              "</table>\n",
              "</div>\n",
              "      <button class=\"colab-df-convert\" onclick=\"convertToInteractive('df-ef8d546c-ed24-44d8-9b4d-141f6f683080')\"\n",
              "              title=\"Convert this dataframe to an interactive table.\"\n",
              "              style=\"display:none;\">\n",
              "        \n",
              "  <svg xmlns=\"http://www.w3.org/2000/svg\" height=\"24px\"viewBox=\"0 0 24 24\"\n",
              "       width=\"24px\">\n",
              "    <path d=\"M0 0h24v24H0V0z\" fill=\"none\"/>\n",
              "    <path d=\"M18.56 5.44l.94 2.06.94-2.06 2.06-.94-2.06-.94-.94-2.06-.94 2.06-2.06.94zm-11 1L8.5 8.5l.94-2.06 2.06-.94-2.06-.94L8.5 2.5l-.94 2.06-2.06.94zm10 10l.94 2.06.94-2.06 2.06-.94-2.06-.94-.94-2.06-.94 2.06-2.06.94z\"/><path d=\"M17.41 7.96l-1.37-1.37c-.4-.4-.92-.59-1.43-.59-.52 0-1.04.2-1.43.59L10.3 9.45l-7.72 7.72c-.78.78-.78 2.05 0 2.83L4 21.41c.39.39.9.59 1.41.59.51 0 1.02-.2 1.41-.59l7.78-7.78 2.81-2.81c.8-.78.8-2.07 0-2.86zM5.41 20L4 18.59l7.72-7.72 1.47 1.35L5.41 20z\"/>\n",
              "  </svg>\n",
              "      </button>\n",
              "      \n",
              "  <style>\n",
              "    .colab-df-container {\n",
              "      display:flex;\n",
              "      flex-wrap:wrap;\n",
              "      gap: 12px;\n",
              "    }\n",
              "\n",
              "    .colab-df-convert {\n",
              "      background-color: #E8F0FE;\n",
              "      border: none;\n",
              "      border-radius: 50%;\n",
              "      cursor: pointer;\n",
              "      display: none;\n",
              "      fill: #1967D2;\n",
              "      height: 32px;\n",
              "      padding: 0 0 0 0;\n",
              "      width: 32px;\n",
              "    }\n",
              "\n",
              "    .colab-df-convert:hover {\n",
              "      background-color: #E2EBFA;\n",
              "      box-shadow: 0px 1px 2px rgba(60, 64, 67, 0.3), 0px 1px 3px 1px rgba(60, 64, 67, 0.15);\n",
              "      fill: #174EA6;\n",
              "    }\n",
              "\n",
              "    [theme=dark] .colab-df-convert {\n",
              "      background-color: #3B4455;\n",
              "      fill: #D2E3FC;\n",
              "    }\n",
              "\n",
              "    [theme=dark] .colab-df-convert:hover {\n",
              "      background-color: #434B5C;\n",
              "      box-shadow: 0px 1px 3px 1px rgba(0, 0, 0, 0.15);\n",
              "      filter: drop-shadow(0px 1px 2px rgba(0, 0, 0, 0.3));\n",
              "      fill: #FFFFFF;\n",
              "    }\n",
              "  </style>\n",
              "\n",
              "      <script>\n",
              "        const buttonEl =\n",
              "          document.querySelector('#df-ef8d546c-ed24-44d8-9b4d-141f6f683080 button.colab-df-convert');\n",
              "        buttonEl.style.display =\n",
              "          google.colab.kernel.accessAllowed ? 'block' : 'none';\n",
              "\n",
              "        async function convertToInteractive(key) {\n",
              "          const element = document.querySelector('#df-ef8d546c-ed24-44d8-9b4d-141f6f683080');\n",
              "          const dataTable =\n",
              "            await google.colab.kernel.invokeFunction('convertToInteractive',\n",
              "                                                     [key], {});\n",
              "          if (!dataTable) return;\n",
              "\n",
              "          const docLinkHtml = 'Like what you see? Visit the ' +\n",
              "            '<a target=\"_blank\" href=https://colab.research.google.com/notebooks/data_table.ipynb>data table notebook</a>'\n",
              "            + ' to learn more about interactive tables.';\n",
              "          element.innerHTML = '';\n",
              "          dataTable['output_type'] = 'display_data';\n",
              "          await google.colab.output.renderOutput(dataTable, element);\n",
              "          const docLink = document.createElement('div');\n",
              "          docLink.innerHTML = docLinkHtml;\n",
              "          element.appendChild(docLink);\n",
              "        }\n",
              "      </script>\n",
              "    </div>\n",
              "  </div>\n",
              "  "
            ]
          },
          "metadata": {},
          "execution_count": 13
        }
      ]
    },
    {
      "cell_type": "code",
      "source": [
        "df.count()"
      ],
      "metadata": {
        "colab": {
          "base_uri": "https://localhost:8080/"
        },
        "id": "83edAl3IM7ll",
        "outputId": "619b16ea-4004-4edc-ecc0-c71a369b8ba2"
      },
      "execution_count": 14,
      "outputs": [
        {
          "output_type": "execute_result",
          "data": {
            "text/plain": [
              "encounter_id                143424\n",
              "patient_nbr                 143424\n",
              "race                        143424\n",
              "gender                      143424\n",
              "age                         143424\n",
              "weight                      143424\n",
              "admission_type_id           143424\n",
              "discharge_disposition_id    143424\n",
              "admission_source_id         143424\n",
              "time_in_hospital            143424\n",
              "payer_code                  143424\n",
              "medical_specialty           143424\n",
              "primary_diagnosis_code      143424\n",
              "other_diagnosis_codes       143424\n",
              "number_outpatient           143424\n",
              "number_inpatient            143424\n",
              "number_emergency            143424\n",
              "num_lab_procedures          143424\n",
              "number_diagnoses            143424\n",
              "num_medications             143424\n",
              "num_procedures              143424\n",
              "ndc_code                    119962\n",
              "max_glu_serum               143424\n",
              "A1Cresult                   143424\n",
              "change                      143424\n",
              "readmitted                  143424\n",
              "dtype: int64"
            ]
          },
          "metadata": {},
          "execution_count": 14
        }
      ]
    },
    {
      "cell_type": "code",
      "source": [
        "numeric_field = [c for c in df.columns if df[c].dtype == \"int64\"]\n",
        "numeric_field"
      ],
      "metadata": {
        "colab": {
          "base_uri": "https://localhost:8080/"
        },
        "id": "8jvJOMRoM_7G",
        "outputId": "c02d1d96-58e2-4315-8462-71cdcdf925fb"
      },
      "execution_count": 15,
      "outputs": [
        {
          "output_type": "execute_result",
          "data": {
            "text/plain": [
              "['encounter_id',\n",
              " 'patient_nbr',\n",
              " 'admission_type_id',\n",
              " 'discharge_disposition_id',\n",
              " 'admission_source_id',\n",
              " 'time_in_hospital',\n",
              " 'number_outpatient',\n",
              " 'number_inpatient',\n",
              " 'number_emergency',\n",
              " 'num_lab_procedures',\n",
              " 'number_diagnoses',\n",
              " 'num_medications',\n",
              " 'num_procedures']"
            ]
          },
          "metadata": {},
          "execution_count": 15
        }
      ]
    },
    {
      "cell_type": "code",
      "source": [
        "for c in numeric_field:\n",
        "    sns.displot(df[c], kde=False)\n",
        "    plt.title(c)\n",
        "    plt.show()"
      ],
      "metadata": {
        "colab": {
          "base_uri": "https://localhost:8080/",
          "height": 1000
        },
        "id": "M5s8q5P1NDlP",
        "outputId": "f15eb36a-446d-4b6c-f7fd-0d64a1401f0b"
      },
      "execution_count": 17,
      "outputs": [
        {
          "output_type": "display_data",
          "data": {
            "text/plain": [
              "<Figure size 360x360 with 1 Axes>"
            ],
            "image/png": "[encoded data removed]"
          },
          "metadata": {
            "needs_background": "light"
          }
        },
        {
          "output_type": "display_data",
          "data": {
            "text/plain": [
              "<Figure size 360x360 with 1 Axes>"
            ],
            "image/png": "[encoded data removed]"
          },
          "metadata": {
            "needs_background": "light"
          }
        },
        {
          "output_type": "display_data",
          "data": {
            "text/plain": [
              "<Figure size 360x360 with 1 Axes>"
            ],
            "image/png": "[encoded data removed]"
          },
          "metadata": {
            "needs_background": "light"
          }
        },
        {
          "output_type": "display_data",
          "data": {
            "text/plain": [
              "<Figure size 360x360 with 1 Axes>"
            ],
            "image/png": "[encoded data removed]"
          },
          "metadata": {
            "needs_background": "light"
          }
        },
        {
          "output_type": "display_data",
          "data": {
            "text/plain": [
              "<Figure size 360x360 with 1 Axes>"
            ],
            "image/png": "[encoded data removed]"
          },
          "metadata": {
            "needs_background": "light"
          }
        },
        {
          "output_type": "display_data",
          "data": {
            "text/plain": [
              "<Figure size 360x360 with 1 Axes>"
            ],
            "image/png": "[encoded data removed]"
          },
          "metadata": {
            "needs_background": "light"
          }
        },
        {
          "output_type": "display_data",
          "data": {
            "text/plain": [
              "<Figure size 360x360 with 1 Axes>"
            ],
            "image/png": "[encoded data removed]"
          },
          "metadata": {
            "needs_background": "light"
          }
        },
        {
          "output_type": "display_data",
          "data": {
            "text/plain": [
              "<Figure size 360x360 with 1 Axes>"
            ],
            "image/png": "[encoded data removed]"
          },
          "metadata": {
            "needs_background": "light"
          }
        },
        {
          "output_type": "display_data",
          "data": {
            "text/plain": [
              "<Figure size 360x360 with 1 Axes>"
            ],
            "image/png": "[encoded data removed]"
          },
          "metadata": {
            "needs_background": "light"
          }
        },
        {
          "output_type": "display_data",
          "data": {
            "text/plain": [
              "<Figure size 360x360 with 1 Axes>"
            ],
            "image/png": "[encoded data removed]"
          },
          "metadata": {
            "needs_background": "light"
          }
        },
        {
          "output_type": "display_data",
          "data": {
            "text/plain": [
              "<Figure size 360x360 with 1 Axes>"
            ],
            "image/png": "[encoded data removed]"
          },
          "metadata": {
            "needs_background": "light"
          }
        },
        {
          "output_type": "display_data",
          "data": {
            "text/plain": [
              "<Figure size 360x360 with 1 Axes>"
            ],
            "image/png": "[encoded data removed]"
          },
          "metadata": {
            "needs_background": "light"
          }
        },
        {
          "output_type": "display_data",
          "data": {
            "text/plain": [
              "<Figure size 360x360 with 1 Axes>"
            ],
            "image/png": "[encoded data removed]"
          },
          "metadata": {
            "needs_background": "light"
          }
        }
      ]
    },
    {
      "cell_type": "code",
      "source": [
        "df.age.value_counts().plot(kind='bar')"
      ],
      "metadata": {
        "colab": {
          "base_uri": "https://localhost:8080/",
          "height": 315
        },
        "id": "c7-tBFuVNGnZ",
        "outputId": "9276c81b-8928-41cb-905e-ceaa62091dec"
      },
      "execution_count": 18,
      "outputs": [
        {
          "output_type": "execute_result",
          "data": {
            "text/plain": [
              "<Axes: >"
            ]
          },
          "metadata": {},
          "execution_count": 18
        },
        {
          "output_type": "display_data",
          "data": {
            "text/plain": [
              "<Figure size 432x288 with 1 Axes>"
            ],
            "image/png": "[encoded data removed]"
          },
          "metadata": {
            "needs_background": "light"
          }
        }
      ]
    },
    {
      "cell_type": "code",
      "source": [
        "df.gender.unique()"
      ],
      "metadata": {
        "colab": {
          "base_uri": "https://localhost:8080/"
        },
        "id": "RPGf-vnONYN7",
        "outputId": "00511f63-81f8-46e4-efce-b288873017ab"
      },
      "execution_count": 19,
      "outputs": [
        {
          "output_type": "execute_result",
          "data": {
            "text/plain": [
              "array(['Female', 'Male', 'Unknown/Invalid'], dtype=object)"
            ]
          },
          "metadata": {},
          "execution_count": 19
        }
      ]
    },
    {
      "cell_type": "code",
      "source": [
        "df.gender.value_counts().plot(kind=\"bar\")"
      ],
      "metadata": {
        "colab": {
          "base_uri": "https://localhost:8080/",
          "height": 355
        },
        "id": "8CnGqLp1Nhou",
        "outputId": "0856e001-02a8-46c1-e0c5-9bf85a3a6ea9"
      },
      "execution_count": 20,
      "outputs": [
        {
          "output_type": "execute_result",
          "data": {
            "text/plain": [
              "<Axes: >"
            ]
          },
          "metadata": {},
          "execution_count": 20
        },
        {
          "output_type": "display_data",
          "data": {
            "text/plain": [
              "<Figure size 432x288 with 1 Axes>"
            ],
            "image/png": "[encoded data removed]"
          },
          "metadata": {
            "needs_background": "light"
          }
        }
      ]
    },
    {
      "cell_type": "code",
      "source": [
        "pd.DataFrame({'cardinality': df.nunique() } )"
      ],
      "metadata": {
        "colab": {
          "base_uri": "https://localhost:8080/",
          "height": 865
        },
        "id": "2UAaWkYsNj37",
        "outputId": "9595d1df-a53d-42b9-f9a8-c89e80c1522d"
      },
      "execution_count": 21,
      "outputs": [
        {
          "output_type": "execute_result",
          "data": {
            "text/plain": [
              "                          cardinality\n",
              "encounter_id                   101766\n",
              "patient_nbr                     71518\n",
              "race                                6\n",
              "gender                              3\n",
              "age                                10\n",
              "weight                             10\n",
              "admission_type_id                   8\n",
              "discharge_disposition_id           26\n",
              "admission_source_id                17\n",
              "time_in_hospital                   14\n",
              "payer_code                         18\n",
              "medical_specialty                  73\n",
              "primary_diagnosis_code            717\n",
              "other_diagnosis_codes           19374\n",
              "number_outpatient                  39\n",
              "number_inpatient                   21\n",
              "number_emergency                   33\n",
              "num_lab_procedures                118\n",
              "number_diagnoses                   16\n",
              "num_medications                    75\n",
              "num_procedures                      7\n",
              "ndc_code                          251\n",
              "max_glu_serum                       4\n",
              "A1Cresult                           4\n",
              "change                              2\n",
              "readmitted                          3"
            ],
            "text/html": [
              "\n",
              "  <div id=\"df-40c949ff-894b-4a55-ad2c-e2c7890064f2\">\n",
              "    <div class=\"colab-df-container\">\n",
              "      <div>\n",
              "<style scoped>\n",
              "    .dataframe tbody tr th:only-of-type {\n",
              "        vertical-align: middle;\n",
              "    }\n",
              "\n",
              "    .dataframe tbody tr th {\n",
              "        vertical-align: top;\n",
              "    }\n",
              "\n",
              "    .dataframe thead th {\n",
              "        text-align: right;\n",
              "    }\n",
              "</style>\n",
              "<table border=\"1\" class=\"dataframe\">\n",
              "  <thead>\n",
              "    <tr style=\"text-align: right;\">\n",
              "      <th></th>\n",
              "      <th>cardinality</th>\n",
              "    </tr>\n",
              "  </thead>\n",
              "  <tbody>\n",
              "    <tr>\n",
              "      <th>encounter_id</th>\n",
              "      <td>101766</td>\n",
              "    </tr>\n",
              "    <tr>\n",
              "      <th>patient_nbr</th>\n",
              "      <td>71518</td>\n",
              "    </tr>\n",
              "    <tr>\n",
              "      <th>race</th>\n",
              "      <td>6</td>\n",
              "    </tr>\n",
              "    <tr>\n",
              "      <th>gender</th>\n",
              "      <td>3</td>\n",
              "    </tr>\n",
              "    <tr>\n",
              "      <th>age</th>\n",
              "      <td>10</td>\n",
              "    </tr>\n",
              "    <tr>\n",
              "      <th>weight</th>\n",
              "      <td>10</td>\n",
              "    </tr>\n",
              "    <tr>\n",
              "      <th>admission_type_id</th>\n",
              "      <td>8</td>\n",
              "    </tr>\n",
              "    <tr>\n",
              "      <th>discharge_disposition_id</th>\n",
              "      <td>26</td>\n",
              "    </tr>\n",
              "    <tr>\n",
              "      <th>admission_source_id</th>\n",
              "      <td>17</td>\n",
              "    </tr>\n",
              "    <tr>\n",
              "      <th>time_in_hospital</th>\n",
              "      <td>14</td>\n",
              "    </tr>\n",
              "    <tr>\n",
              "      <th>payer_code</th>\n",
              "      <td>18</td>\n",
              "    </tr>\n",
              "    <tr>\n",
              "      <th>medical_specialty</th>\n",
              "      <td>73</td>\n",
              "    </tr>\n",
              "    <tr>\n",
              "      <th>primary_diagnosis_code</th>\n",
              "      <td>717</td>\n",
              "    </tr>\n",
              "    <tr>\n",
              "      <th>other_diagnosis_codes</th>\n",
              "      <td>19374</td>\n",
              "    </tr>\n",
              "    <tr>\n",
              "      <th>number_outpatient</th>\n",
              "      <td>39</td>\n",
              "    </tr>\n",
              "    <tr>\n",
              "      <th>number_inpatient</th>\n",
              "      <td>21</td>\n",
              "    </tr>\n",
              "    <tr>\n",
              "      <th>number_emergency</th>\n",
              "      <td>33</td>\n",
              "    </tr>\n",
              "    <tr>\n",
              "      <th>num_lab_procedures</th>\n",
              "      <td>118</td>\n",
              "    </tr>\n",
              "    <tr>\n",
              "      <th>number_diagnoses</th>\n",
              "      <td>16</td>\n",
              "    </tr>\n",
              "    <tr>\n",
              "      <th>num_medications</th>\n",
              "      <td>75</td>\n",
              "    </tr>\n",
              "    <tr>\n",
              "      <th>num_procedures</th>\n",
              "      <td>7</td>\n",
              "    </tr>\n",
              "    <tr>\n",
              "      <th>ndc_code</th>\n",
              "      <td>251</td>\n",
              "    </tr>\n",
              "    <tr>\n",
              "      <th>max_glu_serum</th>\n",
              "      <td>4</td>\n",
              "    </tr>\n",
              "    <tr>\n",
              "      <th>A1Cresult</th>\n",
              "      <td>4</td>\n",
              "    </tr>\n",
              "    <tr>\n",
              "      <th>change</th>\n",
              "      <td>2</td>\n",
              "    </tr>\n",
              "    <tr>\n",
              "      <th>readmitted</th>\n",
              "      <td>3</td>\n",
              "    </tr>\n",
              "  </tbody>\n",
              "</table>\n",
              "</div>\n",
              "      <button class=\"colab-df-convert\" onclick=\"convertToInteractive('df-40c949ff-894b-4a55-ad2c-e2c7890064f2')\"\n",
              "              title=\"Convert this dataframe to an interactive table.\"\n",
              "              style=\"display:none;\">\n",
              "        \n",
              "  <svg xmlns=\"http://www.w3.org/2000/svg\" height=\"24px\"viewBox=\"0 0 24 24\"\n",
              "       width=\"24px\">\n",
              "    <path d=\"M0 0h24v24H0V0z\" fill=\"none\"/>\n",
              "    <path d=\"M18.56 5.44l.94 2.06.94-2.06 2.06-.94-2.06-.94-.94-2.06-.94 2.06-2.06.94zm-11 1L8.5 8.5l.94-2.06 2.06-.94-2.06-.94L8.5 2.5l-.94 2.06-2.06.94zm10 10l.94 2.06.94-2.06 2.06-.94-2.06-.94-.94-2.06-.94 2.06-2.06.94z\"/><path d=\"M17.41 7.96l-1.37-1.37c-.4-.4-.92-.59-1.43-.59-.52 0-1.04.2-1.43.59L10.3 9.45l-7.72 7.72c-.78.78-.78 2.05 0 2.83L4 21.41c.39.39.9.59 1.41.59.51 0 1.02-.2 1.41-.59l7.78-7.78 2.81-2.81c.8-.78.8-2.07 0-2.86zM5.41 20L4 18.59l7.72-7.72 1.47 1.35L5.41 20z\"/>\n",
              "  </svg>\n",
              "      </button>\n",
              "      \n",
              "  <style>\n",
              "    .colab-df-container {\n",
              "      display:flex;\n",
              "      flex-wrap:wrap;\n",
              "      gap: 12px;\n",
              "    }\n",
              "\n",
              "    .colab-df-convert {\n",
              "      background-color: #E8F0FE;\n",
              "      border: none;\n",
              "      border-radius: 50%;\n",
              "      cursor: pointer;\n",
              "      display: none;\n",
              "      fill: #1967D2;\n",
              "      height: 32px;\n",
              "      padding: 0 0 0 0;\n",
              "      width: 32px;\n",
              "    }\n",
              "\n",
              "    .colab-df-convert:hover {\n",
              "      background-color: #E2EBFA;\n",
              "      box-shadow: 0px 1px 2px rgba(60, 64, 67, 0.3), 0px 1px 3px 1px rgba(60, 64, 67, 0.15);\n",
              "      fill: #174EA6;\n",
              "    }\n",
              "\n",
              "    [theme=dark] .colab-df-convert {\n",
              "      background-color: #3B4455;\n",
              "      fill: #D2E3FC;\n",
              "    }\n",
              "\n",
              "    [theme=dark] .colab-df-convert:hover {\n",
              "      background-color: #434B5C;\n",
              "      box-shadow: 0px 1px 3px 1px rgba(0, 0, 0, 0.15);\n",
              "      filter: drop-shadow(0px 1px 2px rgba(0, 0, 0, 0.3));\n",
              "      fill: #FFFFFF;\n",
              "    }\n",
              "  </style>\n",
              "\n",
              "      <script>\n",
              "        const buttonEl =\n",
              "          document.querySelector('#df-40c949ff-894b-4a55-ad2c-e2c7890064f2 button.colab-df-convert');\n",
              "        buttonEl.style.display =\n",
              "          google.colab.kernel.accessAllowed ? 'block' : 'none';\n",
              "\n",
              "        async function convertToInteractive(key) {\n",
              "          const element = document.querySelector('#df-40c949ff-894b-4a55-ad2c-e2c7890064f2');\n",
              "          const dataTable =\n",
              "            await google.colab.kernel.invokeFunction('convertToInteractive',\n",
              "                                                     [key], {});\n",
              "          if (!dataTable) return;\n",
              "\n",
              "          const docLinkHtml = 'Like what you see? Visit the ' +\n",
              "            '<a target=\"_blank\" href=https://colab.research.google.com/notebooks/data_table.ipynb>data table notebook</a>'\n",
              "            + ' to learn more about interactive tables.';\n",
              "          element.innerHTML = '';\n",
              "          dataTable['output_type'] = 'display_data';\n",
              "          await google.colab.output.renderOutput(dataTable, element);\n",
              "          const docLink = document.createElement('div');\n",
              "          docLink.innerHTML = docLinkHtml;\n",
              "          element.appendChild(docLink);\n",
              "        }\n",
              "      </script>\n",
              "    </div>\n",
              "  </div>\n",
              "  "
            ]
          },
          "metadata": {},
          "execution_count": 21
        }
      ]
    },
    {
      "cell_type": "markdown",
      "source": [
        "# Reduce Dimensionality of the NDC Code Feature\n",
        "\n",
        "NDC codes are a common format to represent the wide variety of drugs that are prescribed for patient care in the United States. The challenge is that there are many codes that map to the same or similar drug. We are provided with the ndc drug lookup file  derived from the National Drug Codes List site(https://ndclist.com/). We use this file to come up with a way to reduce the dimensionality of this field and create a new field in the dataset called \"generic_drug_name\" in the output dataframe."
      ],
      "metadata": {
        "id": "10VusjDSOUvW"
      }
    },
    {
      "cell_type": "code",
      "source": [
        "#NDC code lookup file\n",
        "ndc_code_path = \"/content/final_ndc_lookup_table\"\n",
        "ndc_code_df = pd.read_csv(ndc_code_path)"
      ],
      "metadata": {
        "id": "4eKY8jcIOkOj"
      },
      "execution_count": 22,
      "outputs": []
    },
    {
      "cell_type": "code",
      "source": [
        "from student_utils import reduce_dimension_ndc"
      ],
      "metadata": {
        "id": "N_m4lKYvQD9O"
      },
      "execution_count": 23,
      "outputs": []
    },
    {
      "cell_type": "code",
      "source": [
        "df.ndc_code"
      ],
      "metadata": {
        "colab": {
          "base_uri": "https://localhost:8080/"
        },
        "id": "nmqop8W5QJHj",
        "outputId": "5a3cfbe4-a4e0-43f4-daf2-3ce548e962c4"
      },
      "execution_count": 25,
      "outputs": [
        {
          "output_type": "execute_result",
          "data": {
            "text/plain": [
              "0                NaN\n",
              "1         68071-1701\n",
              "2          0378-1110\n",
              "3         68071-1701\n",
              "4          0049-4110\n",
              "             ...    \n",
              "143419     47918-902\n",
              "143420     0049-4110\n",
              "143421     0781-5421\n",
              "143422     47918-902\n",
              "143423           NaN\n",
              "Name: ndc_code, Length: 143424, dtype: object"
            ]
          },
          "metadata": {},
          "execution_count": 25
        }
      ]
    },
    {
      "cell_type": "code",
      "source": [
        "ndc_code_df.head()"
      ],
      "metadata": {
        "colab": {
          "base_uri": "https://localhost:8080/",
          "height": 206
        },
        "id": "IzHLc2jYQJ5n",
        "outputId": "90bac092-ffdb-438c-d131-5b71b8518c5a"
      },
      "execution_count": 26,
      "outputs": [
        {
          "output_type": "execute_result",
          "data": {
            "text/plain": [
              "    NDC_Code Proprietary Name     Non-proprietary Name  \\\n",
              "0  0087-6060       Glucophage  Metformin Hydrochloride   \n",
              "1  0087-6063    Glucophage XR  Metformin Hydrochloride   \n",
              "2  0087-6064    Glucophage XR  Metformin Hydrochloride   \n",
              "3  0087-6070       Glucophage  Metformin Hydrochloride   \n",
              "4  0087-6071       Glucophage  Metformin Hydrochloride   \n",
              "\n",
              "                Dosage Form Route Name                  Company Name  \\\n",
              "0       Tablet, Film Coated       Oral  Bristol-myers Squibb Company   \n",
              "1  Tablet, Extended Release       Oral  Bristol-myers Squibb Company   \n",
              "2  Tablet, Extended Release       Oral  Bristol-myers Squibb Company   \n",
              "3       Tablet, Film Coated       Oral  Bristol-myers Squibb Company   \n",
              "4       Tablet, Film Coated       Oral  Bristol-myers Squibb Company   \n",
              "\n",
              "              Product Type  \n",
              "0  Human Prescription Drug  \n",
              "1  Human Prescription Drug  \n",
              "2  Human Prescription Drug  \n",
              "3  Human Prescription Drug  \n",
              "4  Human Prescription Drug  "
            ],
            "text/html": [
              "\n",
              "  <div id=\"df-f50c2256-8a29-44c6-93f5-53c5559440bc\">\n",
              "    <div class=\"colab-df-container\">\n",
              "      <div>\n",
              "<style scoped>\n",
              "    .dataframe tbody tr th:only-of-type {\n",
              "        vertical-align: middle;\n",
              "    }\n",
              "\n",
              "    .dataframe tbody tr th {\n",
              "        vertical-align: top;\n",
              "    }\n",
              "\n",
              "    .dataframe thead th {\n",
              "        text-align: right;\n",
              "    }\n",
              "</style>\n",
              "<table border=\"1\" class=\"dataframe\">\n",
              "  <thead>\n",
              "    <tr style=\"text-align: right;\">\n",
              "      <th></th>\n",
              "      <th>NDC_Code</th>\n",
              "      <th>Proprietary Name</th>\n",
              "      <th>Non-proprietary Name</th>\n",
              "      <th>Dosage Form</th>\n",
              "      <th>Route Name</th>\n",
              "      <th>Company Name</th>\n",
              "      <th>Product Type</th>\n",
              "    </tr>\n",
              "  </thead>\n",
              "  <tbody>\n",
              "    <tr>\n",
              "      <th>0</th>\n",
              "      <td>0087-6060</td>\n",
              "      <td>Glucophage</td>\n",
              "      <td>Metformin Hydrochloride</td>\n",
              "      <td>Tablet, Film Coated</td>\n",
              "      <td>Oral</td>\n",
              "      <td>Bristol-myers Squibb Company</td>\n",
              "      <td>Human Prescription Drug</td>\n",
              "    </tr>\n",
              "    <tr>\n",
              "      <th>1</th>\n",
              "      <td>0087-6063</td>\n",
              "      <td>Glucophage XR</td>\n",
              "      <td>Metformin Hydrochloride</td>\n",
              "      <td>Tablet, Extended Release</td>\n",
              "      <td>Oral</td>\n",
              "      <td>Bristol-myers Squibb Company</td>\n",
              "      <td>Human Prescription Drug</td>\n",
              "    </tr>\n",
              "    <tr>\n",
              "      <th>2</th>\n",
              "      <td>0087-6064</td>\n",
              "      <td>Glucophage XR</td>\n",
              "      <td>Metformin Hydrochloride</td>\n",
              "      <td>Tablet, Extended Release</td>\n",
              "      <td>Oral</td>\n",
              "      <td>Bristol-myers Squibb Company</td>\n",
              "      <td>Human Prescription Drug</td>\n",
              "    </tr>\n",
              "    <tr>\n",
              "      <th>3</th>\n",
              "      <td>0087-6070</td>\n",
              "      <td>Glucophage</td>\n",
              "      <td>Metformin Hydrochloride</td>\n",
              "      <td>Tablet, Film Coated</td>\n",
              "      <td>Oral</td>\n",
              "      <td>Bristol-myers Squibb Company</td>\n",
              "      <td>Human Prescription Drug</td>\n",
              "    </tr>\n",
              "    <tr>\n",
              "      <th>4</th>\n",
              "      <td>0087-6071</td>\n",
              "      <td>Glucophage</td>\n",
              "      <td>Metformin Hydrochloride</td>\n",
              "      <td>Tablet, Film Coated</td>\n",
              "      <td>Oral</td>\n",
              "      <td>Bristol-myers Squibb Company</td>\n",
              "      <td>Human Prescription Drug</td>\n",
              "    </tr>\n",
              "  </tbody>\n",
              "</table>\n",
              "</div>\n",
              "      <button class=\"colab-df-convert\" onclick=\"convertToInteractive('df-f50c2256-8a29-44c6-93f5-53c5559440bc')\"\n",
              "              title=\"Convert this dataframe to an interactive table.\"\n",
              "              style=\"display:none;\">\n",
              "        \n",
              "  <svg xmlns=\"http://www.w3.org/2000/svg\" height=\"24px\"viewBox=\"0 0 24 24\"\n",
              "       width=\"24px\">\n",
              "    <path d=\"M0 0h24v24H0V0z\" fill=\"none\"/>\n",
              "    <path d=\"M18.56 5.44l.94 2.06.94-2.06 2.06-.94-2.06-.94-.94-2.06-.94 2.06-2.06.94zm-11 1L8.5 8.5l.94-2.06 2.06-.94-2.06-.94L8.5 2.5l-.94 2.06-2.06.94zm10 10l.94 2.06.94-2.06 2.06-.94-2.06-.94-.94-2.06-.94 2.06-2.06.94z\"/><path d=\"M17.41 7.96l-1.37-1.37c-.4-.4-.92-.59-1.43-.59-.52 0-1.04.2-1.43.59L10.3 9.45l-7.72 7.72c-.78.78-.78 2.05 0 2.83L4 21.41c.39.39.9.59 1.41.59.51 0 1.02-.2 1.41-.59l7.78-7.78 2.81-2.81c.8-.78.8-2.07 0-2.86zM5.41 20L4 18.59l7.72-7.72 1.47 1.35L5.41 20z\"/>\n",
              "  </svg>\n",
              "      </button>\n",
              "      \n",
              "  <style>\n",
              "    .colab-df-container {\n",
              "      display:flex;\n",
              "      flex-wrap:wrap;\n",
              "      gap: 12px;\n",
              "    }\n",
              "\n",
              "    .colab-df-convert {\n",
              "      background-color: #E8F0FE;\n",
              "      border: none;\n",
              "      border-radius: 50%;\n",
              "      cursor: pointer;\n",
              "      display: none;\n",
              "      fill: #1967D2;\n",
              "      height: 32px;\n",
              "      padding: 0 0 0 0;\n",
              "      width: 32px;\n",
              "    }\n",
              "\n",
              "    .colab-df-convert:hover {\n",
              "      background-color: #E2EBFA;\n",
              "      box-shadow: 0px 1px 2px rgba(60, 64, 67, 0.3), 0px 1px 3px 1px rgba(60, 64, 67, 0.15);\n",
              "      fill: #174EA6;\n",
              "    }\n",
              "\n",
              "    [theme=dark] .colab-df-convert {\n",
              "      background-color: #3B4455;\n",
              "      fill: #D2E3FC;\n",
              "    }\n",
              "\n",
              "    [theme=dark] .colab-df-convert:hover {\n",
              "      background-color: #434B5C;\n",
              "      box-shadow: 0px 1px 3px 1px rgba(0, 0, 0, 0.15);\n",
              "      filter: drop-shadow(0px 1px 2px rgba(0, 0, 0, 0.3));\n",
              "      fill: #FFFFFF;\n",
              "    }\n",
              "  </style>\n",
              "\n",
              "      <script>\n",
              "        const buttonEl =\n",
              "          document.querySelector('#df-f50c2256-8a29-44c6-93f5-53c5559440bc button.colab-df-convert');\n",
              "        buttonEl.style.display =\n",
              "          google.colab.kernel.accessAllowed ? 'block' : 'none';\n",
              "\n",
              "        async function convertToInteractive(key) {\n",
              "          const element = document.querySelector('#df-f50c2256-8a29-44c6-93f5-53c5559440bc');\n",
              "          const dataTable =\n",
              "            await google.colab.kernel.invokeFunction('convertToInteractive',\n",
              "                                                     [key], {});\n",
              "          if (!dataTable) return;\n",
              "\n",
              "          const docLinkHtml = 'Like what you see? Visit the ' +\n",
              "            '<a target=\"_blank\" href=https://colab.research.google.com/notebooks/data_table.ipynb>data table notebook</a>'\n",
              "            + ' to learn more about interactive tables.';\n",
              "          element.innerHTML = '';\n",
              "          dataTable['output_type'] = 'display_data';\n",
              "          await google.colab.output.renderOutput(dataTable, element);\n",
              "          const docLink = document.createElement('div');\n",
              "          docLink.innerHTML = docLinkHtml;\n",
              "          element.appendChild(docLink);\n",
              "        }\n",
              "      </script>\n",
              "    </div>\n",
              "  </div>\n",
              "  "
            ]
          },
          "metadata": {},
          "execution_count": 26
        }
      ]
    },
    {
      "cell_type": "code",
      "source": [
        "ndc_code_df"
      ],
      "metadata": {
        "colab": {
          "base_uri": "https://localhost:8080/",
          "height": 659
        },
        "id": "Bzc-yynnQPwT",
        "outputId": "e60d6290-75a4-43c8-fe33-b6b3c7852507"
      },
      "execution_count": 27,
      "outputs": [
        {
          "output_type": "execute_result",
          "data": {
            "text/plain": [
              "      NDC_Code                            Proprietary Name  \\\n",
              "0    0087-6060                                  Glucophage   \n",
              "1    0087-6063                               Glucophage XR   \n",
              "2    0087-6064                               Glucophage XR   \n",
              "3    0087-6070                                  Glucophage   \n",
              "4    0087-6071                                  Glucophage   \n",
              "..         ...                                         ...   \n",
              "264  0781-5635  Pioglitazone Hydrochloride And Glimepiride   \n",
              "265  64764-302                                     Duetact   \n",
              "266  64764-304                                     Duetact   \n",
              "267  66993-821                Pioglitazone And Glimepiride   \n",
              "268  66993-822                Pioglitazone And Glimepiride   \n",
              "\n",
              "                           Non-proprietary Name               Dosage Form  \\\n",
              "0                       Metformin Hydrochloride       Tablet, Film Coated   \n",
              "1                       Metformin Hydrochloride  Tablet, Extended Release   \n",
              "2                       Metformin Hydrochloride  Tablet, Extended Release   \n",
              "3                       Metformin Hydrochloride       Tablet, Film Coated   \n",
              "4                       Metformin Hydrochloride       Tablet, Film Coated   \n",
              "..                                          ...                       ...   \n",
              "264  Pioglitazone Hydrochloride And Glimepiride                    Tablet   \n",
              "265                Pioglitazone And Glimepiride                    Tablet   \n",
              "266                Pioglitazone And Glimepiride                    Tablet   \n",
              "267                Pioglitazone And Glimepiride                    Tablet   \n",
              "268                Pioglitazone And Glimepiride                    Tablet   \n",
              "\n",
              "    Route Name                          Company Name             Product Type  \n",
              "0         Oral          Bristol-myers Squibb Company  Human Prescription Drug  \n",
              "1         Oral          Bristol-myers Squibb Company  Human Prescription Drug  \n",
              "2         Oral          Bristol-myers Squibb Company  Human Prescription Drug  \n",
              "3         Oral          Bristol-myers Squibb Company  Human Prescription Drug  \n",
              "4         Oral          Bristol-myers Squibb Company  Human Prescription Drug  \n",
              "..         ...                                   ...                      ...  \n",
              "264       Oral                            Sandoz Inc  Human Prescription Drug  \n",
              "265       Oral  Takeda Pharmaceuticals America, Inc.  Human Prescription Drug  \n",
              "266       Oral  Takeda Pharmaceuticals America, Inc.  Human Prescription Drug  \n",
              "267       Oral                   Prasco Laboratories  Human Prescription Drug  \n",
              "268       Oral                   Prasco Laboratories  Human Prescription Drug  \n",
              "\n",
              "[269 rows x 7 columns]"
            ],
            "text/html": [
              "\n",
              "  <div id=\"df-7100f680-ee65-44ee-82de-9ae457601a66\">\n",
              "    <div class=\"colab-df-container\">\n",
              "      <div>\n",
              "<style scoped>\n",
              "    .dataframe tbody tr th:only-of-type {\n",
              "        vertical-align: middle;\n",
              "    }\n",
              "\n",
              "    .dataframe tbody tr th {\n",
              "        vertical-align: top;\n",
              "    }\n",
              "\n",
              "    .dataframe thead th {\n",
              "        text-align: right;\n",
              "    }\n",
              "</style>\n",
              "<table border=\"1\" class=\"dataframe\">\n",
              "  <thead>\n",
              "    <tr style=\"text-align: right;\">\n",
              "      <th></th>\n",
              "      <th>NDC_Code</th>\n",
              "      <th>Proprietary Name</th>\n",
              "      <th>Non-proprietary Name</th>\n",
              "      <th>Dosage Form</th>\n",
              "      <th>Route Name</th>\n",
              "      <th>Company Name</th>\n",
              "      <th>Product Type</th>\n",
              "    </tr>\n",
              "  </thead>\n",
              "  <tbody>\n",
              "    <tr>\n",
              "      <th>0</th>\n",
              "      <td>0087-6060</td>\n",
              "      <td>Glucophage</td>\n",
              "      <td>Metformin Hydrochloride</td>\n",
              "      <td>Tablet, Film Coated</td>\n",
              "      <td>Oral</td>\n",
              "      <td>Bristol-myers Squibb Company</td>\n",
              "      <td>Human Prescription Drug</td>\n",
              "    </tr>\n",
              "    <tr>\n",
              "      <th>1</th>\n",
              "      <td>0087-6063</td>\n",
              "      <td>Glucophage XR</td>\n",
              "      <td>Metformin Hydrochloride</td>\n",
              "      <td>Tablet, Extended Release</td>\n",
              "      <td>Oral</td>\n",
              "      <td>Bristol-myers Squibb Company</td>\n",
              "      <td>Human Prescription Drug</td>\n",
              "    </tr>\n",
              "    <tr>\n",
              "      <th>2</th>\n",
              "      <td>0087-6064</td>\n",
              "      <td>Glucophage XR</td>\n",
              "      <td>Metformin Hydrochloride</td>\n",
              "      <td>Tablet, Extended Release</td>\n",
              "      <td>Oral</td>\n",
              "      <td>Bristol-myers Squibb Company</td>\n",
              "      <td>Human Prescription Drug</td>\n",
              "    </tr>\n",
              "    <tr>\n",
              "      <th>3</th>\n",
              "      <td>0087-6070</td>\n",
              "      <td>Glucophage</td>\n",
              "      <td>Metformin Hydrochloride</td>\n",
              "      <td>Tablet, Film Coated</td>\n",
              "      <td>Oral</td>\n",
              "      <td>Bristol-myers Squibb Company</td>\n",
              "      <td>Human Prescription Drug</td>\n",
              "    </tr>\n",
              "    <tr>\n",
              "      <th>4</th>\n",
              "      <td>0087-6071</td>\n",
              "      <td>Glucophage</td>\n",
              "      <td>Metformin Hydrochloride</td>\n",
              "      <td>Tablet, Film Coated</td>\n",
              "      <td>Oral</td>\n",
              "      <td>Bristol-myers Squibb Company</td>\n",
              "      <td>Human Prescription Drug</td>\n",
              "    </tr>\n",
              "    <tr>\n",
              "      <th>...</th>\n",
              "      <td>...</td>\n",
              "      <td>...</td>\n",
              "      <td>...</td>\n",
              "      <td>...</td>\n",
              "      <td>...</td>\n",
              "      <td>...</td>\n",
              "      <td>...</td>\n",
              "    </tr>\n",
              "    <tr>\n",
              "      <th>264</th>\n",
              "      <td>0781-5635</td>\n",
              "      <td>Pioglitazone Hydrochloride And Glimepiride</td>\n",
              "      <td>Pioglitazone Hydrochloride And Glimepiride</td>\n",
              "      <td>Tablet</td>\n",
              "      <td>Oral</td>\n",
              "      <td>Sandoz Inc</td>\n",
              "      <td>Human Prescription Drug</td>\n",
              "    </tr>\n",
              "    <tr>\n",
              "      <th>265</th>\n",
              "      <td>64764-302</td>\n",
              "      <td>Duetact</td>\n",
              "      <td>Pioglitazone And Glimepiride</td>\n",
              "      <td>Tablet</td>\n",
              "      <td>Oral</td>\n",
              "      <td>Takeda Pharmaceuticals America, Inc.</td>\n",
              "      <td>Human Prescription Drug</td>\n",
              "    </tr>\n",
              "    <tr>\n",
              "      <th>266</th>\n",
              "      <td>64764-304</td>\n",
              "      <td>Duetact</td>\n",
              "      <td>Pioglitazone And Glimepiride</td>\n",
              "      <td>Tablet</td>\n",
              "      <td>Oral</td>\n",
              "      <td>Takeda Pharmaceuticals America, Inc.</td>\n",
              "      <td>Human Prescription Drug</td>\n",
              "    </tr>\n",
              "    <tr>\n",
              "      <th>267</th>\n",
              "      <td>66993-821</td>\n",
              "      <td>Pioglitazone And Glimepiride</td>\n",
              "      <td>Pioglitazone And Glimepiride</td>\n",
              "      <td>Tablet</td>\n",
              "      <td>Oral</td>\n",
              "      <td>Prasco Laboratories</td>\n",
              "      <td>Human Prescription Drug</td>\n",
              "    </tr>\n",
              "    <tr>\n",
              "      <th>268</th>\n",
              "      <td>66993-822</td>\n",
              "      <td>Pioglitazone And Glimepiride</td>\n",
              "      <td>Pioglitazone And Glimepiride</td>\n",
              "      <td>Tablet</td>\n",
              "      <td>Oral</td>\n",
              "      <td>Prasco Laboratories</td>\n",
              "      <td>Human Prescription Drug</td>\n",
              "    </tr>\n",
              "  </tbody>\n",
              "</table>\n",
              "<p>269 rows × 7 columns</p>\n",
              "</div>\n",
              "      <button class=\"colab-df-convert\" onclick=\"convertToInteractive('df-7100f680-ee65-44ee-82de-9ae457601a66')\"\n",
              "              title=\"Convert this dataframe to an interactive table.\"\n",
              "              style=\"display:none;\">\n",
              "        \n",
              "  <svg xmlns=\"http://www.w3.org/2000/svg\" height=\"24px\"viewBox=\"0 0 24 24\"\n",
              "       width=\"24px\">\n",
              "    <path d=\"M0 0h24v24H0V0z\" fill=\"none\"/>\n",
              "    <path d=\"M18.56 5.44l.94 2.06.94-2.06 2.06-.94-2.06-.94-.94-2.06-.94 2.06-2.06.94zm-11 1L8.5 8.5l.94-2.06 2.06-.94-2.06-.94L8.5 2.5l-.94 2.06-2.06.94zm10 10l.94 2.06.94-2.06 2.06-.94-2.06-.94-.94-2.06-.94 2.06-2.06.94z\"/><path d=\"M17.41 7.96l-1.37-1.37c-.4-.4-.92-.59-1.43-.59-.52 0-1.04.2-1.43.59L10.3 9.45l-7.72 7.72c-.78.78-.78 2.05 0 2.83L4 21.41c.39.39.9.59 1.41.59.51 0 1.02-.2 1.41-.59l7.78-7.78 2.81-2.81c.8-.78.8-2.07 0-2.86zM5.41 20L4 18.59l7.72-7.72 1.47 1.35L5.41 20z\"/>\n",
              "  </svg>\n",
              "      </button>\n",
              "      \n",
              "  <style>\n",
              "    .colab-df-container {\n",
              "      display:flex;\n",
              "      flex-wrap:wrap;\n",
              "      gap: 12px;\n",
              "    }\n",
              "\n",
              "    .colab-df-convert {\n",
              "      background-color: #E8F0FE;\n",
              "      border: none;\n",
              "      border-radius: 50%;\n",
              "      cursor: pointer;\n",
              "      display: none;\n",
              "      fill: #1967D2;\n",
              "      height: 32px;\n",
              "      padding: 0 0 0 0;\n",
              "      width: 32px;\n",
              "    }\n",
              "\n",
              "    .colab-df-convert:hover {\n",
              "      background-color: #E2EBFA;\n",
              "      box-shadow: 0px 1px 2px rgba(60, 64, 67, 0.3), 0px 1px 3px 1px rgba(60, 64, 67, 0.15);\n",
              "      fill: #174EA6;\n",
              "    }\n",
              "\n",
              "    [theme=dark] .colab-df-convert {\n",
              "      background-color: #3B4455;\n",
              "      fill: #D2E3FC;\n",
              "    }\n",
              "\n",
              "    [theme=dark] .colab-df-convert:hover {\n",
              "      background-color: #434B5C;\n",
              "      box-shadow: 0px 1px 3px 1px rgba(0, 0, 0, 0.15);\n",
              "      filter: drop-shadow(0px 1px 2px rgba(0, 0, 0, 0.3));\n",
              "      fill: #FFFFFF;\n",
              "    }\n",
              "  </style>\n",
              "\n",
              "      <script>\n",
              "        const buttonEl =\n",
              "          document.querySelector('#df-7100f680-ee65-44ee-82de-9ae457601a66 button.colab-df-convert');\n",
              "        buttonEl.style.display =\n",
              "          google.colab.kernel.accessAllowed ? 'block' : 'none';\n",
              "\n",
              "        async function convertToInteractive(key) {\n",
              "          const element = document.querySelector('#df-7100f680-ee65-44ee-82de-9ae457601a66');\n",
              "          const dataTable =\n",
              "            await google.colab.kernel.invokeFunction('convertToInteractive',\n",
              "                                                     [key], {});\n",
              "          if (!dataTable) return;\n",
              "\n",
              "          const docLinkHtml = 'Like what you see? Visit the ' +\n",
              "            '<a target=\"_blank\" href=https://colab.research.google.com/notebooks/data_table.ipynb>data table notebook</a>'\n",
              "            + ' to learn more about interactive tables.';\n",
              "          element.innerHTML = '';\n",
              "          dataTable['output_type'] = 'display_data';\n",
              "          await google.colab.output.renderOutput(dataTable, element);\n",
              "          const docLink = document.createElement('div');\n",
              "          docLink.innerHTML = docLinkHtml;\n",
              "          element.appendChild(docLink);\n",
              "        }\n",
              "      </script>\n",
              "    </div>\n",
              "  </div>\n",
              "  "
            ]
          },
          "metadata": {},
          "execution_count": 27
        }
      ]
    },
    {
      "cell_type": "code",
      "source": [
        "reduce_dim_df = reduce_dimension_ndc(df, ndc_code_df)\n",
        "reduce_dim_df"
      ],
      "metadata": {
        "colab": {
          "base_uri": "https://localhost:8080/",
          "height": 661
        },
        "id": "T_vckSeDQSca",
        "outputId": "1212c42e-c404-4fff-9d83-4b80f3ec9c17"
      },
      "execution_count": 28,
      "outputs": [
        {
          "output_type": "execute_result",
          "data": {
            "text/plain": [
              "        encounter_id  patient_nbr             race  gender      age weight  \\\n",
              "0            2278392      8222157        Caucasian  Female   [0-10)      ?   \n",
              "1             149190     55629189        Caucasian  Female  [10-20)      ?   \n",
              "2              64410     86047875  AfricanAmerican  Female  [20-30)      ?   \n",
              "3             500364     82442376        Caucasian    Male  [30-40)      ?   \n",
              "4              16680     42519267        Caucasian    Male  [40-50)      ?   \n",
              "...              ...          ...              ...     ...      ...    ...   \n",
              "143477     443854148     41088789        Caucasian    Male  [70-80)      ?   \n",
              "143478     443857166     31693671        Caucasian  Female  [80-90)      ?   \n",
              "143479     443857166     31693671        Caucasian  Female  [80-90)      ?   \n",
              "143480     443857166     31693671        Caucasian  Female  [80-90)      ?   \n",
              "143481     443867222    175429310        Caucasian    Male  [70-80)      ?   \n",
              "\n",
              "        admission_type_id  discharge_disposition_id  admission_source_id  \\\n",
              "0                       6                        25                    1   \n",
              "1                       1                         1                    7   \n",
              "2                       1                         1                    7   \n",
              "3                       1                         1                    7   \n",
              "4                       1                         1                    7   \n",
              "...                   ...                       ...                  ...   \n",
              "143477                  1                         1                    7   \n",
              "143478                  2                         3                    7   \n",
              "143479                  2                         3                    7   \n",
              "143480                  2                         3                    7   \n",
              "143481                  1                         1                    7   \n",
              "\n",
              "        time_in_hospital payer_code         medical_specialty  \\\n",
              "0                      1          ?  Pediatrics-Endocrinology   \n",
              "1                      3          ?                         ?   \n",
              "2                      2          ?                         ?   \n",
              "3                      2          ?                         ?   \n",
              "4                      1          ?                         ?   \n",
              "...                  ...        ...                       ...   \n",
              "143477                 1         MC                         ?   \n",
              "143478                10         MC           Surgery-General   \n",
              "143479                10         MC           Surgery-General   \n",
              "143480                10         MC           Surgery-General   \n",
              "143481                 6          ?                         ?   \n",
              "\n",
              "       primary_diagnosis_code other_diagnosis_codes  number_outpatient  \\\n",
              "0                      250.83                   ?|?                  0   \n",
              "1                         276            250.01|255                  0   \n",
              "2                         648               250|V27                  2   \n",
              "3                           8            250.43|403                  0   \n",
              "4                         197               157|250                  0   \n",
              "...                       ...                   ...                ...   \n",
              "143477                     38               590|296                  1   \n",
              "143478                    996               285|998                  0   \n",
              "143479                    996               285|998                  0   \n",
              "143480                    996               285|998                  0   \n",
              "143481                    530               530|787                  0   \n",
              "\n",
              "        number_inpatient  number_emergency  num_lab_procedures  \\\n",
              "0                      0                 0                  41   \n",
              "1                      0                 0                  59   \n",
              "2                      1                 0                  11   \n",
              "3                      0                 0                  44   \n",
              "4                      0                 0                  51   \n",
              "...                  ...               ...                 ...   \n",
              "143477                 0                 0                  53   \n",
              "143478                 1                 0                  45   \n",
              "143479                 1                 0                  45   \n",
              "143480                 1                 0                  45   \n",
              "143481                 0                 0                  13   \n",
              "\n",
              "        number_diagnoses  num_medications  num_procedures    ndc_code  \\\n",
              "0                      1                1               0         NaN   \n",
              "1                      9               18               0  68071-1701   \n",
              "2                      6               13               5   0378-1110   \n",
              "3                      7               16               1  68071-1701   \n",
              "4                      5                8               0   0049-4110   \n",
              "...                  ...              ...             ...         ...   \n",
              "143477                13                9               0   47918-902   \n",
              "143478                 9               21               2   0049-4110   \n",
              "143479                 9               21               2   0781-5421   \n",
              "143480                 9               21               2   47918-902   \n",
              "143481                 9                3               3         NaN   \n",
              "\n",
              "       max_glu_serum A1Cresult change readmitted    NDC_Code generic_drug_name  \n",
              "0               None      None     No         NO         NaN               NaN  \n",
              "1               None      None     Ch        >30  68071-1701     Human Insulin  \n",
              "2               None      None     No         NO   0378-1110         Glipizide  \n",
              "3               None      None     Ch         NO  68071-1701     Human Insulin  \n",
              "4               None      None     Ch         NO   0049-4110         Glipizide  \n",
              "...              ...       ...    ...        ...         ...               ...  \n",
              "143477          None      None     Ch         NO   47918-902     Insulin Human  \n",
              "143478          None      None     Ch         NO   0049-4110         Glipizide  \n",
              "143479          None      None     Ch         NO   0781-5421      Pioglitazone  \n",
              "143480          None      None     Ch         NO   47918-902     Insulin Human  \n",
              "143481          None      None     No         NO         NaN               NaN  \n",
              "\n",
              "[143482 rows x 28 columns]"
            ],
            "text/html": [
              "\n",
              "  <div id=\"df-862d2091-1c5b-4c9f-938a-b592fbbe27ec\">\n",
              "    <div class=\"colab-df-container\">\n",
              "      <div>\n",
              "<style scoped>\n",
              "    .dataframe tbody tr th:only-of-type {\n",
              "        vertical-align: middle;\n",
              "    }\n",
              "\n",
              "    .dataframe tbody tr th {\n",
              "        vertical-align: top;\n",
              "    }\n",
              "\n",
              "    .dataframe thead th {\n",
              "        text-align: right;\n",
              "    }\n",
              "</style>\n",
              "<table border=\"1\" class=\"dataframe\">\n",
              "  <thead>\n",
              "    <tr style=\"text-align: right;\">\n",
              "      <th></th>\n",
              "      <th>encounter_id</th>\n",
              "      <th>patient_nbr</th>\n",
              "      <th>race</th>\n",
              "      <th>gender</th>\n",
              "      <th>age</th>\n",
              "      <th>weight</th>\n",
              "      <th>admission_type_id</th>\n",
              "      <th>discharge_disposition_id</th>\n",
              "      <th>admission_source_id</th>\n",
              "      <th>time_in_hospital</th>\n",
              "      <th>payer_code</th>\n",
              "      <th>medical_specialty</th>\n",
              "      <th>primary_diagnosis_code</th>\n",
              "      <th>other_diagnosis_codes</th>\n",
              "      <th>number_outpatient</th>\n",
              "      <th>number_inpatient</th>\n",
              "      <th>number_emergency</th>\n",
              "      <th>num_lab_procedures</th>\n",
              "      <th>number_diagnoses</th>\n",
              "      <th>num_medications</th>\n",
              "      <th>num_procedures</th>\n",
              "      <th>ndc_code</th>\n",
              "      <th>max_glu_serum</th>\n",
              "      <th>A1Cresult</th>\n",
              "      <th>change</th>\n",
              "      <th>readmitted</th>\n",
              "      <th>NDC_Code</th>\n",
              "      <th>generic_drug_name</th>\n",
              "    </tr>\n",
              "  </thead>\n",
              "  <tbody>\n",
              "    <tr>\n",
              "      <th>0</th>\n",
              "      <td>2278392</td>\n",
              "      <td>8222157</td>\n",
              "      <td>Caucasian</td>\n",
              "      <td>Female</td>\n",
              "      <td>[0-10)</td>\n",
              "      <td>?</td>\n",
              "      <td>6</td>\n",
              "      <td>25</td>\n",
              "      <td>1</td>\n",
              "      <td>1</td>\n",
              "      <td>?</td>\n",
              "      <td>Pediatrics-Endocrinology</td>\n",
              "      <td>250.83</td>\n",
              "      <td>?|?</td>\n",
              "      <td>0</td>\n",
              "      <td>0</td>\n",
              "      <td>0</td>\n",
              "      <td>41</td>\n",
              "      <td>1</td>\n",
              "      <td>1</td>\n",
              "      <td>0</td>\n",
              "      <td>NaN</td>\n",
              "      <td>None</td>\n",
              "      <td>None</td>\n",
              "      <td>No</td>\n",
              "      <td>NO</td>\n",
              "      <td>NaN</td>\n",
              "      <td>NaN</td>\n",
              "    </tr>\n",
              "    <tr>\n",
              "      <th>1</th>\n",
              "      <td>149190</td>\n",
              "      <td>55629189</td>\n",
              "      <td>Caucasian</td>\n",
              "      <td>Female</td>\n",
              "      <td>[10-20)</td>\n",
              "      <td>?</td>\n",
              "      <td>1</td>\n",
              "      <td>1</td>\n",
              "      <td>7</td>\n",
              "      <td>3</td>\n",
              "      <td>?</td>\n",
              "      <td>?</td>\n",
              "      <td>276</td>\n",
              "      <td>250.01|255</td>\n",
              "      <td>0</td>\n",
              "      <td>0</td>\n",
              "      <td>0</td>\n",
              "      <td>59</td>\n",
              "      <td>9</td>\n",
              "      <td>18</td>\n",
              "      <td>0</td>\n",
              "      <td>68071-1701</td>\n",
              "      <td>None</td>\n",
              "      <td>None</td>\n",
              "      <td>Ch</td>\n",
              "      <td>&gt;30</td>\n",
              "      <td>68071-1701</td>\n",
              "      <td>Human Insulin</td>\n",
              "    </tr>\n",
              "    <tr>\n",
              "      <th>2</th>\n",
              "      <td>64410</td>\n",
              "      <td>86047875</td>\n",
              "      <td>AfricanAmerican</td>\n",
              "      <td>Female</td>\n",
              "      <td>[20-30)</td>\n",
              "      <td>?</td>\n",
              "      <td>1</td>\n",
              "      <td>1</td>\n",
              "      <td>7</td>\n",
              "      <td>2</td>\n",
              "      <td>?</td>\n",
              "      <td>?</td>\n",
              "      <td>648</td>\n",
              "      <td>250|V27</td>\n",
              "      <td>2</td>\n",
              "      <td>1</td>\n",
              "      <td>0</td>\n",
              "      <td>11</td>\n",
              "      <td>6</td>\n",
              "      <td>13</td>\n",
              "      <td>5</td>\n",
              "      <td>0378-1110</td>\n",
              "      <td>None</td>\n",
              "      <td>None</td>\n",
              "      <td>No</td>\n",
              "      <td>NO</td>\n",
              "      <td>0378-1110</td>\n",
              "      <td>Glipizide</td>\n",
              "    </tr>\n",
              "    <tr>\n",
              "      <th>3</th>\n",
              "      <td>500364</td>\n",
              "      <td>82442376</td>\n",
              "      <td>Caucasian</td>\n",
              "      <td>Male</td>\n",
              "      <td>[30-40)</td>\n",
              "      <td>?</td>\n",
              "      <td>1</td>\n",
              "      <td>1</td>\n",
              "      <td>7</td>\n",
              "      <td>2</td>\n",
              "      <td>?</td>\n",
              "      <td>?</td>\n",
              "      <td>8</td>\n",
              "      <td>250.43|403</td>\n",
              "      <td>0</td>\n",
              "      <td>0</td>\n",
              "      <td>0</td>\n",
              "      <td>44</td>\n",
              "      <td>7</td>\n",
              "      <td>16</td>\n",
              "      <td>1</td>\n",
              "      <td>68071-1701</td>\n",
              "      <td>None</td>\n",
              "      <td>None</td>\n",
              "      <td>Ch</td>\n",
              "      <td>NO</td>\n",
              "      <td>68071-1701</td>\n",
              "      <td>Human Insulin</td>\n",
              "    </tr>\n",
              "    <tr>\n",
              "      <th>4</th>\n",
              "      <td>16680</td>\n",
              "      <td>42519267</td>\n",
              "      <td>Caucasian</td>\n",
              "      <td>Male</td>\n",
              "      <td>[40-50)</td>\n",
              "      <td>?</td>\n",
              "      <td>1</td>\n",
              "      <td>1</td>\n",
              "      <td>7</td>\n",
              "      <td>1</td>\n",
              "      <td>?</td>\n",
              "      <td>?</td>\n",
              "      <td>197</td>\n",
              "      <td>157|250</td>\n",
              "      <td>0</td>\n",
              "      <td>0</td>\n",
              "      <td>0</td>\n",
              "      <td>51</td>\n",
              "      <td>5</td>\n",
              "      <td>8</td>\n",
              "      <td>0</td>\n",
              "      <td>0049-4110</td>\n",
              "      <td>None</td>\n",
              "      <td>None</td>\n",
              "      <td>Ch</td>\n",
              "      <td>NO</td>\n",
              "      <td>0049-4110</td>\n",
              "      <td>Glipizide</td>\n",
              "    </tr>\n",
              "    <tr>\n",
              "      <th>...</th>\n",
              "      <td>...</td>\n",
              "      <td>...</td>\n",
              "      <td>...</td>\n",
              "      <td>...</td>\n",
              "      <td>...</td>\n",
              "      <td>...</td>\n",
              "      <td>...</td>\n",
              "      <td>...</td>\n",
              "      <td>...</td>\n",
              "      <td>...</td>\n",
              "      <td>...</td>\n",
              "      <td>...</td>\n",
              "      <td>...</td>\n",
              "      <td>...</td>\n",
              "      <td>...</td>\n",
              "      <td>...</td>\n",
              "      <td>...</td>\n",
              "      <td>...</td>\n",
              "      <td>...</td>\n",
              "      <td>...</td>\n",
              "      <td>...</td>\n",
              "      <td>...</td>\n",
              "      <td>...</td>\n",
              "      <td>...</td>\n",
              "      <td>...</td>\n",
              "      <td>...</td>\n",
              "      <td>...</td>\n",
              "      <td>...</td>\n",
              "    </tr>\n",
              "    <tr>\n",
              "      <th>143477</th>\n",
              "      <td>443854148</td>\n",
              "      <td>41088789</td>\n",
              "      <td>Caucasian</td>\n",
              "      <td>Male</td>\n",
              "      <td>[70-80)</td>\n",
              "      <td>?</td>\n",
              "      <td>1</td>\n",
              "      <td>1</td>\n",
              "      <td>7</td>\n",
              "      <td>1</td>\n",
              "      <td>MC</td>\n",
              "      <td>?</td>\n",
              "      <td>38</td>\n",
              "      <td>590|296</td>\n",
              "      <td>1</td>\n",
              "      <td>0</td>\n",
              "      <td>0</td>\n",
              "      <td>53</td>\n",
              "      <td>13</td>\n",
              "      <td>9</td>\n",
              "      <td>0</td>\n",
              "      <td>47918-902</td>\n",
              "      <td>None</td>\n",
              "      <td>None</td>\n",
              "      <td>Ch</td>\n",
              "      <td>NO</td>\n",
              "      <td>47918-902</td>\n",
              "      <td>Insulin Human</td>\n",
              "    </tr>\n",
              "    <tr>\n",
              "      <th>143478</th>\n",
              "      <td>443857166</td>\n",
              "      <td>31693671</td>\n",
              "      <td>Caucasian</td>\n",
              "      <td>Female</td>\n",
              "      <td>[80-90)</td>\n",
              "      <td>?</td>\n",
              "      <td>2</td>\n",
              "      <td>3</td>\n",
              "      <td>7</td>\n",
              "      <td>10</td>\n",
              "      <td>MC</td>\n",
              "      <td>Surgery-General</td>\n",
              "      <td>996</td>\n",
              "      <td>285|998</td>\n",
              "      <td>0</td>\n",
              "      <td>1</td>\n",
              "      <td>0</td>\n",
              "      <td>45</td>\n",
              "      <td>9</td>\n",
              "      <td>21</td>\n",
              "      <td>2</td>\n",
              "      <td>0049-4110</td>\n",
              "      <td>None</td>\n",
              "      <td>None</td>\n",
              "      <td>Ch</td>\n",
              "      <td>NO</td>\n",
              "      <td>0049-4110</td>\n",
              "      <td>Glipizide</td>\n",
              "    </tr>\n",
              "    <tr>\n",
              "      <th>143479</th>\n",
              "      <td>443857166</td>\n",
              "      <td>31693671</td>\n",
              "      <td>Caucasian</td>\n",
              "      <td>Female</td>\n",
              "      <td>[80-90)</td>\n",
              "      <td>?</td>\n",
              "      <td>2</td>\n",
              "      <td>3</td>\n",
              "      <td>7</td>\n",
              "      <td>10</td>\n",
              "      <td>MC</td>\n",
              "      <td>Surgery-General</td>\n",
              "      <td>996</td>\n",
              "      <td>285|998</td>\n",
              "      <td>0</td>\n",
              "      <td>1</td>\n",
              "      <td>0</td>\n",
              "      <td>45</td>\n",
              "      <td>9</td>\n",
              "      <td>21</td>\n",
              "      <td>2</td>\n",
              "      <td>0781-5421</td>\n",
              "      <td>None</td>\n",
              "      <td>None</td>\n",
              "      <td>Ch</td>\n",
              "      <td>NO</td>\n",
              "      <td>0781-5421</td>\n",
              "      <td>Pioglitazone</td>\n",
              "    </tr>\n",
              "    <tr>\n",
              "      <th>143480</th>\n",
              "      <td>443857166</td>\n",
              "      <td>31693671</td>\n",
              "      <td>Caucasian</td>\n",
              "      <td>Female</td>\n",
              "      <td>[80-90)</td>\n",
              "      <td>?</td>\n",
              "      <td>2</td>\n",
              "      <td>3</td>\n",
              "      <td>7</td>\n",
              "      <td>10</td>\n",
              "      <td>MC</td>\n",
              "      <td>Surgery-General</td>\n",
              "      <td>996</td>\n",
              "      <td>285|998</td>\n",
              "      <td>0</td>\n",
              "      <td>1</td>\n",
              "      <td>0</td>\n",
              "      <td>45</td>\n",
              "      <td>9</td>\n",
              "      <td>21</td>\n",
              "      <td>2</td>\n",
              "      <td>47918-902</td>\n",
              "      <td>None</td>\n",
              "      <td>None</td>\n",
              "      <td>Ch</td>\n",
              "      <td>NO</td>\n",
              "      <td>47918-902</td>\n",
              "      <td>Insulin Human</td>\n",
              "    </tr>\n",
              "    <tr>\n",
              "      <th>143481</th>\n",
              "      <td>443867222</td>\n",
              "      <td>175429310</td>\n",
              "      <td>Caucasian</td>\n",
              "      <td>Male</td>\n",
              "      <td>[70-80)</td>\n",
              "      <td>?</td>\n",
              "      <td>1</td>\n",
              "      <td>1</td>\n",
              "      <td>7</td>\n",
              "      <td>6</td>\n",
              "      <td>?</td>\n",
              "      <td>?</td>\n",
              "      <td>530</td>\n",
              "      <td>530|787</td>\n",
              "      <td>0</td>\n",
              "      <td>0</td>\n",
              "      <td>0</td>\n",
              "      <td>13</td>\n",
              "      <td>9</td>\n",
              "      <td>3</td>\n",
              "      <td>3</td>\n",
              "      <td>NaN</td>\n",
              "      <td>None</td>\n",
              "      <td>None</td>\n",
              "      <td>No</td>\n",
              "      <td>NO</td>\n",
              "      <td>NaN</td>\n",
              "      <td>NaN</td>\n",
              "    </tr>\n",
              "  </tbody>\n",
              "</table>\n",
              "<p>143482 rows × 28 columns</p>\n",
              "</div>\n",
              "      <button class=\"colab-df-convert\" onclick=\"convertToInteractive('df-862d2091-1c5b-4c9f-938a-b592fbbe27ec')\"\n",
              "              title=\"Convert this dataframe to an interactive table.\"\n",
              "              style=\"display:none;\">\n",
              "        \n",
              "  <svg xmlns=\"http://www.w3.org/2000/svg\" height=\"24px\"viewBox=\"0 0 24 24\"\n",
              "       width=\"24px\">\n",
              "    <path d=\"M0 0h24v24H0V0z\" fill=\"none\"/>\n",
              "    <path d=\"M18.56 5.44l.94 2.06.94-2.06 2.06-.94-2.06-.94-.94-2.06-.94 2.06-2.06.94zm-11 1L8.5 8.5l.94-2.06 2.06-.94-2.06-.94L8.5 2.5l-.94 2.06-2.06.94zm10 10l.94 2.06.94-2.06 2.06-.94-2.06-.94-.94-2.06-.94 2.06-2.06.94z\"/><path d=\"M17.41 7.96l-1.37-1.37c-.4-.4-.92-.59-1.43-.59-.52 0-1.04.2-1.43.59L10.3 9.45l-7.72 7.72c-.78.78-.78 2.05 0 2.83L4 21.41c.39.39.9.59 1.41.59.51 0 1.02-.2 1.41-.59l7.78-7.78 2.81-2.81c.8-.78.8-2.07 0-2.86zM5.41 20L4 18.59l7.72-7.72 1.47 1.35L5.41 20z\"/>\n",
              "  </svg>\n",
              "      </button>\n",
              "      \n",
              "  <style>\n",
              "    .colab-df-container {\n",
              "      display:flex;\n",
              "      flex-wrap:wrap;\n",
              "      gap: 12px;\n",
              "    }\n",
              "\n",
              "    .colab-df-convert {\n",
              "      background-color: #E8F0FE;\n",
              "      border: none;\n",
              "      border-radius: 50%;\n",
              "      cursor: pointer;\n",
              "      display: none;\n",
              "      fill: #1967D2;\n",
              "      height: 32px;\n",
              "      padding: 0 0 0 0;\n",
              "      width: 32px;\n",
              "    }\n",
              "\n",
              "    .colab-df-convert:hover {\n",
              "      background-color: #E2EBFA;\n",
              "      box-shadow: 0px 1px 2px rgba(60, 64, 67, 0.3), 0px 1px 3px 1px rgba(60, 64, 67, 0.15);\n",
              "      fill: #174EA6;\n",
              "    }\n",
              "\n",
              "    [theme=dark] .colab-df-convert {\n",
              "      background-color: #3B4455;\n",
              "      fill: #D2E3FC;\n",
              "    }\n",
              "\n",
              "    [theme=dark] .colab-df-convert:hover {\n",
              "      background-color: #434B5C;\n",
              "      box-shadow: 0px 1px 3px 1px rgba(0, 0, 0, 0.15);\n",
              "      filter: drop-shadow(0px 1px 2px rgba(0, 0, 0, 0.3));\n",
              "      fill: #FFFFFF;\n",
              "    }\n",
              "  </style>\n",
              "\n",
              "      <script>\n",
              "        const buttonEl =\n",
              "          document.querySelector('#df-862d2091-1c5b-4c9f-938a-b592fbbe27ec button.colab-df-convert');\n",
              "        buttonEl.style.display =\n",
              "          google.colab.kernel.accessAllowed ? 'block' : 'none';\n",
              "\n",
              "        async function convertToInteractive(key) {\n",
              "          const element = document.querySelector('#df-862d2091-1c5b-4c9f-938a-b592fbbe27ec');\n",
              "          const dataTable =\n",
              "            await google.colab.kernel.invokeFunction('convertToInteractive',\n",
              "                                                     [key], {});\n",
              "          if (!dataTable) return;\n",
              "\n",
              "          const docLinkHtml = 'Like what you see? Visit the ' +\n",
              "            '<a target=\"_blank\" href=https://colab.research.google.com/notebooks/data_table.ipynb>data table notebook</a>'\n",
              "            + ' to learn more about interactive tables.';\n",
              "          element.innerHTML = '';\n",
              "          dataTable['output_type'] = 'display_data';\n",
              "          await google.colab.output.renderOutput(dataTable, element);\n",
              "          const docLink = document.createElement('div');\n",
              "          docLink.innerHTML = docLinkHtml;\n",
              "          element.appendChild(docLink);\n",
              "        }\n",
              "      </script>\n",
              "    </div>\n",
              "  </div>\n",
              "  "
            ]
          },
          "metadata": {},
          "execution_count": 28
        }
      ]
    },
    {
      "cell_type": "code",
      "source": [
        "# Number of unique values should be less for the new output field\n",
        "assert df['ndc_code'].nunique() > reduce_dim_df['generic_drug_name'].nunique()"
      ],
      "metadata": {
        "id": "FkCpCWvsQXbU"
      },
      "execution_count": 29,
      "outputs": []
    },
    {
      "cell_type": "markdown",
      "source": [
        "# Select First Encounter for each Patient\n",
        "In order to simplify the aggregation of data for the model, we will only select the first encounter for each patient in the dataset. This is to reduce the risk of data leakage of future patient encounters and to reduce complexity of the data transformation and modeling steps. We will assume that sorting in numerical order on the encounter_id provides the time horizon for determining which encounters come before and after another."
      ],
      "metadata": {
        "id": "5sGllPyrQhz9"
      }
    },
    {
      "cell_type": "code",
      "source": [
        "from student_utils import select_first_encounter\n",
        "first_encounter_df = select_first_encounter(reduce_dim_df)"
      ],
      "metadata": {
        "id": "HeWXwrdxQb1N"
      },
      "execution_count": 30,
      "outputs": []
    },
    {
      "cell_type": "code",
      "source": [
        "# unique patients in transformed dataset\n",
        "unique_patients = first_encounter_df['patient_nbr'].nunique()\n",
        "print(\"Number of unique patients:{}\".format(unique_patients))\n",
        "\n",
        "# unique encounters in transformed dataset\n",
        "unique_encounters = first_encounter_df['encounter_id'].nunique()\n",
        "print(\"Number of unique encounters:{}\".format(unique_encounters))\n",
        "\n",
        "original_unique_patient_number = reduce_dim_df['patient_nbr'].nunique()\n",
        "# number of unique patients should be equal to the number of unique encounters and patients in the final dataset\n",
        "assert original_unique_patient_number == unique_patients\n",
        "assert original_unique_patient_number == unique_encounters\n",
        "print(\"Tests passed!!\")"
      ],
      "metadata": {
        "colab": {
          "base_uri": "https://localhost:8080/"
        },
        "id": "NklE7St0RYkJ",
        "outputId": "31456403-7e51-4f50-fa78-beaae2ffef3f"
      },
      "execution_count": 31,
      "outputs": [
        {
          "output_type": "stream",
          "name": "stdout",
          "text": [
            "Number of unique patients:71518\n",
            "Number of unique encounters:71518\n",
            "Tests passed!!\n"
          ]
        }
      ]
    },
    {
      "cell_type": "markdown",
      "source": [
        "# Aggregate Dataset to Right Level for Modeling\n",
        "\n",
        "We are creating dummy columns for each unique generic drug name and adding those are input features to the model. There are other options for data representation,"
      ],
      "metadata": {
        "id": "lSa4BaUpRq04"
      }
    },
    {
      "cell_type": "code",
      "source": [
        "exclusion_list = ['generic_drug_name']\n",
        "grouping_field_list = [c for c in first_encounter_df.columns if c not in exclusion_list]\n",
        "agg_drug_df, ndc_col_list = aggregate_dataset(first_encounter_df, grouping_field_list, 'generic_drug_name')"
      ],
      "metadata": {
        "colab": {
          "base_uri": "https://localhost:8080/"
        },
        "id": "Jg0Rk17CRiJr",
        "outputId": "54e82d56-832d-4d28-b716-6ceb9b563553"
      },
      "execution_count": 32,
      "outputs": [
        {
          "output_type": "stream",
          "name": "stderr",
          "text": [
            "/content/utils.py:9: FutureWarning: Indexing with multiple keys (implicitly converted to a tuple of keys) will be deprecated, use a list instead.\n",
            "  df = df.groupby(grouping_field_list)['encounter_id',\n",
            "/content/utils.py:13: FutureWarning: Using the level keyword in DataFrame and Series aggregations is deprecated and will be removed in a future version. Use groupby instead. df.sum(level=1) should use df.groupby(level=1).sum().\n",
            "  dummy_df = pd.get_dummies(df[array_field + '_array'].apply(pd.Series).stack()).sum(level=0)\n"
          ]
        }
      ]
    },
    {
      "cell_type": "code",
      "source": [
        "len(grouping_field_list)"
      ],
      "metadata": {
        "colab": {
          "base_uri": "https://localhost:8080/"
        },
        "id": "pHF7OgvKRvHO",
        "outputId": "0655bc81-50b4-4afd-9e3a-f92252cec37f"
      },
      "execution_count": 33,
      "outputs": [
        {
          "output_type": "execute_result",
          "data": {
            "text/plain": [
              "27"
            ]
          },
          "metadata": {},
          "execution_count": 33
        }
      ]
    },
    {
      "cell_type": "code",
      "source": [
        "agg_drug_df['patient_nbr'].nunique()"
      ],
      "metadata": {
        "colab": {
          "base_uri": "https://localhost:8080/"
        },
        "id": "5paOLuJ5R6JL",
        "outputId": "e3d85fc0-86be-4d37-ebfe-796cebac6135"
      },
      "execution_count": 34,
      "outputs": [
        {
          "output_type": "execute_result",
          "data": {
            "text/plain": [
              "54271"
            ]
          },
          "metadata": {},
          "execution_count": 34
        }
      ]
    },
    {
      "cell_type": "code",
      "source": [
        "agg_drug_df['encounter_id'].nunique()"
      ],
      "metadata": {
        "colab": {
          "base_uri": "https://localhost:8080/"
        },
        "id": "fhuhSQzdSF5i",
        "outputId": "d5964b9e-b8ef-49a4-b367-6e92711d2ad9"
      },
      "execution_count": 35,
      "outputs": [
        {
          "output_type": "execute_result",
          "data": {
            "text/plain": [
              "54271"
            ]
          },
          "metadata": {},
          "execution_count": 35
        }
      ]
    },
    {
      "cell_type": "code",
      "source": [
        "len(agg_drug_df)"
      ],
      "metadata": {
        "colab": {
          "base_uri": "https://localhost:8080/"
        },
        "id": "QRJn0gRwSH1y",
        "outputId": "f8d20770-15bf-4534-e6d3-4be081090e2e"
      },
      "execution_count": 36,
      "outputs": [
        {
          "output_type": "execute_result",
          "data": {
            "text/plain": [
              "54271"
            ]
          },
          "metadata": {},
          "execution_count": 36
        }
      ]
    },
    {
      "cell_type": "code",
      "source": [
        "assert len(agg_drug_df) == agg_drug_df['patient_nbr'].nunique() == agg_drug_df['encounter_id'].nunique()"
      ],
      "metadata": {
        "id": "BfTM5ZFySJkd"
      },
      "execution_count": 37,
      "outputs": []
    },
    {
      "cell_type": "markdown",
      "source": [
        "#Prepare Fields and Cast Dataset\n",
        "##Feature Selection"
      ],
      "metadata": {
        "id": "oJJ8yhyNSO1B"
      }
    },
    {
      "cell_type": "code",
      "source": [
        "df.weight.value_counts()"
      ],
      "metadata": {
        "colab": {
          "base_uri": "https://localhost:8080/"
        },
        "id": "hBGZ4PFiSMW3",
        "outputId": "abf37d6d-a06a-425c-a5f3-e2ab51e3e699"
      },
      "execution_count": 38,
      "outputs": [
        {
          "output_type": "execute_result",
          "data": {
            "text/plain": [
              "?            139122\n",
              "[75-100)       1817\n",
              "[50-75)        1133\n",
              "[100-125)       890\n",
              "[125-150)       200\n",
              "[25-50)         118\n",
              "[0-25)           67\n",
              "[150-175)        55\n",
              "[175-200)        18\n",
              ">200              4\n",
              "Name: weight, dtype: int64"
            ]
          },
          "metadata": {},
          "execution_count": 38
        }
      ]
    },
    {
      "cell_type": "code",
      "source": [
        "df.payer_code.value_counts()"
      ],
      "metadata": {
        "colab": {
          "base_uri": "https://localhost:8080/"
        },
        "id": "PEpaBp0xSaaB",
        "outputId": "9f808559-ba9c-48fe-9b57-da05be64e6cd"
      },
      "execution_count": 39,
      "outputs": [
        {
          "output_type": "execute_result",
          "data": {
            "text/plain": [
              "?     54190\n",
              "MC    46532\n",
              "HM     8784\n",
              "SP     7613\n",
              "BC     6991\n",
              "MD     4983\n",
              "CP     3687\n",
              "UN     3665\n",
              "CM     2971\n",
              "OG     1532\n",
              "PO      919\n",
              "DM      757\n",
              "WC      230\n",
              "CH      208\n",
              "OT      160\n",
              "MP      122\n",
              "SI       79\n",
              "FR        1\n",
              "Name: payer_code, dtype: int64"
            ]
          },
          "metadata": {},
          "execution_count": 39
        }
      ]
    },
    {
      "cell_type": "code",
      "source": [
        "df.medical_specialty.value_counts()"
      ],
      "metadata": {
        "colab": {
          "base_uri": "https://localhost:8080/"
        },
        "id": "rRuwCMGjSdHv",
        "outputId": "ef8ab769-2c08-4e63-f29e-d79335158381"
      },
      "execution_count": 40,
      "outputs": [
        {
          "output_type": "execute_result",
          "data": {
            "text/plain": [
              "?                                   69463\n",
              "InternalMedicine                    20403\n",
              "Emergency/Trauma                    11595\n",
              "Family/GeneralPractice              10508\n",
              "Cardiology                           7473\n",
              "                                    ...  \n",
              "Speech                                  1\n",
              "Proctology                              1\n",
              "Perinatology                            1\n",
              "Pediatrics-InfectiousDiseases           1\n",
              "Surgery-PlasticwithinHeadandNeck        1\n",
              "Name: medical_specialty, Length: 73, dtype: int64"
            ]
          },
          "metadata": {},
          "execution_count": 40
        }
      ]
    },
    {
      "cell_type": "markdown",
      "source": [
        "From cells above, weight field has 139122 missing values. It's fine if we exclude in model training. For payer_code, it also has 54190 missing value and it not much affect on our training process just beacause it will not help to identify time_in_hospital."
      ],
      "metadata": {
        "id": "T-6MQtpaTKYu"
      }
    },
    {
      "cell_type": "code",
      "source": [
        "numeric_field"
      ],
      "metadata": {
        "colab": {
          "base_uri": "https://localhost:8080/"
        },
        "id": "6bOGlzB4TLMx",
        "outputId": "faa68151-1306-4d99-ec69-1d77bfb25fbc"
      },
      "execution_count": 41,
      "outputs": [
        {
          "output_type": "execute_result",
          "data": {
            "text/plain": [
              "['encounter_id',\n",
              " 'patient_nbr',\n",
              " 'admission_type_id',\n",
              " 'discharge_disposition_id',\n",
              " 'admission_source_id',\n",
              " 'time_in_hospital',\n",
              " 'number_outpatient',\n",
              " 'number_inpatient',\n",
              " 'number_emergency',\n",
              " 'num_lab_procedures',\n",
              " 'number_diagnoses',\n",
              " 'num_medications',\n",
              " 'num_procedures']"
            ]
          },
          "metadata": {},
          "execution_count": 41
        }
      ]
    },
    {
      "cell_type": "code",
      "source": [
        "categorical_field = df.columns.drop(numeric_field)\n",
        "categorical_field"
      ],
      "metadata": {
        "colab": {
          "base_uri": "https://localhost:8080/"
        },
        "id": "PycjnVXBTPHa",
        "outputId": "487c8130-b3c8-4ba9-aa68-d65f38b11d51"
      },
      "execution_count": 42,
      "outputs": [
        {
          "output_type": "execute_result",
          "data": {
            "text/plain": [
              "Index(['race', 'gender', 'age', 'weight', 'payer_code', 'medical_specialty',\n",
              "       'primary_diagnosis_code', 'other_diagnosis_codes', 'ndc_code',\n",
              "       'max_glu_serum', 'A1Cresult', 'change', 'readmitted'],\n",
              "      dtype='object')"
            ]
          },
          "metadata": {},
          "execution_count": 42
        }
      ]
    },
    {
      "cell_type": "code",
      "source": [
        "required_demo_col_list = ['race', 'gender', 'age']\n",
        "\n",
        "student_categorical_col_list = [ \"ndc_code\", \"readmitted\", 'admission_type_id', 'discharge_disposition_id',\n",
        "                                'max_glu_serum', 'admission_source_id', 'A1Cresult', 'primary_diagnosis_code',\n",
        "                                'other_diagnosis_codes', 'change'] + required_demo_col_list + ndc_col_list\n",
        "\n",
        "student_numerical_col_list = [ \"num_procedures\", \"num_medications\", 'number_diagnoses']\n",
        "\n",
        "PREDICTOR_FIELD = 'time_in_hospital'"
      ],
      "metadata": {
        "id": "FlRZ4YRhTRcq"
      },
      "execution_count": 43,
      "outputs": []
    },
    {
      "cell_type": "code",
      "source": [
        "def select_model_features(df, categorical_col_list, numerical_col_list, PREDICTOR_FIELD, grouping_key='patient_nbr'):\n",
        "    selected_col_list = [grouping_key] + [PREDICTOR_FIELD] + categorical_col_list + numerical_col_list   \n",
        "    return agg_drug_df[selected_col_list]"
      ],
      "metadata": {
        "id": "BYr5s4fcTZX_"
      },
      "execution_count": 44,
      "outputs": []
    },
    {
      "cell_type": "code",
      "source": [
        "selected_features_df = select_model_features(agg_drug_df, student_categorical_col_list, student_numerical_col_list,\n",
        "                                            PREDICTOR_FIELD)"
      ],
      "metadata": {
        "id": "_JlCt5qRTdJR"
      },
      "execution_count": 45,
      "outputs": []
    },
    {
      "cell_type": "markdown",
      "source": [
        "# Preprocess Dataset - Casting and Imputing\n",
        "We will cast and impute the dataset before splitting so that we do not have to repeat these steps across the splits in the next step. For imputing, there can be deeper analysis into which features to impute and how to impute but we are taking a general strategy of imputing zero for only numerical features."
      ],
      "metadata": {
        "id": "gV1yzSwtT4U0"
      }
    },
    {
      "cell_type": "code",
      "source": [
        "processed_df = preprocess_df(selected_features_df, student_categorical_col_list, \n",
        "        student_numerical_col_list, PREDICTOR_FIELD, categorical_impute_value='nan', numerical_impute_value=0)"
      ],
      "metadata": {
        "colab": {
          "base_uri": "https://localhost:8080/"
        },
        "id": "Th6PxVmNTfhy",
        "outputId": "758bc652-e148-4e5a-8183-0989e26f7d1a"
      },
      "execution_count": 46,
      "outputs": [
        {
          "output_type": "stream",
          "name": "stderr",
          "text": [
            "/content/utils.py:29: SettingWithCopyWarning: \n",
            "A value is trying to be set on a copy of a slice from a DataFrame.\n",
            "Try using .loc[row_indexer,col_indexer] = value instead\n",
            "\n",
            "See the caveats in the documentation: https://pandas.pydata.org/pandas-docs/stable/user_guide/indexing.html#returning-a-view-versus-a-copy\n",
            "  df[predictor] = df[predictor].astype(float)\n",
            "/content/utils.py:31: SettingWithCopyWarning: \n",
            "A value is trying to be set on a copy of a slice from a DataFrame.\n",
            "Try using .loc[row_indexer,col_indexer] = value instead\n",
            "\n",
            "See the caveats in the documentation: https://pandas.pydata.org/pandas-docs/stable/user_guide/indexing.html#returning-a-view-versus-a-copy\n",
            "  df[c] = cast_df(df, c, d_type=str)\n",
            "/content/utils.py:33: SettingWithCopyWarning: \n",
            "A value is trying to be set on a copy of a slice from a DataFrame.\n",
            "Try using .loc[row_indexer,col_indexer] = value instead\n",
            "\n",
            "See the caveats in the documentation: https://pandas.pydata.org/pandas-docs/stable/user_guide/indexing.html#returning-a-view-versus-a-copy\n",
            "  df[numerical_column] = impute_df(df, numerical_column, numerical_impute_value)\n"
          ]
        }
      ]
    },
    {
      "cell_type": "markdown",
      "source": [
        "# Split Dataset into Train, Validation, and Test Partitions\n",
        "\n",
        "We split the input dataset into three partitions(train, validation, test) with the following requirements.\n",
        "*   Approximately 60%/20%/20% train/validation/test split\n",
        "*   Randomly sample different patients into each data partition\n",
        "*   Total number of unique patients across the splits is equal to the total number of unique patients in the original dataset\n",
        "*   Total number of rows in original dataset = sum of rows across all three dataset partitions"
      ],
      "metadata": {
        "id": "24Rv0Z6lUJ70"
      }
    },
    {
      "cell_type": "code",
      "source": [
        "processed_df = pd.DataFrame(processed_df)\n",
        "processed_df\n"
      ],
      "metadata": {
        "colab": {
          "base_uri": "https://localhost:8080/",
          "height": 679
        },
        "id": "1k5_JYEuUCne",
        "outputId": "b10ad86b-e43e-4489-852f-1f631e5421ef"
      },
      "execution_count": 47,
      "outputs": [
        {
          "output_type": "execute_result",
          "data": {
            "text/plain": [
              "       patient_nbr  time_in_hospital    ndc_code readmitted admission_type_id  \\\n",
              "0         48330783              13.0   47918-902         NO                 2   \n",
              "1         63555939              12.0  68071-1701         NO                 3   \n",
              "2         42519267               1.0   0049-4110         NO                 1   \n",
              "3         89869032               9.0  68071-1701        >30                 1   \n",
              "4         82637451               3.0   47918-902        >30                 2   \n",
              "...            ...               ...         ...        ...               ...   \n",
              "54266    184875899              13.0   0904-6328         NO                 1   \n",
              "54267    183087545               9.0   0009-3449        >30                 1   \n",
              "54268    188574944              14.0   0049-0178        >30                 1   \n",
              "54269    140199494               2.0   47918-902        >30                 1   \n",
              "54270    120975314               5.0   47918-902         NO                 1   \n",
              "\n",
              "      discharge_disposition_id max_glu_serum admission_source_id A1Cresult  \\\n",
              "0                            1          None                   4      None   \n",
              "1                            3          None                   4      None   \n",
              "2                            1          None                   7      None   \n",
              "3                            1          None                   7      None   \n",
              "4                            1          None                   2      None   \n",
              "...                        ...           ...                 ...       ...   \n",
              "54266                        1          None                   7      None   \n",
              "54267                        1          None                   7        >7   \n",
              "54268                        1          None                   7        >8   \n",
              "54269                        1          None                   7      None   \n",
              "54270                        1          None                   7      None   \n",
              "\n",
              "      primary_diagnosis_code other_diagnosis_codes change             race  \\\n",
              "0                        398                427|38     Ch        Caucasian   \n",
              "1                        434               198|486     Ch        Caucasian   \n",
              "2                        197               157|250     Ch        Caucasian   \n",
              "3                      250.7               403|996     No  AfricanAmerican   \n",
              "4                        414               411|250     No        Caucasian   \n",
              "...                      ...                   ...    ...              ...   \n",
              "54266                  250.8               730|731     Ch            Other   \n",
              "54267                    574            574|250.02     Ch        Caucasian   \n",
              "54268                    592               599|518     Ch            Other   \n",
              "54269                    996               585|403     No            Other   \n",
              "54270                    292                 8|304     Ch        Caucasian   \n",
              "\n",
              "       gender       age Acarbose Glimepiride Glipizide  \\\n",
              "0      Female   [80-90)        0           0         0   \n",
              "1      Female  [90-100)        0           0         0   \n",
              "2        Male   [40-50)        0           0         1   \n",
              "3      Female   [40-50)        0           0         0   \n",
              "4        Male   [50-60)        0           0         0   \n",
              "...       ...       ...      ...         ...       ...   \n",
              "54266    Male   [40-50)        0           0         0   \n",
              "54267  Female   [70-80)        0           0         0   \n",
              "54268  Female   [40-50)        0           0         1   \n",
              "54269  Female   [60-70)        0           0         0   \n",
              "54270  Female   [80-90)        0           0         0   \n",
              "\n",
              "      Glipizide_And_Metformin_Hcl Glipizide_And_Metformin_Hydrochloride  \\\n",
              "0                               0                                     0   \n",
              "1                               0                                     0   \n",
              "2                               0                                     0   \n",
              "3                               0                                     0   \n",
              "4                               0                                     0   \n",
              "...                           ...                                   ...   \n",
              "54266                           0                                     0   \n",
              "54267                           0                                     0   \n",
              "54268                           0                                     0   \n",
              "54269                           0                                     0   \n",
              "54270                           0                                     0   \n",
              "\n",
              "      Glyburide Glyburide_And_Metformin_Hydrochloride  \\\n",
              "0             0                                     0   \n",
              "1             0                                     0   \n",
              "2             0                                     0   \n",
              "3             0                                     0   \n",
              "4             0                                     0   \n",
              "...         ...                                   ...   \n",
              "54266         0                                     0   \n",
              "54267         1                                     0   \n",
              "54268         0                                     0   \n",
              "54269         0                                     0   \n",
              "54270         0                                     0   \n",
              "\n",
              "      Glyburide-metformin_Hydrochloride Human_Insulin Insulin_Human  \\\n",
              "0                                     0             0             1   \n",
              "1                                     0             1             0   \n",
              "2                                     0             0             0   \n",
              "3                                     0             1             0   \n",
              "4                                     0             0             1   \n",
              "...                                 ...           ...           ...   \n",
              "54266                                 0             0             0   \n",
              "54267                                 0             0             0   \n",
              "54268                                 0             0             0   \n",
              "54269                                 0             0             1   \n",
              "54270                                 0             0             1   \n",
              "\n",
              "      Metformin_Hcl Metformin_Hydrochloride Miglitol Nateglinide Pioglitazone  \\\n",
              "0                 0                       0        0           0            0   \n",
              "1                 0                       0        0           0            0   \n",
              "2                 0                       0        0           0            0   \n",
              "3                 0                       0        0           0            0   \n",
              "4                 0                       0        0           0            0   \n",
              "...             ...                     ...      ...         ...          ...   \n",
              "54266             0                       1        0           0            0   \n",
              "54267             0                       0        0           0            0   \n",
              "54268             0                       0        0           0            0   \n",
              "54269             0                       0        0           0            0   \n",
              "54270             0                       0        0           0            0   \n",
              "\n",
              "      Pioglitazone_Hydrochloride_And_Glimepiride Repaglinide  \\\n",
              "0                                              0           0   \n",
              "1                                              0           0   \n",
              "2                                              0           0   \n",
              "3                                              0           0   \n",
              "4                                              0           0   \n",
              "...                                          ...         ...   \n",
              "54266                                          0           0   \n",
              "54267                                          0           0   \n",
              "54268                                          0           0   \n",
              "54269                                          0           0   \n",
              "54270                                          0           0   \n",
              "\n",
              "      Rosiglitazone_Maleate Tolazamide Tolbutamide  num_procedures  \\\n",
              "0                         0          0           0               2   \n",
              "1                         0          0           0               3   \n",
              "2                         0          0           0               0   \n",
              "3                         0          0           0               2   \n",
              "4                         0          0           0               6   \n",
              "...                     ...        ...         ...             ...   \n",
              "54266                     0          0           0               2   \n",
              "54267                     0          0           0               2   \n",
              "54268                     0          0           0               6   \n",
              "54269                     0          0           0               6   \n",
              "54270                     0          0           0               1   \n",
              "\n",
              "       num_medications  number_diagnoses  \n",
              "0                   28                 8  \n",
              "1                   18                 8  \n",
              "2                    8                 5  \n",
              "3                   17                 9  \n",
              "4                   16                 9  \n",
              "...                ...               ...  \n",
              "54266               13                 9  \n",
              "54267               33                 9  \n",
              "54268               26                 9  \n",
              "54269               17                 9  \n",
              "54270               22                 9  \n",
              "\n",
              "[54271 rows x 38 columns]"
            ],
            "text/html": [
              "\n",
              "  <div id=\"df-c18d6cf7-ddc4-436f-aca5-1e1e30f99f3a\">\n",
              "    <div class=\"colab-df-container\">\n",
              "      <div>\n",
              "<style scoped>\n",
              "    .dataframe tbody tr th:only-of-type {\n",
              "        vertical-align: middle;\n",
              "    }\n",
              "\n",
              "    .dataframe tbody tr th {\n",
              "        vertical-align: top;\n",
              "    }\n",
              "\n",
              "    .dataframe thead th {\n",
              "        text-align: right;\n",
              "    }\n",
              "</style>\n",
              "<table border=\"1\" class=\"dataframe\">\n",
              "  <thead>\n",
              "    <tr style=\"text-align: right;\">\n",
              "      <th></th>\n",
              "      <th>patient_nbr</th>\n",
              "      <th>time_in_hospital</th>\n",
              "      <th>ndc_code</th>\n",
              "      <th>readmitted</th>\n",
              "      <th>admission_type_id</th>\n",
              "      <th>discharge_disposition_id</th>\n",
              "      <th>max_glu_serum</th>\n",
              "      <th>admission_source_id</th>\n",
              "      <th>A1Cresult</th>\n",
              "      <th>primary_diagnosis_code</th>\n",
              "      <th>other_diagnosis_codes</th>\n",
              "      <th>change</th>\n",
              "      <th>race</th>\n",
              "      <th>gender</th>\n",
              "      <th>age</th>\n",
              "      <th>Acarbose</th>\n",
              "      <th>Glimepiride</th>\n",
              "      <th>Glipizide</th>\n",
              "      <th>Glipizide_And_Metformin_Hcl</th>\n",
              "      <th>Glipizide_And_Metformin_Hydrochloride</th>\n",
              "      <th>Glyburide</th>\n",
              "      <th>Glyburide_And_Metformin_Hydrochloride</th>\n",
              "      <th>Glyburide-metformin_Hydrochloride</th>\n",
              "      <th>Human_Insulin</th>\n",
              "      <th>Insulin_Human</th>\n",
              "      <th>Metformin_Hcl</th>\n",
              "      <th>Metformin_Hydrochloride</th>\n",
              "      <th>Miglitol</th>\n",
              "      <th>Nateglinide</th>\n",
              "      <th>Pioglitazone</th>\n",
              "      <th>Pioglitazone_Hydrochloride_And_Glimepiride</th>\n",
              "      <th>Repaglinide</th>\n",
              "      <th>Rosiglitazone_Maleate</th>\n",
              "      <th>Tolazamide</th>\n",
              "      <th>Tolbutamide</th>\n",
              "      <th>num_procedures</th>\n",
              "      <th>num_medications</th>\n",
              "      <th>number_diagnoses</th>\n",
              "    </tr>\n",
              "  </thead>\n",
              "  <tbody>\n",
              "    <tr>\n",
              "      <th>0</th>\n",
              "      <td>48330783</td>\n",
              "      <td>13.0</td>\n",
              "      <td>47918-902</td>\n",
              "      <td>NO</td>\n",
              "      <td>2</td>\n",
              "      <td>1</td>\n",
              "      <td>None</td>\n",
              "      <td>4</td>\n",
              "      <td>None</td>\n",
              "      <td>398</td>\n",
              "      <td>427|38</td>\n",
              "      <td>Ch</td>\n",
              "      <td>Caucasian</td>\n",
              "      <td>Female</td>\n",
              "      <td>[80-90)</td>\n",
              "      <td>0</td>\n",
              "      <td>0</td>\n",
              "      <td>0</td>\n",
              "      <td>0</td>\n",
              "      <td>0</td>\n",
              "      <td>0</td>\n",
              "      <td>0</td>\n",
              "      <td>0</td>\n",
              "      <td>0</td>\n",
              "      <td>1</td>\n",
              "      <td>0</td>\n",
              "      <td>0</td>\n",
              "      <td>0</td>\n",
              "      <td>0</td>\n",
              "      <td>0</td>\n",
              "      <td>0</td>\n",
              "      <td>0</td>\n",
              "      <td>0</td>\n",
              "      <td>0</td>\n",
              "      <td>0</td>\n",
              "      <td>2</td>\n",
              "      <td>28</td>\n",
              "      <td>8</td>\n",
              "    </tr>\n",
              "    <tr>\n",
              "      <th>1</th>\n",
              "      <td>63555939</td>\n",
              "      <td>12.0</td>\n",
              "      <td>68071-1701</td>\n",
              "      <td>NO</td>\n",
              "      <td>3</td>\n",
              "      <td>3</td>\n",
              "      <td>None</td>\n",
              "      <td>4</td>\n",
              "      <td>None</td>\n",
              "      <td>434</td>\n",
              "      <td>198|486</td>\n",
              "      <td>Ch</td>\n",
              "      <td>Caucasian</td>\n",
              "      <td>Female</td>\n",
              "      <td>[90-100)</td>\n",
              "      <td>0</td>\n",
              "      <td>0</td>\n",
              "      <td>0</td>\n",
              "      <td>0</td>\n",
              "      <td>0</td>\n",
              "      <td>0</td>\n",
              "      <td>0</td>\n",
              "      <td>0</td>\n",
              "      <td>1</td>\n",
              "      <td>0</td>\n",
              "      <td>0</td>\n",
              "      <td>0</td>\n",
              "      <td>0</td>\n",
              "      <td>0</td>\n",
              "      <td>0</td>\n",
              "      <td>0</td>\n",
              "      <td>0</td>\n",
              "      <td>0</td>\n",
              "      <td>0</td>\n",
              "      <td>0</td>\n",
              "      <td>3</td>\n",
              "      <td>18</td>\n",
              "      <td>8</td>\n",
              "    </tr>\n",
              "    <tr>\n",
              "      <th>2</th>\n",
              "      <td>42519267</td>\n",
              "      <td>1.0</td>\n",
              "      <td>0049-4110</td>\n",
              "      <td>NO</td>\n",
              "      <td>1</td>\n",
              "      <td>1</td>\n",
              "      <td>None</td>\n",
              "      <td>7</td>\n",
              "      <td>None</td>\n",
              "      <td>197</td>\n",
              "      <td>157|250</td>\n",
              "      <td>Ch</td>\n",
              "      <td>Caucasian</td>\n",
              "      <td>Male</td>\n",
              "      <td>[40-50)</td>\n",
              "      <td>0</td>\n",
              "      <td>0</td>\n",
              "      <td>1</td>\n",
              "      <td>0</td>\n",
              "      <td>0</td>\n",
              "      <td>0</td>\n",
              "      <td>0</td>\n",
              "      <td>0</td>\n",
              "      <td>0</td>\n",
              "      <td>0</td>\n",
              "      <td>0</td>\n",
              "      <td>0</td>\n",
              "      <td>0</td>\n",
              "      <td>0</td>\n",
              "      <td>0</td>\n",
              "      <td>0</td>\n",
              "      <td>0</td>\n",
              "      <td>0</td>\n",
              "      <td>0</td>\n",
              "      <td>0</td>\n",
              "      <td>0</td>\n",
              "      <td>8</td>\n",
              "      <td>5</td>\n",
              "    </tr>\n",
              "    <tr>\n",
              "      <th>3</th>\n",
              "      <td>89869032</td>\n",
              "      <td>9.0</td>\n",
              "      <td>68071-1701</td>\n",
              "      <td>&gt;30</td>\n",
              "      <td>1</td>\n",
              "      <td>1</td>\n",
              "      <td>None</td>\n",
              "      <td>7</td>\n",
              "      <td>None</td>\n",
              "      <td>250.7</td>\n",
              "      <td>403|996</td>\n",
              "      <td>No</td>\n",
              "      <td>AfricanAmerican</td>\n",
              "      <td>Female</td>\n",
              "      <td>[40-50)</td>\n",
              "      <td>0</td>\n",
              "      <td>0</td>\n",
              "      <td>0</td>\n",
              "      <td>0</td>\n",
              "      <td>0</td>\n",
              "      <td>0</td>\n",
              "      <td>0</td>\n",
              "      <td>0</td>\n",
              "      <td>1</td>\n",
              "      <td>0</td>\n",
              "      <td>0</td>\n",
              "      <td>0</td>\n",
              "      <td>0</td>\n",
              "      <td>0</td>\n",
              "      <td>0</td>\n",
              "      <td>0</td>\n",
              "      <td>0</td>\n",
              "      <td>0</td>\n",
              "      <td>0</td>\n",
              "      <td>0</td>\n",
              "      <td>2</td>\n",
              "      <td>17</td>\n",
              "      <td>9</td>\n",
              "    </tr>\n",
              "    <tr>\n",
              "      <th>4</th>\n",
              "      <td>82637451</td>\n",
              "      <td>3.0</td>\n",
              "      <td>47918-902</td>\n",
              "      <td>&gt;30</td>\n",
              "      <td>2</td>\n",
              "      <td>1</td>\n",
              "      <td>None</td>\n",
              "      <td>2</td>\n",
              "      <td>None</td>\n",
              "      <td>414</td>\n",
              "      <td>411|250</td>\n",
              "      <td>No</td>\n",
              "      <td>Caucasian</td>\n",
              "      <td>Male</td>\n",
              "      <td>[50-60)</td>\n",
              "      <td>0</td>\n",
              "      <td>0</td>\n",
              "      <td>0</td>\n",
              "      <td>0</td>\n",
              "      <td>0</td>\n",
              "      <td>0</td>\n",
              "      <td>0</td>\n",
              "      <td>0</td>\n",
              "      <td>0</td>\n",
              "      <td>1</td>\n",
              "      <td>0</td>\n",
              "      <td>0</td>\n",
              "      <td>0</td>\n",
              "      <td>0</td>\n",
              "      <td>0</td>\n",
              "      <td>0</td>\n",
              "      <td>0</td>\n",
              "      <td>0</td>\n",
              "      <td>0</td>\n",
              "      <td>0</td>\n",
              "      <td>6</td>\n",
              "      <td>16</td>\n",
              "      <td>9</td>\n",
              "    </tr>\n",
              "    <tr>\n",
              "      <th>...</th>\n",
              "      <td>...</td>\n",
              "      <td>...</td>\n",
              "      <td>...</td>\n",
              "      <td>...</td>\n",
              "      <td>...</td>\n",
              "      <td>...</td>\n",
              "      <td>...</td>\n",
              "      <td>...</td>\n",
              "      <td>...</td>\n",
              "      <td>...</td>\n",
              "      <td>...</td>\n",
              "      <td>...</td>\n",
              "      <td>...</td>\n",
              "      <td>...</td>\n",
              "      <td>...</td>\n",
              "      <td>...</td>\n",
              "      <td>...</td>\n",
              "      <td>...</td>\n",
              "      <td>...</td>\n",
              "      <td>...</td>\n",
              "      <td>...</td>\n",
              "      <td>...</td>\n",
              "      <td>...</td>\n",
              "      <td>...</td>\n",
              "      <td>...</td>\n",
              "      <td>...</td>\n",
              "      <td>...</td>\n",
              "      <td>...</td>\n",
              "      <td>...</td>\n",
              "      <td>...</td>\n",
              "      <td>...</td>\n",
              "      <td>...</td>\n",
              "      <td>...</td>\n",
              "      <td>...</td>\n",
              "      <td>...</td>\n",
              "      <td>...</td>\n",
              "      <td>...</td>\n",
              "      <td>...</td>\n",
              "    </tr>\n",
              "    <tr>\n",
              "      <th>54266</th>\n",
              "      <td>184875899</td>\n",
              "      <td>13.0</td>\n",
              "      <td>0904-6328</td>\n",
              "      <td>NO</td>\n",
              "      <td>1</td>\n",
              "      <td>1</td>\n",
              "      <td>None</td>\n",
              "      <td>7</td>\n",
              "      <td>None</td>\n",
              "      <td>250.8</td>\n",
              "      <td>730|731</td>\n",
              "      <td>Ch</td>\n",
              "      <td>Other</td>\n",
              "      <td>Male</td>\n",
              "      <td>[40-50)</td>\n",
              "      <td>0</td>\n",
              "      <td>0</td>\n",
              "      <td>0</td>\n",
              "      <td>0</td>\n",
              "      <td>0</td>\n",
              "      <td>0</td>\n",
              "      <td>0</td>\n",
              "      <td>0</td>\n",
              "      <td>0</td>\n",
              "      <td>0</td>\n",
              "      <td>0</td>\n",
              "      <td>1</td>\n",
              "      <td>0</td>\n",
              "      <td>0</td>\n",
              "      <td>0</td>\n",
              "      <td>0</td>\n",
              "      <td>0</td>\n",
              "      <td>0</td>\n",
              "      <td>0</td>\n",
              "      <td>0</td>\n",
              "      <td>2</td>\n",
              "      <td>13</td>\n",
              "      <td>9</td>\n",
              "    </tr>\n",
              "    <tr>\n",
              "      <th>54267</th>\n",
              "      <td>183087545</td>\n",
              "      <td>9.0</td>\n",
              "      <td>0009-3449</td>\n",
              "      <td>&gt;30</td>\n",
              "      <td>1</td>\n",
              "      <td>1</td>\n",
              "      <td>None</td>\n",
              "      <td>7</td>\n",
              "      <td>&gt;7</td>\n",
              "      <td>574</td>\n",
              "      <td>574|250.02</td>\n",
              "      <td>Ch</td>\n",
              "      <td>Caucasian</td>\n",
              "      <td>Female</td>\n",
              "      <td>[70-80)</td>\n",
              "      <td>0</td>\n",
              "      <td>0</td>\n",
              "      <td>0</td>\n",
              "      <td>0</td>\n",
              "      <td>0</td>\n",
              "      <td>1</td>\n",
              "      <td>0</td>\n",
              "      <td>0</td>\n",
              "      <td>0</td>\n",
              "      <td>0</td>\n",
              "      <td>0</td>\n",
              "      <td>0</td>\n",
              "      <td>0</td>\n",
              "      <td>0</td>\n",
              "      <td>0</td>\n",
              "      <td>0</td>\n",
              "      <td>0</td>\n",
              "      <td>0</td>\n",
              "      <td>0</td>\n",
              "      <td>0</td>\n",
              "      <td>2</td>\n",
              "      <td>33</td>\n",
              "      <td>9</td>\n",
              "    </tr>\n",
              "    <tr>\n",
              "      <th>54268</th>\n",
              "      <td>188574944</td>\n",
              "      <td>14.0</td>\n",
              "      <td>0049-0178</td>\n",
              "      <td>&gt;30</td>\n",
              "      <td>1</td>\n",
              "      <td>1</td>\n",
              "      <td>None</td>\n",
              "      <td>7</td>\n",
              "      <td>&gt;8</td>\n",
              "      <td>592</td>\n",
              "      <td>599|518</td>\n",
              "      <td>Ch</td>\n",
              "      <td>Other</td>\n",
              "      <td>Female</td>\n",
              "      <td>[40-50)</td>\n",
              "      <td>0</td>\n",
              "      <td>0</td>\n",
              "      <td>1</td>\n",
              "      <td>0</td>\n",
              "      <td>0</td>\n",
              "      <td>0</td>\n",
              "      <td>0</td>\n",
              "      <td>0</td>\n",
              "      <td>0</td>\n",
              "      <td>0</td>\n",
              "      <td>0</td>\n",
              "      <td>0</td>\n",
              "      <td>0</td>\n",
              "      <td>0</td>\n",
              "      <td>0</td>\n",
              "      <td>0</td>\n",
              "      <td>0</td>\n",
              "      <td>0</td>\n",
              "      <td>0</td>\n",
              "      <td>0</td>\n",
              "      <td>6</td>\n",
              "      <td>26</td>\n",
              "      <td>9</td>\n",
              "    </tr>\n",
              "    <tr>\n",
              "      <th>54269</th>\n",
              "      <td>140199494</td>\n",
              "      <td>2.0</td>\n",
              "      <td>47918-902</td>\n",
              "      <td>&gt;30</td>\n",
              "      <td>1</td>\n",
              "      <td>1</td>\n",
              "      <td>None</td>\n",
              "      <td>7</td>\n",
              "      <td>None</td>\n",
              "      <td>996</td>\n",
              "      <td>585|403</td>\n",
              "      <td>No</td>\n",
              "      <td>Other</td>\n",
              "      <td>Female</td>\n",
              "      <td>[60-70)</td>\n",
              "      <td>0</td>\n",
              "      <td>0</td>\n",
              "      <td>0</td>\n",
              "      <td>0</td>\n",
              "      <td>0</td>\n",
              "      <td>0</td>\n",
              "      <td>0</td>\n",
              "      <td>0</td>\n",
              "      <td>0</td>\n",
              "      <td>1</td>\n",
              "      <td>0</td>\n",
              "      <td>0</td>\n",
              "      <td>0</td>\n",
              "      <td>0</td>\n",
              "      <td>0</td>\n",
              "      <td>0</td>\n",
              "      <td>0</td>\n",
              "      <td>0</td>\n",
              "      <td>0</td>\n",
              "      <td>0</td>\n",
              "      <td>6</td>\n",
              "      <td>17</td>\n",
              "      <td>9</td>\n",
              "    </tr>\n",
              "    <tr>\n",
              "      <th>54270</th>\n",
              "      <td>120975314</td>\n",
              "      <td>5.0</td>\n",
              "      <td>47918-902</td>\n",
              "      <td>NO</td>\n",
              "      <td>1</td>\n",
              "      <td>1</td>\n",
              "      <td>None</td>\n",
              "      <td>7</td>\n",
              "      <td>None</td>\n",
              "      <td>292</td>\n",
              "      <td>8|304</td>\n",
              "      <td>Ch</td>\n",
              "      <td>Caucasian</td>\n",
              "      <td>Female</td>\n",
              "      <td>[80-90)</td>\n",
              "      <td>0</td>\n",
              "      <td>0</td>\n",
              "      <td>0</td>\n",
              "      <td>0</td>\n",
              "      <td>0</td>\n",
              "      <td>0</td>\n",
              "      <td>0</td>\n",
              "      <td>0</td>\n",
              "      <td>0</td>\n",
              "      <td>1</td>\n",
              "      <td>0</td>\n",
              "      <td>0</td>\n",
              "      <td>0</td>\n",
              "      <td>0</td>\n",
              "      <td>0</td>\n",
              "      <td>0</td>\n",
              "      <td>0</td>\n",
              "      <td>0</td>\n",
              "      <td>0</td>\n",
              "      <td>0</td>\n",
              "      <td>1</td>\n",
              "      <td>22</td>\n",
              "      <td>9</td>\n",
              "    </tr>\n",
              "  </tbody>\n",
              "</table>\n",
              "<p>54271 rows × 38 columns</p>\n",
              "</div>\n",
              "      <button class=\"colab-df-convert\" onclick=\"convertToInteractive('df-c18d6cf7-ddc4-436f-aca5-1e1e30f99f3a')\"\n",
              "              title=\"Convert this dataframe to an interactive table.\"\n",
              "              style=\"display:none;\">\n",
              "        \n",
              "  <svg xmlns=\"http://www.w3.org/2000/svg\" height=\"24px\"viewBox=\"0 0 24 24\"\n",
              "       width=\"24px\">\n",
              "    <path d=\"M0 0h24v24H0V0z\" fill=\"none\"/>\n",
              "    <path d=\"M18.56 5.44l.94 2.06.94-2.06 2.06-.94-2.06-.94-.94-2.06-.94 2.06-2.06.94zm-11 1L8.5 8.5l.94-2.06 2.06-.94-2.06-.94L8.5 2.5l-.94 2.06-2.06.94zm10 10l.94 2.06.94-2.06 2.06-.94-2.06-.94-.94-2.06-.94 2.06-2.06.94z\"/><path d=\"M17.41 7.96l-1.37-1.37c-.4-.4-.92-.59-1.43-.59-.52 0-1.04.2-1.43.59L10.3 9.45l-7.72 7.72c-.78.78-.78 2.05 0 2.83L4 21.41c.39.39.9.59 1.41.59.51 0 1.02-.2 1.41-.59l7.78-7.78 2.81-2.81c.8-.78.8-2.07 0-2.86zM5.41 20L4 18.59l7.72-7.72 1.47 1.35L5.41 20z\"/>\n",
              "  </svg>\n",
              "      </button>\n",
              "      \n",
              "  <style>\n",
              "    .colab-df-container {\n",
              "      display:flex;\n",
              "      flex-wrap:wrap;\n",
              "      gap: 12px;\n",
              "    }\n",
              "\n",
              "    .colab-df-convert {\n",
              "      background-color: #E8F0FE;\n",
              "      border: none;\n",
              "      border-radius: 50%;\n",
              "      cursor: pointer;\n",
              "      display: none;\n",
              "      fill: #1967D2;\n",
              "      height: 32px;\n",
              "      padding: 0 0 0 0;\n",
              "      width: 32px;\n",
              "    }\n",
              "\n",
              "    .colab-df-convert:hover {\n",
              "      background-color: #E2EBFA;\n",
              "      box-shadow: 0px 1px 2px rgba(60, 64, 67, 0.3), 0px 1px 3px 1px rgba(60, 64, 67, 0.15);\n",
              "      fill: #174EA6;\n",
              "    }\n",
              "\n",
              "    [theme=dark] .colab-df-convert {\n",
              "      background-color: #3B4455;\n",
              "      fill: #D2E3FC;\n",
              "    }\n",
              "\n",
              "    [theme=dark] .colab-df-convert:hover {\n",
              "      background-color: #434B5C;\n",
              "      box-shadow: 0px 1px 3px 1px rgba(0, 0, 0, 0.15);\n",
              "      filter: drop-shadow(0px 1px 2px rgba(0, 0, 0, 0.3));\n",
              "      fill: #FFFFFF;\n",
              "    }\n",
              "  </style>\n",
              "\n",
              "      <script>\n",
              "        const buttonEl =\n",
              "          document.querySelector('#df-c18d6cf7-ddc4-436f-aca5-1e1e30f99f3a button.colab-df-convert');\n",
              "        buttonEl.style.display =\n",
              "          google.colab.kernel.accessAllowed ? 'block' : 'none';\n",
              "\n",
              "        async function convertToInteractive(key) {\n",
              "          const element = document.querySelector('#df-c18d6cf7-ddc4-436f-aca5-1e1e30f99f3a');\n",
              "          const dataTable =\n",
              "            await google.colab.kernel.invokeFunction('convertToInteractive',\n",
              "                                                     [key], {});\n",
              "          if (!dataTable) return;\n",
              "\n",
              "          const docLinkHtml = 'Like what you see? Visit the ' +\n",
              "            '<a target=\"_blank\" href=https://colab.research.google.com/notebooks/data_table.ipynb>data table notebook</a>'\n",
              "            + ' to learn more about interactive tables.';\n",
              "          element.innerHTML = '';\n",
              "          dataTable['output_type'] = 'display_data';\n",
              "          await google.colab.output.renderOutput(dataTable, element);\n",
              "          const docLink = document.createElement('div');\n",
              "          docLink.innerHTML = docLinkHtml;\n",
              "          element.appendChild(docLink);\n",
              "        }\n",
              "      </script>\n",
              "    </div>\n",
              "  </div>\n",
              "  "
            ]
          },
          "metadata": {},
          "execution_count": 47
        }
      ]
    },
    {
      "cell_type": "code",
      "source": [
        "from my_utils import patient_dataset_splitter\n",
        "d_train, d_val, d_test = patient_dataset_splitter(processed_df, 'patient_nbr')"
      ],
      "metadata": {
        "id": "TmQke6pKU_Tq"
      },
      "execution_count": 49,
      "outputs": []
    },
    {
      "cell_type": "code",
      "source": [
        "assert len(d_train) + len(d_val) + len(d_test) == len(processed_df)\n",
        "print(\"Test passed for number of total rows equal!\")"
      ],
      "metadata": {
        "colab": {
          "base_uri": "https://localhost:8080/"
        },
        "id": "mWf2rhhTVBld",
        "outputId": "afe7bb5c-572a-4c40-d01d-aed8f910e2d2"
      },
      "execution_count": 51,
      "outputs": [
        {
          "output_type": "stream",
          "name": "stdout",
          "text": [
            "Test passed for number of total rows equal!\n"
          ]
        }
      ]
    },
    {
      "cell_type": "code",
      "source": [
        "assert (d_train['patient_nbr'].nunique() + d_val['patient_nbr'].nunique() + d_test['patient_nbr'].nunique()) == agg_drug_df['patient_nbr'].nunique()\n",
        "print(\"Test passed for number of unique patients being equal!\")"
      ],
      "metadata": {
        "colab": {
          "base_uri": "https://localhost:8080/"
        },
        "id": "ubkRwuSyV4WZ",
        "outputId": "bd9dcd99-4dde-4806-a9b5-40753391afa1"
      },
      "execution_count": 52,
      "outputs": [
        {
          "output_type": "stream",
          "name": "stdout",
          "text": [
            "Test passed for number of unique patients being equal!\n"
          ]
        }
      ]
    },
    {
      "cell_type": "markdown",
      "source": [
        "# Demographic Representation Analysis of Split\n",
        "After the split, we should check to see the distribution of key features/groups and make sure that there is representative samples across the partitions. The show_group_stats_viz function in the utils.py file can be used to group and visualize different groups and dataframe partitions.\n",
        "\n",
        "# Label Distribution Across Partitions\n",
        "Below you can see the distributution of the label across your splits."
      ],
      "metadata": {
        "id": "LbIW4Ib6WKRs"
      }
    },
    {
      "cell_type": "code",
      "source": [
        "show_group_stats_viz(processed_df, PREDICTOR_FIELD)"
      ],
      "metadata": {
        "colab": {
          "base_uri": "https://localhost:8080/",
          "height": 560
        },
        "id": "FikBF2AgWHe8",
        "outputId": "d639f9b2-8370-4ec3-cd80-5f3f6f654047"
      },
      "execution_count": 54,
      "outputs": [
        {
          "output_type": "stream",
          "name": "stdout",
          "text": [
            "time_in_hospital\n",
            "1.0     7318\n",
            "2.0     9191\n",
            "3.0     9740\n",
            "4.0     7417\n",
            "5.0     5348\n",
            "6.0     3991\n",
            "7.0     3123\n",
            "8.0     2311\n",
            "9.0     1597\n",
            "10.0    1241\n",
            "11.0    1008\n",
            "12.0     783\n",
            "13.0     663\n",
            "14.0     540\n",
            "dtype: int64\n",
            "Axes(0.125,0.125;0.775x0.755)\n"
          ]
        },
        {
          "output_type": "display_data",
          "data": {
            "text/plain": [
              "<Figure size 432x288 with 1 Axes>"
            ],
            "image/png": "[encoded data removed]"
          },
          "metadata": {
            "needs_background": "light"
          }
        }
      ]
    },
    {
      "cell_type": "code",
      "source": [
        "show_group_stats_viz(d_train, PREDICTOR_FIELD)"
      ],
      "metadata": {
        "colab": {
          "base_uri": "https://localhost:8080/",
          "height": 560
        },
        "id": "9JJwXjF9WlUA",
        "outputId": "c56d4406-96d7-4abe-e92b-263dee8ae54e"
      },
      "execution_count": 55,
      "outputs": [
        {
          "output_type": "stream",
          "name": "stdout",
          "text": [
            "time_in_hospital\n",
            "1.0     4375\n",
            "2.0     5468\n",
            "3.0     5879\n",
            "4.0     4401\n",
            "5.0     3161\n",
            "6.0     2372\n",
            "7.0     1916\n",
            "8.0     1429\n",
            "9.0      986\n",
            "10.0     755\n",
            "11.0     617\n",
            "12.0     484\n",
            "13.0     393\n",
            "14.0     326\n",
            "dtype: int64\n",
            "Axes(0.125,0.125;0.775x0.755)\n"
          ]
        },
        {
          "output_type": "display_data",
          "data": {
            "text/plain": [
              "<Figure size 432x288 with 1 Axes>"
            ],
            "image/png": "[encoded data removed]"
          },
          "metadata": {
            "needs_background": "light"
          }
        }
      ]
    },
    {
      "cell_type": "code",
      "source": [
        "show_group_stats_viz(d_test, PREDICTOR_FIELD)"
      ],
      "metadata": {
        "colab": {
          "base_uri": "https://localhost:8080/",
          "height": 560
        },
        "id": "JxrKwOrqWnYx",
        "outputId": "cf87ca3b-98e6-4349-c0af-e5cf96e8a4dd"
      },
      "execution_count": 56,
      "outputs": [
        {
          "output_type": "stream",
          "name": "stdout",
          "text": [
            "time_in_hospital\n",
            "1.0     1429\n",
            "2.0     1907\n",
            "3.0     1945\n",
            "4.0     1536\n",
            "5.0     1077\n",
            "6.0      797\n",
            "7.0      590\n",
            "8.0      435\n",
            "9.0      311\n",
            "10.0     252\n",
            "11.0     208\n",
            "12.0     148\n",
            "13.0     121\n",
            "14.0      99\n",
            "dtype: int64\n",
            "Axes(0.125,0.125;0.775x0.755)\n"
          ]
        },
        {
          "output_type": "display_data",
          "data": {
            "text/plain": [
              "<Figure size 432x288 with 1 Axes>"
            ],
            "image/png": "[encoded data removed]"
          },
          "metadata": {
            "needs_background": "light"
          }
        }
      ]
    },
    {
      "cell_type": "markdown",
      "source": [
        "# Demographic Group Analysis\n",
        "We should check that our partitions/splits of the dataset are similar in terms of their demographic profiles. Below you can see how we might visualize and analyze the full dataset vs. the partitions."
      ],
      "metadata": {
        "id": "PoZbr2WVWvxL"
      }
    },
    {
      "cell_type": "code",
      "source": [
        "# Full dataset before splitting\n",
        "patient_demo_features = ['race', 'gender', 'age', 'patient_nbr']\n",
        "patient_group_analysis_df = processed_df[patient_demo_features].groupby('patient_nbr').head(1).reset_index(drop=True)\n",
        "show_group_stats_viz(patient_group_analysis_df, 'gender')"
      ],
      "metadata": {
        "colab": {
          "base_uri": "https://localhost:8080/",
          "height": 369
        },
        "id": "WwoihEAnWp1U",
        "outputId": "c3eb45d9-a0a2-4454-eaf6-fdd7edafeb7c"
      },
      "execution_count": 57,
      "outputs": [
        {
          "output_type": "stream",
          "name": "stdout",
          "text": [
            "gender\n",
            "Female             28572\n",
            "Male               25697\n",
            "Unknown/Invalid        2\n",
            "dtype: int64\n",
            "Axes(0.125,0.125;0.775x0.755)\n"
          ]
        },
        {
          "output_type": "display_data",
          "data": {
            "text/plain": [
              "<Figure size 432x288 with 1 Axes>"
            ],
            "image/png": "[encoded data removed]"
          },
          "metadata": {
            "needs_background": "light"
          }
        }
      ]
    },
    {
      "cell_type": "code",
      "source": [
        "# Training partition\n",
        "show_group_stats_viz(d_train, 'gender')"
      ],
      "metadata": {
        "colab": {
          "base_uri": "https://localhost:8080/",
          "height": 369
        },
        "id": "bNnGpV0kW21E",
        "outputId": "76059480-78cd-498f-f583-7fe3e27a3b25"
      },
      "execution_count": 58,
      "outputs": [
        {
          "output_type": "stream",
          "name": "stdout",
          "text": [
            "gender\n",
            "Female             17081\n",
            "Male               15479\n",
            "Unknown/Invalid        2\n",
            "dtype: int64\n",
            "Axes(0.125,0.125;0.775x0.755)\n"
          ]
        },
        {
          "output_type": "display_data",
          "data": {
            "text/plain": [
              "<Figure size 432x288 with 1 Axes>"
            ],
            "image/png": "[encoded data removed]"
          },
          "metadata": {
            "needs_background": "light"
          }
        }
      ]
    },
    {
      "cell_type": "code",
      "source": [
        "# Test partition\n",
        "show_group_stats_viz(d_test, 'gender')"
      ],
      "metadata": {
        "colab": {
          "base_uri": "https://localhost:8080/",
          "height": 352
        },
        "id": "J2KpDANfW8vR",
        "outputId": "50cde015-231a-48ae-d436-8a522c7682d0"
      },
      "execution_count": 59,
      "outputs": [
        {
          "output_type": "stream",
          "name": "stdout",
          "text": [
            "gender\n",
            "Female    5689\n",
            "Male      5166\n",
            "dtype: int64\n",
            "Axes(0.125,0.125;0.775x0.755)\n"
          ]
        },
        {
          "output_type": "display_data",
          "data": {
            "text/plain": [
              "<Figure size 432x288 with 1 Axes>"
            ],
            "image/png": "[encoded data removed]"
          },
          "metadata": {
            "needs_background": "light"
          }
        }
      ]
    },
    {
      "cell_type": "markdown",
      "source": [
        "#Convert Dataset Splits to TF Dataset\n",
        "We have provided you the function to convert the Pandas dataframe to TF tensors using the TF Dataset API. Please note that this is not a scalable method and for larger datasets, the 'make_csv_dataset' method is recommended -https://www.tensorflow.org/api_docs/python/tf/data/experimental/make_csv_dataset."
      ],
      "metadata": {
        "id": "mLYZ_29BXJGC"
      }
    },
    {
      "cell_type": "code",
      "source": [
        "# Convert dataset from Pandas dataframes to TF dataset \n",
        "batch_size = 128\n",
        "diabetes_train_ds = df_to_dataset(d_train, PREDICTOR_FIELD, batch_size=batch_size)\n",
        "diabetes_val_ds = df_to_dataset(d_val, PREDICTOR_FIELD, batch_size=batch_size)\n",
        "diabetes_test_ds = df_to_dataset(d_test, PREDICTOR_FIELD, batch_size=batch_size)\n",
        "\n"
      ],
      "metadata": {
        "id": "usHD1rKKXKnP"
      },
      "execution_count": 60,
      "outputs": []
    },
    {
      "cell_type": "code",
      "source": [
        "# We use this sample of the dataset to show transformations later\n",
        "diabetes_batch = next(iter(diabetes_train_ds))[0]\n",
        "def demo(feature_column, example_batch):\n",
        "    feature_layer = layers.DenseFeatures(feature_column)\n",
        "    print(feature_layer(example_batch))"
      ],
      "metadata": {
        "id": "jRIRNTHbXCQm"
      },
      "execution_count": 61,
      "outputs": []
    },
    {
      "cell_type": "markdown",
      "source": [
        "# 4. Create Categorical Features with TF Feature Columns\n",
        "Build Vocabulary for Categorical Features\n",
        "Before we can create the TF categorical features, we must first create the vocab files with the unique values for a given field that are from the training dataset. Below we have provided a function that you can use that only requires providing the pandas train dataset partition and the list of the categorical columns in a list format. The output variable 'vocab_file_list' will be a list of the file paths that can be used in the next step for creating the categorical features."
      ],
      "metadata": {
        "id": "5Of5CBbnXUB3"
      }
    },
    {
      "cell_type": "code",
      "source": [
        "vocab_file_list = build_vocab_files(d_train, student_categorical_col_list)"
      ],
      "metadata": {
        "id": "tVhLLAnGYCZJ"
      },
      "execution_count": 66,
      "outputs": []
    },
    {
      "cell_type": "code",
      "source": [
        "from my_utils import create_tf_categorical_feature_cols\n",
        "tf_cat_col_list = create_tf_categorical_feature_cols(student_categorical_col_list)"
      ],
      "metadata": {
        "colab": {
          "base_uri": "https://localhost:8080/"
        },
        "id": "bjPswzLUYFWy",
        "outputId": "ba85d00a-cd7c-45c3-cee0-101d949af41d"
      },
      "execution_count": 68,
      "outputs": [
        {
          "output_type": "stream",
          "name": "stdout",
          "text": [
            "### ndc_code: #lines: 237, embedding (categorical)\n",
            "### readmitted: #lines: 4, indicator (categorical)\n",
            "### admission_type_id: #lines: 9, indicator (categorical)\n",
            "### discharge_disposition_id: #lines: 26, embedding (categorical)\n",
            "### max_glu_serum: #lines: 5, indicator (categorical)\n",
            "### admission_source_id: #lines: 18, embedding (categorical)\n",
            "### A1Cresult: #lines: 5, indicator (categorical)\n",
            "### primary_diagnosis_code: #lines: 612, embedding (categorical)\n",
            "### other_diagnosis_codes: #lines: 9495, embedding (categorical)\n",
            "### change: #lines: 3, indicator (categorical)\n",
            "### race: #lines: 7, indicator (categorical)\n",
            "### gender: #lines: 4, indicator (categorical)\n",
            "### age: #lines: 11, embedding (categorical)\n",
            "### Acarbose: #lines: 3, indicator (categorical)\n",
            "### Glimepiride: #lines: 3, indicator (categorical)\n",
            "### Glipizide: #lines: 3, indicator (categorical)\n",
            "### Glipizide_And_Metformin_Hcl: #lines: 3, indicator (categorical)\n",
            "### Glipizide_And_Metformin_Hydrochloride: #lines: 3, indicator (categorical)\n",
            "### Glyburide: #lines: 3, indicator (categorical)\n",
            "### Glyburide_And_Metformin_Hydrochloride: #lines: 3, indicator (categorical)\n",
            "### Glyburide-metformin_Hydrochloride: #lines: 3, indicator (categorical)\n",
            "### Human_Insulin: #lines: 3, indicator (categorical)\n",
            "### Insulin_Human: #lines: 3, indicator (categorical)\n",
            "### Metformin_Hcl: #lines: 3, indicator (categorical)\n",
            "### Metformin_Hydrochloride: #lines: 3, indicator (categorical)\n",
            "### Miglitol: #lines: 3, indicator (categorical)\n",
            "### Nateglinide: #lines: 3, indicator (categorical)\n",
            "### Pioglitazone: #lines: 3, indicator (categorical)\n",
            "### Pioglitazone_Hydrochloride_And_Glimepiride: #lines: 3, indicator (categorical)\n",
            "### Repaglinide: #lines: 3, indicator (categorical)\n",
            "### Rosiglitazone_Maleate: #lines: 3, indicator (categorical)\n",
            "### Tolazamide: #lines: 3, indicator (categorical)\n",
            "### Tolbutamide: #lines: 3, indicator (categorical)\n"
          ]
        }
      ]
    },
    {
      "cell_type": "code",
      "source": [
        "test_cat_var1 = tf_cat_col_list[0]\n",
        "print(\"Example categorical field:\\n{}\".format(test_cat_var1))\n",
        "demo(test_cat_var1, diabetes_batch)"
      ],
      "metadata": {
        "colab": {
          "base_uri": "https://localhost:8080/"
        },
        "id": "DkJqnOmUaKnp",
        "outputId": "2dfbc9cf-3e72-40c5-faa5-d5e8cca82eb5"
      },
      "execution_count": 69,
      "outputs": [
        {
          "output_type": "stream",
          "name": "stdout",
          "text": [
            "Example categorical field:\n",
            "EmbeddingColumn(categorical_column=VocabularyFileCategoricalColumn(key='ndc_code', vocabulary_file='./diabetes_vocab/ndc_code_vocab.txt', vocabulary_size=237, num_oov_buckets=0, dtype=tf.string, default_value=-1, file_format=None), dimension=10, combiner='mean', initializer=<tensorflow.python.ops.init_ops.TruncatedNormal object at 0x7f90b8b347c0>, ckpt_to_load_from=None, tensor_name_in_ckpt=None, max_norm=None, trainable=True, use_safe_embedding_lookup=True)\n",
            "tf.Tensor(\n",
            "[[-0.3027665  -0.08471379 -0.42449534 ... -0.35712373  0.26503253\n",
            "  -0.12012997]\n",
            " [-0.3110195   0.10079824  0.15847503 ... -0.4225161  -0.33382666\n",
            "  -0.18561684]\n",
            " [-0.24633582  0.378652    0.23958102 ...  0.18893398 -0.2869386\n",
            "   0.5328412 ]\n",
            " ...\n",
            " [ 0.20052272 -0.5205849  -0.40184554 ...  0.27437115 -0.4246948\n",
            "  -0.36633372]\n",
            " [ 0.41259533 -0.25028688  0.536023   ... -0.15238473 -0.02798279\n",
            "  -0.33364347]\n",
            " [-0.14480443 -0.04756702 -0.09189741 ... -0.39557925 -0.46881473\n",
            "  -0.53791606]], shape=(128, 10), dtype=float32)\n"
          ]
        }
      ]
    },
    {
      "cell_type": "code",
      "source": [],
      "metadata": {
        "id": "dju3GwJmaUSv"
      },
      "execution_count": null,
      "outputs": []
    },
    {
      "cell_type": "markdown",
      "source": [
        "# Create Numerical Features with TF Feature Columns\n",
        "Question 8: Using the TF Feature Column API(https://www.tensorflow.org/api_docs/python/tf/feature_column/), we create normalized Tensorflow numeric features for the model. We use the z-score normalizer function below to help as well as the 'calculate_stats_from_train_data' function."
      ],
      "metadata": {
        "id": "sCHG74W3aYBM"
      }
    },
    {
      "cell_type": "code",
      "source": [
        "from my_utils import create_tf_numeric_feature"
      ],
      "metadata": {
        "id": "Ds13fVjjaeo_"
      },
      "execution_count": 70,
      "outputs": []
    },
    {
      "cell_type": "markdown",
      "source": [
        "For simplicity the create_tf_numerical_feature_cols function below uses the same normalizer function across all features(z-score normalization) but if you have time feel free to analyze and adapt the normalizer based off the statistical distributions. You may find this as a good resource in determining which transformation fits best for the data https://developers.google.com/machine-learning/data-prep/transform/normalization.\n",
        "\n",
        "\n",
        "\n"
      ],
      "metadata": {
        "id": "EJ6bCqMdav6R"
      }
    },
    {
      "cell_type": "code",
      "source": [
        "def calculate_stats_from_train_data(df, col):\n",
        "    mean = df[col].describe()['mean']\n",
        "    std = df[col].describe()['std']\n",
        "    return mean, std\n",
        "\n",
        "def create_tf_numerical_feature_cols(numerical_col_list, train_df):\n",
        "    tf_numeric_col_list = []\n",
        "    for c in numerical_col_list:\n",
        "        mean, std = calculate_stats_from_train_data(train_df, c)\n",
        "        tf_numeric_feature = create_tf_numeric_feature(c, mean, std)\n",
        "        tf_numeric_col_list.append(tf_numeric_feature)\n",
        "    return tf_numeric_col_list"
      ],
      "metadata": {
        "id": "Jfnvzpgwa2W-"
      },
      "execution_count": 71,
      "outputs": []
    },
    {
      "cell_type": "code",
      "source": [
        "tf_cont_col_list = create_tf_numerical_feature_cols(student_numerical_col_list, d_train)\n",
        "test_cont_var1 = tf_cont_col_list[0]\n",
        "print(\"Example continuous field:\\n{}\\n\".format(test_cont_var1))\n",
        "demo(test_cont_var1, diabetes_batch)"
      ],
      "metadata": {
        "colab": {
          "base_uri": "https://localhost:8080/"
        },
        "id": "qbX1qZkNa6xj",
        "outputId": "5d52826e-caaf-42e0-9859-5669de76bbf7"
      },
      "execution_count": 72,
      "outputs": [
        {
          "output_type": "stream",
          "name": "stdout",
          "text": [
            "### num_procedures: #mean/std: 1.4221792273201892/1.7665345724057384, numeric (normalized)\n",
            "### num_medications: #mean/std: 16.582703765124993/8.433943803951957, numeric (normalized)\n",
            "### number_diagnoses: #mean/std: 7.252902155887231/2.0041444631600216, numeric (normalized)\n",
            "Example continuous field:\n",
            "NumericColumn(key='num_procedures', shape=(1,), default_value=(0,), dtype=tf.float64, normalizer_fn=functools.partial(<function normalize_numeric_with_zscore at 0x7f90b85eef70>, mean=1.4221792273201892, std=1.7665345724057384))\n",
            "\n",
            "tf.Tensor(\n",
            "[[ 0.]\n",
            " [-1.]\n",
            " [-1.]\n",
            " [ 1.]\n",
            " [ 0.]\n",
            " [-1.]\n",
            " [ 0.]\n",
            " [-1.]\n",
            " [ 0.]\n",
            " [-1.]\n",
            " [ 3.]\n",
            " [-1.]\n",
            " [-1.]\n",
            " [ 0.]\n",
            " [ 0.]\n",
            " [ 0.]\n",
            " [-1.]\n",
            " [-1.]\n",
            " [ 0.]\n",
            " [ 3.]\n",
            " [-1.]\n",
            " [-1.]\n",
            " [-1.]\n",
            " [-1.]\n",
            " [-1.]\n",
            " [-1.]\n",
            " [-1.]\n",
            " [ 0.]\n",
            " [ 4.]\n",
            " [-1.]\n",
            " [-1.]\n",
            " [ 2.]\n",
            " [ 2.]\n",
            " [ 3.]\n",
            " [-1.]\n",
            " [-1.]\n",
            " [-1.]\n",
            " [ 5.]\n",
            " [-1.]\n",
            " [-1.]\n",
            " [ 0.]\n",
            " [-1.]\n",
            " [ 0.]\n",
            " [-1.]\n",
            " [-1.]\n",
            " [ 0.]\n",
            " [ 4.]\n",
            " [-1.]\n",
            " [-1.]\n",
            " [-1.]\n",
            " [ 2.]\n",
            " [-1.]\n",
            " [-1.]\n",
            " [ 0.]\n",
            " [-1.]\n",
            " [ 4.]\n",
            " [ 5.]\n",
            " [-1.]\n",
            " [-1.]\n",
            " [ 2.]\n",
            " [-1.]\n",
            " [ 4.]\n",
            " [ 2.]\n",
            " [-1.]\n",
            " [ 0.]\n",
            " [-1.]\n",
            " [ 3.]\n",
            " [-1.]\n",
            " [ 1.]\n",
            " [-1.]\n",
            " [-1.]\n",
            " [ 5.]\n",
            " [ 0.]\n",
            " [ 0.]\n",
            " [-1.]\n",
            " [ 2.]\n",
            " [ 1.]\n",
            " [-1.]\n",
            " [ 1.]\n",
            " [-1.]\n",
            " [ 1.]\n",
            " [-1.]\n",
            " [-1.]\n",
            " [ 2.]\n",
            " [ 0.]\n",
            " [ 0.]\n",
            " [ 0.]\n",
            " [-1.]\n",
            " [-1.]\n",
            " [-1.]\n",
            " [ 2.]\n",
            " [ 0.]\n",
            " [ 4.]\n",
            " [ 5.]\n",
            " [ 0.]\n",
            " [ 0.]\n",
            " [ 5.]\n",
            " [-1.]\n",
            " [-1.]\n",
            " [ 0.]\n",
            " [ 1.]\n",
            " [ 0.]\n",
            " [ 2.]\n",
            " [-1.]\n",
            " [ 0.]\n",
            " [ 0.]\n",
            " [-1.]\n",
            " [ 3.]\n",
            " [ 0.]\n",
            " [ 3.]\n",
            " [-1.]\n",
            " [-1.]\n",
            " [-1.]\n",
            " [ 1.]\n",
            " [ 2.]\n",
            " [-1.]\n",
            " [ 0.]\n",
            " [ 0.]\n",
            " [-1.]\n",
            " [ 1.]\n",
            " [ 0.]\n",
            " [-1.]\n",
            " [-1.]\n",
            " [ 2.]\n",
            " [ 4.]\n",
            " [-1.]\n",
            " [ 1.]\n",
            " [-1.]], shape=(128, 1), dtype=float32)\n"
          ]
        }
      ]
    },
    {
      "cell_type": "markdown",
      "source": [
        "## 6. Build Deep Learning Regression Model with Sequential API and TF Probability Layers\n",
        "\n",
        "Use DenseFeatures to combine features for model\n",
        "Now that we have prepared categorical and numerical features using Tensorflow's Feature Column API, we can combine them into a dense vector representation for the model. Below we will create this new input layer, which we will call 'claim_feature_layer'."
      ],
      "metadata": {
        "id": "DCG7RMbwblwU"
      }
    },
    {
      "cell_type": "code",
      "source": [
        "claim_feature_columns = tf_cat_col_list + tf_cont_col_list\n",
        "claim_feature_layer = tf.keras.layers.DenseFeatures(claim_feature_columns)"
      ],
      "metadata": {
        "id": "-aHLx2e_bgqD"
      },
      "execution_count": 73,
      "outputs": []
    },
    {
      "cell_type": "markdown",
      "source": [
        "## Build Sequential API Model from DenseFeatures and TF Probability Layers\n",
        "Below we have provided some boilerplate code for building a model that connects the Sequential API, DenseFeatures, and Tensorflow Probability layers into a deep learning model. There are many opportunities to further optimize and explore different architectures through benchmarking and testing approaches in various research papers, loss and evaluation metrics, learning curves, hyperparameter tuning, TF probability layers, etc. Feel free to modify and explore as you wish."
      ],
      "metadata": {
        "id": "ZqO0oR3IcEL9"
      }
    },
    {
      "cell_type": "code",
      "source": [
        "def build_sequential_model(feature_layer):\n",
        "    model = tf.keras.Sequential([\n",
        "        feature_layer,\n",
        "        tf.keras.layers.Dense(150, activation='relu'),\n",
        "        tf.keras.layers.Dense(75, activation='relu'),\n",
        "        tfp.layers.DenseVariational(1+1, posterior_mean_field, prior_trainable),\n",
        "        tfp.layers.DistributionLambda(\n",
        "            lambda t:tfp.distributions.Normal(loc=t[..., :1],\n",
        "                                             scale=1e-3 + tf.math.softplus(0.01 * t[...,1:])\n",
        "                                             )\n",
        "        ),\n",
        "    ])\n",
        "    return model\n",
        "\n",
        "def build_diabetes_model(train_ds, val_ds,  feature_layer,  epochs=5, loss_metric='mse'):\n",
        "    model = build_sequential_model(feature_layer)\n",
        "    model.compile(optimizer='rmsprop', loss=loss_metric, metrics=[loss_metric])\n",
        "    early_stop = tf.keras.callbacks.EarlyStopping(monitor=loss_metric, patience=3)     \n",
        "    history = model.fit(train_ds, validation_data=val_ds,\n",
        "                        callbacks=[early_stop],\n",
        "                        epochs=epochs, verbose=1)\n",
        "\n",
        "    return model, history "
      ],
      "metadata": {
        "id": "9EG_8qTbcRJB"
      },
      "execution_count": 74,
      "outputs": []
    },
    {
      "cell_type": "code",
      "source": [
        "diabetes_model, history = build_diabetes_model(diabetes_train_ds, diabetes_val_ds,  claim_feature_layer,  epochs=500)"
      ],
      "metadata": {
        "colab": {
          "base_uri": "https://localhost:8080/"
        },
        "id": "kGP1Zn4acU8U",
        "outputId": "33a95126-df4c-46a5-db3f-b04ee19e6a7b"
      },
      "execution_count": 75,
      "outputs": [
        {
          "output_type": "stream",
          "name": "stdout",
          "text": [
            "Epoch 1/500\n"
          ]
        },
        {
          "output_type": "stream",
          "name": "stderr",
          "text": [
            "WARNING:tensorflow:Layers in a Sequential model should only have a single input tensor. Received: inputs={'patient_nbr': <tf.Tensor 'IteratorGetNext:33' shape=(None,) dtype=int64>, 'ndc_code': <tf.Tensor 'IteratorGetNext:28' shape=(None,) dtype=string>, 'readmitted': <tf.Tensor 'IteratorGetNext:36' shape=(None,) dtype=string>, 'admission_type_id': <tf.Tensor 'IteratorGetNext:22' shape=(None,) dtype=string>, 'discharge_disposition_id': <tf.Tensor 'IteratorGetNext:25' shape=(None,) dtype=string>, 'max_glu_serum': <tf.Tensor 'IteratorGetNext:27' shape=(None,) dtype=string>, 'admission_source_id': <tf.Tensor 'IteratorGetNext:21' shape=(None,) dtype=string>, 'A1Cresult': <tf.Tensor 'IteratorGetNext:0' shape=(None,) dtype=string>, 'primary_diagnosis_code': <tf.Tensor 'IteratorGetNext:34' shape=(None,) dtype=string>, 'other_diagnosis_codes': <tf.Tensor 'IteratorGetNext:32' shape=(None,) dtype=string>, 'change': <tf.Tensor 'IteratorGetNext:24' shape=(None,) dtype=string>, 'race': <tf.Tensor 'IteratorGetNext:35' shape=(None,) dtype=string>, 'gender': <tf.Tensor 'IteratorGetNext:26' shape=(None,) dtype=string>, 'age': <tf.Tensor 'IteratorGetNext:23' shape=(None,) dtype=string>, 'Acarbose': <tf.Tensor 'IteratorGetNext:1' shape=(None,) dtype=string>, 'Glimepiride': <tf.Tensor 'IteratorGetNext:2' shape=(None,) dtype=string>, 'Glipizide': <tf.Tensor 'IteratorGetNext:3' shape=(None,) dtype=string>, 'Glipizide_And_Metformin_Hcl': <tf.Tensor 'IteratorGetNext:4' shape=(None,) dtype=string>, 'Glipizide_And_Metformin_Hydrochloride': <tf.Tensor 'IteratorGetNext:5' shape=(None,) dtype=string>, 'Glyburide': <tf.Tensor 'IteratorGetNext:6' shape=(None,) dtype=string>, 'Glyburide_And_Metformin_Hydrochloride': <tf.Tensor 'IteratorGetNext:8' shape=(None,) dtype=string>, 'Glyburide-metformin_Hydrochloride': <tf.Tensor 'IteratorGetNext:7' shape=(None,) dtype=string>, 'Human_Insulin': <tf.Tensor 'IteratorGetNext:9' shape=(None,) dtype=string>, 'Insulin_Human': <tf.Tensor 'IteratorGetNext:10' shape=(None,) dtype=string>, 'Metformin_Hcl': <tf.Tensor 'IteratorGetNext:11' shape=(None,) dtype=string>, 'Metformin_Hydrochloride': <tf.Tensor 'IteratorGetNext:12' shape=(None,) dtype=string>, 'Miglitol': <tf.Tensor 'IteratorGetNext:13' shape=(None,) dtype=string>, 'Nateglinide': <tf.Tensor 'IteratorGetNext:14' shape=(None,) dtype=string>, 'Pioglitazone': <tf.Tensor 'IteratorGetNext:15' shape=(None,) dtype=string>, 'Pioglitazone_Hydrochloride_And_Glimepiride': <tf.Tensor 'IteratorGetNext:16' shape=(None,) dtype=string>, 'Repaglinide': <tf.Tensor 'IteratorGetNext:17' shape=(None,) dtype=string>, 'Rosiglitazone_Maleate': <tf.Tensor 'IteratorGetNext:18' shape=(None,) dtype=string>, 'Tolazamide': <tf.Tensor 'IteratorGetNext:19' shape=(None,) dtype=string>, 'Tolbutamide': <tf.Tensor 'IteratorGetNext:20' shape=(None,) dtype=string>, 'num_procedures': <tf.Tensor 'IteratorGetNext:30' shape=(None,) dtype=int64>, 'num_medications': <tf.Tensor 'IteratorGetNext:29' shape=(None,) dtype=int64>, 'number_diagnoses': <tf.Tensor 'IteratorGetNext:31' shape=(None,) dtype=int64>}. Consider rewriting this model with the Functional API.\n",
            "WARNING:tensorflow:Layers in a Sequential model should only have a single input tensor. Received: inputs={'patient_nbr': <tf.Tensor 'IteratorGetNext:33' shape=(None,) dtype=int64>, 'ndc_code': <tf.Tensor 'IteratorGetNext:28' shape=(None,) dtype=string>, 'readmitted': <tf.Tensor 'IteratorGetNext:36' shape=(None,) dtype=string>, 'admission_type_id': <tf.Tensor 'IteratorGetNext:22' shape=(None,) dtype=string>, 'discharge_disposition_id': <tf.Tensor 'IteratorGetNext:25' shape=(None,) dtype=string>, 'max_glu_serum': <tf.Tensor 'IteratorGetNext:27' shape=(None,) dtype=string>, 'admission_source_id': <tf.Tensor 'IteratorGetNext:21' shape=(None,) dtype=string>, 'A1Cresult': <tf.Tensor 'IteratorGetNext:0' shape=(None,) dtype=string>, 'primary_diagnosis_code': <tf.Tensor 'IteratorGetNext:34' shape=(None,) dtype=string>, 'other_diagnosis_codes': <tf.Tensor 'IteratorGetNext:32' shape=(None,) dtype=string>, 'change': <tf.Tensor 'IteratorGetNext:24' shape=(None,) dtype=string>, 'race': <tf.Tensor 'IteratorGetNext:35' shape=(None,) dtype=string>, 'gender': <tf.Tensor 'IteratorGetNext:26' shape=(None,) dtype=string>, 'age': <tf.Tensor 'IteratorGetNext:23' shape=(None,) dtype=string>, 'Acarbose': <tf.Tensor 'IteratorGetNext:1' shape=(None,) dtype=string>, 'Glimepiride': <tf.Tensor 'IteratorGetNext:2' shape=(None,) dtype=string>, 'Glipizide': <tf.Tensor 'IteratorGetNext:3' shape=(None,) dtype=string>, 'Glipizide_And_Metformin_Hcl': <tf.Tensor 'IteratorGetNext:4' shape=(None,) dtype=string>, 'Glipizide_And_Metformin_Hydrochloride': <tf.Tensor 'IteratorGetNext:5' shape=(None,) dtype=string>, 'Glyburide': <tf.Tensor 'IteratorGetNext:6' shape=(None,) dtype=string>, 'Glyburide_And_Metformin_Hydrochloride': <tf.Tensor 'IteratorGetNext:8' shape=(None,) dtype=string>, 'Glyburide-metformin_Hydrochloride': <tf.Tensor 'IteratorGetNext:7' shape=(None,) dtype=string>, 'Human_Insulin': <tf.Tensor 'IteratorGetNext:9' shape=(None,) dtype=string>, 'Insulin_Human': <tf.Tensor 'IteratorGetNext:10' shape=(None,) dtype=string>, 'Metformin_Hcl': <tf.Tensor 'IteratorGetNext:11' shape=(None,) dtype=string>, 'Metformin_Hydrochloride': <tf.Tensor 'IteratorGetNext:12' shape=(None,) dtype=string>, 'Miglitol': <tf.Tensor 'IteratorGetNext:13' shape=(None,) dtype=string>, 'Nateglinide': <tf.Tensor 'IteratorGetNext:14' shape=(None,) dtype=string>, 'Pioglitazone': <tf.Tensor 'IteratorGetNext:15' shape=(None,) dtype=string>, 'Pioglitazone_Hydrochloride_And_Glimepiride': <tf.Tensor 'IteratorGetNext:16' shape=(None,) dtype=string>, 'Repaglinide': <tf.Tensor 'IteratorGetNext:17' shape=(None,) dtype=string>, 'Rosiglitazone_Maleate': <tf.Tensor 'IteratorGetNext:18' shape=(None,) dtype=string>, 'Tolazamide': <tf.Tensor 'IteratorGetNext:19' shape=(None,) dtype=string>, 'Tolbutamide': <tf.Tensor 'IteratorGetNext:20' shape=(None,) dtype=string>, 'num_procedures': <tf.Tensor 'IteratorGetNext:30' shape=(None,) dtype=int64>, 'num_medications': <tf.Tensor 'IteratorGetNext:29' shape=(None,) dtype=int64>, 'number_diagnoses': <tf.Tensor 'IteratorGetNext:31' shape=(None,) dtype=int64>}. Consider rewriting this model with the Functional API.\n"
          ]
        },
        {
          "output_type": "stream",
          "name": "stdout",
          "text": [
            "254/255 [============================>.] - ETA: 0s - loss: 28.0877 - mse: 27.9568"
          ]
        },
        {
          "output_type": "stream",
          "name": "stderr",
          "text": [
            "WARNING:tensorflow:Layers in a Sequential model should only have a single input tensor. Received: inputs={'patient_nbr': <tf.Tensor 'IteratorGetNext:33' shape=(None,) dtype=int64>, 'ndc_code': <tf.Tensor 'IteratorGetNext:28' shape=(None,) dtype=string>, 'readmitted': <tf.Tensor 'IteratorGetNext:36' shape=(None,) dtype=string>, 'admission_type_id': <tf.Tensor 'IteratorGetNext:22' shape=(None,) dtype=string>, 'discharge_disposition_id': <tf.Tensor 'IteratorGetNext:25' shape=(None,) dtype=string>, 'max_glu_serum': <tf.Tensor 'IteratorGetNext:27' shape=(None,) dtype=string>, 'admission_source_id': <tf.Tensor 'IteratorGetNext:21' shape=(None,) dtype=string>, 'A1Cresult': <tf.Tensor 'IteratorGetNext:0' shape=(None,) dtype=string>, 'primary_diagnosis_code': <tf.Tensor 'IteratorGetNext:34' shape=(None,) dtype=string>, 'other_diagnosis_codes': <tf.Tensor 'IteratorGetNext:32' shape=(None,) dtype=string>, 'change': <tf.Tensor 'IteratorGetNext:24' shape=(None,) dtype=string>, 'race': <tf.Tensor 'IteratorGetNext:35' shape=(None,) dtype=string>, 'gender': <tf.Tensor 'IteratorGetNext:26' shape=(None,) dtype=string>, 'age': <tf.Tensor 'IteratorGetNext:23' shape=(None,) dtype=string>, 'Acarbose': <tf.Tensor 'IteratorGetNext:1' shape=(None,) dtype=string>, 'Glimepiride': <tf.Tensor 'IteratorGetNext:2' shape=(None,) dtype=string>, 'Glipizide': <tf.Tensor 'IteratorGetNext:3' shape=(None,) dtype=string>, 'Glipizide_And_Metformin_Hcl': <tf.Tensor 'IteratorGetNext:4' shape=(None,) dtype=string>, 'Glipizide_And_Metformin_Hydrochloride': <tf.Tensor 'IteratorGetNext:5' shape=(None,) dtype=string>, 'Glyburide': <tf.Tensor 'IteratorGetNext:6' shape=(None,) dtype=string>, 'Glyburide_And_Metformin_Hydrochloride': <tf.Tensor 'IteratorGetNext:8' shape=(None,) dtype=string>, 'Glyburide-metformin_Hydrochloride': <tf.Tensor 'IteratorGetNext:7' shape=(None,) dtype=string>, 'Human_Insulin': <tf.Tensor 'IteratorGetNext:9' shape=(None,) dtype=string>, 'Insulin_Human': <tf.Tensor 'IteratorGetNext:10' shape=(None,) dtype=string>, 'Metformin_Hcl': <tf.Tensor 'IteratorGetNext:11' shape=(None,) dtype=string>, 'Metformin_Hydrochloride': <tf.Tensor 'IteratorGetNext:12' shape=(None,) dtype=string>, 'Miglitol': <tf.Tensor 'IteratorGetNext:13' shape=(None,) dtype=string>, 'Nateglinide': <tf.Tensor 'IteratorGetNext:14' shape=(None,) dtype=string>, 'Pioglitazone': <tf.Tensor 'IteratorGetNext:15' shape=(None,) dtype=string>, 'Pioglitazone_Hydrochloride_And_Glimepiride': <tf.Tensor 'IteratorGetNext:16' shape=(None,) dtype=string>, 'Repaglinide': <tf.Tensor 'IteratorGetNext:17' shape=(None,) dtype=string>, 'Rosiglitazone_Maleate': <tf.Tensor 'IteratorGetNext:18' shape=(None,) dtype=string>, 'Tolazamide': <tf.Tensor 'IteratorGetNext:19' shape=(None,) dtype=string>, 'Tolbutamide': <tf.Tensor 'IteratorGetNext:20' shape=(None,) dtype=string>, 'num_procedures': <tf.Tensor 'IteratorGetNext:30' shape=(None,) dtype=int64>, 'num_medications': <tf.Tensor 'IteratorGetNext:29' shape=(None,) dtype=int64>, 'number_diagnoses': <tf.Tensor 'IteratorGetNext:31' shape=(None,) dtype=int64>}. Consider rewriting this model with the Functional API.\n"
          ]
        },
        {
          "output_type": "stream",
          "name": "stdout",
          "text": [
            "\b\b\b\b\b\b\b\b\b\b\b\b\b\b\b\b\b\b\b\b\b\b\b\b\b\b\b\b\b\b\b\b\b\b\b\b\b\b\b\b\b\b\b\b\b\b\b\b\b\b\b\b\b\b\b\b\b\b\b\b\b\b\b\b\b\b\b\b\b\b\b\b\b\b\b\b\b\b\b\b\b\r255/255 [==============================] - 15s 26ms/step - loss: 28.0791 - mse: 27.9477 - val_loss: 27.8700 - val_mse: 27.7214\n",
            "Epoch 2/500\n",
            "255/255 [==============================] - 5s 18ms/step - loss: 20.8503 - mse: 20.3410 - val_loss: 25.8288 - val_mse: 25.4698\n",
            "Epoch 3/500\n",
            "255/255 [==============================] - 6s 22ms/step - loss: 16.2932 - mse: 15.6162 - val_loss: 17.4710 - val_mse: 16.9133\n",
            "Epoch 4/500\n",
            "255/255 [==============================] - 5s 16ms/step - loss: 13.8048 - mse: 12.8475 - val_loss: 12.9174 - val_mse: 11.9779\n",
            "Epoch 5/500\n",
            "255/255 [==============================] - 6s 20ms/step - loss: 13.1263 - mse: 12.4430 - val_loss: 11.2589 - val_mse: 10.2818\n",
            "Epoch 6/500\n",
            "255/255 [==============================] - 6s 22ms/step - loss: 12.2379 - mse: 11.2926 - val_loss: 10.6245 - val_mse: 9.4695\n",
            "Epoch 7/500\n",
            "255/255 [==============================] - 5s 17ms/step - loss: 10.7335 - mse: 9.7807 - val_loss: 9.9983 - val_mse: 8.8263\n",
            "Epoch 8/500\n",
            "255/255 [==============================] - 7s 26ms/step - loss: 10.0209 - mse: 9.0270 - val_loss: 9.5399 - val_mse: 8.8453\n",
            "Epoch 9/500\n",
            "255/255 [==============================] - 11s 32ms/step - loss: 10.1214 - mse: 9.2015 - val_loss: 8.9978 - val_mse: 8.0297\n",
            "Epoch 10/500\n",
            "255/255 [==============================] - 7s 27ms/step - loss: 9.1185 - mse: 8.1714 - val_loss: 9.2062 - val_mse: 8.2697\n",
            "Epoch 11/500\n",
            "255/255 [==============================] - 5s 15ms/step - loss: 9.2796 - mse: 8.3530 - val_loss: 9.0054 - val_mse: 8.2363\n",
            "Epoch 12/500\n",
            "255/255 [==============================] - 5s 17ms/step - loss: 9.0581 - mse: 8.2075 - val_loss: 9.3939 - val_mse: 8.2339\n",
            "Epoch 13/500\n",
            "255/255 [==============================] - 5s 19ms/step - loss: 8.8825 - mse: 7.8479 - val_loss: 9.2645 - val_mse: 8.2859\n",
            "Epoch 14/500\n",
            "255/255 [==============================] - 5s 16ms/step - loss: 8.6592 - mse: 7.7720 - val_loss: 8.8871 - val_mse: 7.9828\n",
            "Epoch 15/500\n",
            "255/255 [==============================] - 5s 16ms/step - loss: 8.2684 - mse: 7.3328 - val_loss: 8.0547 - val_mse: 6.8745\n",
            "Epoch 16/500\n",
            "255/255 [==============================] - 4s 15ms/step - loss: 8.4652 - mse: 7.5098 - val_loss: 8.6830 - val_mse: 7.8382\n",
            "Epoch 17/500\n",
            "255/255 [==============================] - 6s 19ms/step - loss: 7.9152 - mse: 7.1116 - val_loss: 8.0737 - val_mse: 7.2612\n",
            "Epoch 18/500\n",
            "255/255 [==============================] - 6s 22ms/step - loss: 8.2439 - mse: 7.3590 - val_loss: 7.8540 - val_mse: 7.2849\n",
            "Epoch 19/500\n",
            "255/255 [==============================] - 5s 16ms/step - loss: 7.8971 - mse: 7.0724 - val_loss: 7.7888 - val_mse: 6.9206\n",
            "Epoch 20/500\n",
            "255/255 [==============================] - 4s 15ms/step - loss: 7.7185 - mse: 6.7530 - val_loss: 8.2462 - val_mse: 7.4086\n",
            "Epoch 21/500\n",
            "255/255 [==============================] - 6s 16ms/step - loss: 7.7072 - mse: 6.7293 - val_loss: 8.7949 - val_mse: 7.6838\n",
            "Epoch 22/500\n",
            "255/255 [==============================] - 7s 26ms/step - loss: 7.7660 - mse: 6.9939 - val_loss: 8.3938 - val_mse: 7.6230\n",
            "Epoch 23/500\n",
            "255/255 [==============================] - 8s 27ms/step - loss: 7.4422 - mse: 6.4813 - val_loss: 7.7401 - val_mse: 7.1422\n",
            "Epoch 24/500\n",
            "255/255 [==============================] - 6s 21ms/step - loss: 7.5095 - mse: 6.5668 - val_loss: 8.3381 - val_mse: 7.3439\n",
            "Epoch 25/500\n",
            "255/255 [==============================] - 4s 15ms/step - loss: 7.3328 - mse: 6.3769 - val_loss: 7.9421 - val_mse: 7.2375\n",
            "Epoch 26/500\n",
            "255/255 [==============================] - 5s 15ms/step - loss: 6.9999 - mse: 6.0016 - val_loss: 7.9227 - val_mse: 7.2191\n",
            "Epoch 27/500\n",
            "255/255 [==============================] - 7s 24ms/step - loss: 6.8922 - mse: 6.0943 - val_loss: 8.2896 - val_mse: 7.0308\n",
            "Epoch 28/500\n",
            "255/255 [==============================] - 5s 16ms/step - loss: 6.9892 - mse: 6.1135 - val_loss: 8.1030 - val_mse: 7.2670\n",
            "Epoch 29/500\n",
            "255/255 [==============================] - 5s 18ms/step - loss: 6.7869 - mse: 5.8196 - val_loss: 7.9994 - val_mse: 7.0998\n",
            "Epoch 30/500\n",
            "255/255 [==============================] - 8s 26ms/step - loss: 6.6848 - mse: 5.7779 - val_loss: 8.0198 - val_mse: 6.8184\n",
            "Epoch 31/500\n",
            "255/255 [==============================] - 4s 15ms/step - loss: 6.7523 - mse: 5.8857 - val_loss: 7.9816 - val_mse: 6.7533\n",
            "Epoch 32/500\n",
            "255/255 [==============================] - 6s 23ms/step - loss: 6.7182 - mse: 5.8448 - val_loss: 7.7006 - val_mse: 6.8852\n",
            "Epoch 33/500\n",
            "255/255 [==============================] - 4s 13ms/step - loss: 6.5613 - mse: 5.5287 - val_loss: 7.9078 - val_mse: 7.1022\n",
            "Epoch 34/500\n",
            "255/255 [==============================] - 4s 15ms/step - loss: 6.5379 - mse: 5.6013 - val_loss: 7.7890 - val_mse: 6.7535\n",
            "Epoch 35/500\n",
            "255/255 [==============================] - 5s 15ms/step - loss: 6.4483 - mse: 5.4597 - val_loss: 7.6751 - val_mse: 6.8351\n",
            "Epoch 36/500\n",
            "255/255 [==============================] - 4s 12ms/step - loss: 6.2455 - mse: 5.2631 - val_loss: 8.1636 - val_mse: 7.3586\n",
            "Epoch 37/500\n",
            "255/255 [==============================] - 5s 19ms/step - loss: 6.1070 - mse: 5.2448 - val_loss: 8.0862 - val_mse: 7.0545\n",
            "Epoch 38/500\n",
            "255/255 [==============================] - 4s 15ms/step - loss: 6.1799 - mse: 5.2085 - val_loss: 7.7043 - val_mse: 6.7123\n",
            "Epoch 39/500\n",
            "255/255 [==============================] - 6s 19ms/step - loss: 6.0166 - mse: 5.1641 - val_loss: 8.4712 - val_mse: 7.4743\n",
            "Epoch 40/500\n",
            "255/255 [==============================] - 4s 15ms/step - loss: 6.0619 - mse: 5.1110 - val_loss: 7.9999 - val_mse: 7.2096\n",
            "Epoch 41/500\n",
            "255/255 [==============================] - 9s 29ms/step - loss: 5.9906 - mse: 5.0520 - val_loss: 7.8762 - val_mse: 7.0147\n",
            "Epoch 42/500\n",
            "255/255 [==============================] - 11s 31ms/step - loss: 5.7917 - mse: 5.0879 - val_loss: 8.0006 - val_mse: 7.0471\n",
            "Epoch 43/500\n",
            "255/255 [==============================] - 4s 13ms/step - loss: 5.7201 - mse: 4.8343 - val_loss: 7.8385 - val_mse: 6.9087\n",
            "Epoch 44/500\n",
            "255/255 [==============================] - 5s 18ms/step - loss: 5.6147 - mse: 4.6480 - val_loss: 8.2853 - val_mse: 7.3848\n",
            "Epoch 45/500\n",
            "255/255 [==============================] - 4s 12ms/step - loss: 5.6783 - mse: 4.7794 - val_loss: 7.9883 - val_mse: 7.1692\n",
            "Epoch 46/500\n",
            "255/255 [==============================] - 8s 28ms/step - loss: 5.6387 - mse: 4.6283 - val_loss: 9.3413 - val_mse: 8.0930\n",
            "Epoch 47/500\n",
            "255/255 [==============================] - 4s 13ms/step - loss: 5.5580 - mse: 4.6369 - val_loss: 8.0059 - val_mse: 7.2282\n",
            "Epoch 48/500\n",
            "255/255 [==============================] - 4s 15ms/step - loss: 5.5080 - mse: 4.6103 - val_loss: 8.3812 - val_mse: 7.4866\n",
            "Epoch 49/500\n",
            "255/255 [==============================] - 5s 17ms/step - loss: 5.4846 - mse: 4.5647 - val_loss: 7.9689 - val_mse: 6.8633\n",
            "Epoch 50/500\n",
            "255/255 [==============================] - 5s 17ms/step - loss: 5.4224 - mse: 4.4767 - val_loss: 8.2206 - val_mse: 7.4574\n",
            "Epoch 51/500\n",
            "255/255 [==============================] - 4s 12ms/step - loss: 5.3562 - mse: 4.5177 - val_loss: 8.2101 - val_mse: 7.3228\n",
            "Epoch 52/500\n",
            "255/255 [==============================] - 4s 15ms/step - loss: 5.4584 - mse: 4.3406 - val_loss: 8.0112 - val_mse: 7.2821\n",
            "Epoch 53/500\n",
            "255/255 [==============================] - 7s 26ms/step - loss: 5.4713 - mse: 4.3812 - val_loss: 8.5218 - val_mse: 7.4599\n",
            "Epoch 54/500\n",
            "255/255 [==============================] - 4s 13ms/step - loss: 5.1565 - mse: 4.3320 - val_loss: 8.3353 - val_mse: 7.5625\n",
            "Epoch 55/500\n",
            "255/255 [==============================] - 9s 30ms/step - loss: 5.2373 - mse: 4.3722 - val_loss: 8.4065 - val_mse: 7.4639\n",
            "Epoch 56/500\n",
            "255/255 [==============================] - 5s 19ms/step - loss: 5.4067 - mse: 4.3468 - val_loss: 8.2465 - val_mse: 7.4156\n",
            "Epoch 57/500\n",
            "255/255 [==============================] - 7s 25ms/step - loss: 5.1335 - mse: 4.2357 - val_loss: 8.4972 - val_mse: 7.7700\n",
            "Epoch 58/500\n",
            "255/255 [==============================] - 10s 30ms/step - loss: 5.2256 - mse: 4.2572 - val_loss: 8.3921 - val_mse: 7.6799\n",
            "Epoch 59/500\n",
            "255/255 [==============================] - 5s 18ms/step - loss: 5.0107 - mse: 4.1139 - val_loss: 8.0141 - val_mse: 7.2146\n",
            "Epoch 60/500\n",
            "255/255 [==============================] - 6s 19ms/step - loss: 5.0609 - mse: 4.2214 - val_loss: 8.3067 - val_mse: 7.3593\n",
            "Epoch 61/500\n",
            "255/255 [==============================] - 7s 26ms/step - loss: 4.8450 - mse: 3.9011 - val_loss: 8.5416 - val_mse: 7.7136\n",
            "Epoch 62/500\n",
            "255/255 [==============================] - 5s 17ms/step - loss: 4.9412 - mse: 4.0081 - val_loss: 8.2440 - val_mse: 7.3119\n",
            "Epoch 63/500\n",
            "255/255 [==============================] - 6s 22ms/step - loss: 5.0082 - mse: 3.9719 - val_loss: 8.5025 - val_mse: 7.6498\n",
            "Epoch 64/500\n",
            "255/255 [==============================] - 6s 24ms/step - loss: 4.7534 - mse: 3.9590 - val_loss: 8.9503 - val_mse: 7.8852\n"
          ]
        }
      ]
    },
    {
      "cell_type": "markdown",
      "source": [
        "Show Model Uncertainty Range with TF Probability"
      ],
      "metadata": {
        "id": "PY_iBGsFcevN"
      }
    },
    {
      "cell_type": "markdown",
      "source": [],
      "metadata": {
        "id": "Y2Bx4v_Rd-_H"
      }
    },
    {
      "cell_type": "code",
      "source": [
        "feature_list = student_categorical_col_list + student_numerical_col_list\n",
        "diabetes_x_tst = dict(d_test[feature_list])\n",
        "diabetes_yhat = diabetes_model(diabetes_x_tst)\n",
        "preds = diabetes_model.predict(diabetes_test_ds)\n",
        "preds"
      ],
      "metadata": {
        "colab": {
          "base_uri": "https://localhost:8080/"
        },
        "id": "YN8gXcpwcgVP",
        "outputId": "e1b53cc6-e8e9-4473-f925-caf1136f7a65"
      },
      "execution_count": 76,
      "outputs": [
        {
          "output_type": "stream",
          "name": "stderr",
          "text": [
            "WARNING:tensorflow:Layers in a Sequential model should only have a single input tensor. Received: inputs={'ndc_code': 20670     0378-0228\n",
            "38142     0378-0318\n",
            "47412     0904-6689\n",
            "29887    68071-1701\n",
            "35019     47918-898\n",
            "            ...    \n",
            "13537     33342-141\n",
            "295       0173-0863\n",
            "41556     16714-938\n",
            "17850     0591-0460\n",
            "3873      0173-0861\n",
            "Name: ndc_code, Length: 10855, dtype: object, 'readmitted': 20670     NO\n",
            "38142     NO\n",
            "47412    <30\n",
            "29887    >30\n",
            "35019    <30\n",
            "        ... \n",
            "13537    >30\n",
            "295      >30\n",
            "41556     NO\n",
            "17850     NO\n",
            "3873      NO\n",
            "Name: readmitted, Length: 10855, dtype: object, 'admission_type_id': 20670    2\n",
            "38142    1\n",
            "47412    2\n",
            "29887    2\n",
            "35019    5\n",
            "        ..\n",
            "13537    1\n",
            "295      6\n",
            "41556    1\n",
            "17850    1\n",
            "3873     3\n",
            "Name: admission_type_id, Length: 10855, dtype: object, 'discharge_disposition_id': 20670     1\n",
            "38142     1\n",
            "47412     3\n",
            "29887     3\n",
            "35019     1\n",
            "         ..\n",
            "13537     1\n",
            "295      25\n",
            "41556     1\n",
            "17850     3\n",
            "3873      1\n",
            "Name: discharge_disposition_id, Length: 10855, dtype: object, 'max_glu_serum': 20670    None\n",
            "38142    None\n",
            "47412    None\n",
            "29887    None\n",
            "35019    None\n",
            "         ... \n",
            "13537    None\n",
            "295      None\n",
            "41556    None\n",
            "17850    None\n",
            "3873     None\n",
            "Name: max_glu_serum, Length: 10855, dtype: object, 'admission_source_id': 20670    7\n",
            "38142    7\n",
            "47412    7\n",
            "29887    7\n",
            "35019    1\n",
            "        ..\n",
            "13537    7\n",
            "295      7\n",
            "41556    7\n",
            "17850    6\n",
            "3873     4\n",
            "Name: admission_source_id, Length: 10855, dtype: object, 'A1Cresult': 20670    None\n",
            "38142    None\n",
            "47412      >8\n",
            "29887    None\n",
            "35019      >8\n",
            "         ... \n",
            "13537    None\n",
            "295        >8\n",
            "41556    None\n",
            "17850    None\n",
            "3873     None\n",
            "Name: A1Cresult, Length: 10855, dtype: object, 'primary_diagnosis_code': 20670    427\n",
            "38142    560\n",
            "47412    823\n",
            "29887    482\n",
            "35019    487\n",
            "        ... \n",
            "13537    296\n",
            "295      822\n",
            "41556    427\n",
            "17850    436\n",
            "3873     411\n",
            "Name: primary_diagnosis_code, Length: 10855, dtype: object, 'other_diagnosis_codes': 20670       250|401\n",
            "38142       511|250\n",
            "47412       250|401\n",
            "29887       491|733\n",
            "35019       493|584\n",
            "            ...    \n",
            "13537       303|250\n",
            "295      250.01|496\n",
            "41556       428|401\n",
            "17850       496|342\n",
            "3873        530|250\n",
            "Name: other_diagnosis_codes, Length: 10855, dtype: object, 'change': 20670    Ch\n",
            "38142    No\n",
            "47412    Ch\n",
            "29887    Ch\n",
            "35019    Ch\n",
            "         ..\n",
            "13537    No\n",
            "295      Ch\n",
            "41556    Ch\n",
            "17850    Ch\n",
            "3873     No\n",
            "Name: change, Length: 10855, dtype: object, 'race': 20670          Caucasian\n",
            "38142          Caucasian\n",
            "47412          Caucasian\n",
            "29887          Caucasian\n",
            "35019    AfricanAmerican\n",
            "              ...       \n",
            "13537          Caucasian\n",
            "295            Caucasian\n",
            "41556          Caucasian\n",
            "17850          Caucasian\n",
            "3873           Caucasian\n",
            "Name: race, Length: 10855, dtype: object, 'gender': 20670      Male\n",
            "38142      Male\n",
            "47412    Female\n",
            "29887    Female\n",
            "35019    Female\n",
            "          ...  \n",
            "13537      Male\n",
            "295        Male\n",
            "41556    Female\n",
            "17850    Female\n",
            "3873       Male\n",
            "Name: gender, Length: 10855, dtype: object, 'age': 20670    [60-70)\n",
            "38142    [70-80)\n",
            "47412    [60-70)\n",
            "29887    [70-80)\n",
            "35019    [80-90)\n",
            "          ...   \n",
            "13537    [30-40)\n",
            "295      [60-70)\n",
            "41556    [70-80)\n",
            "17850    [80-90)\n",
            "3873     [40-50)\n",
            "Name: age, Length: 10855, dtype: object, 'Acarbose': 20670    0\n",
            "38142    0\n",
            "47412    0\n",
            "29887    0\n",
            "35019    0\n",
            "        ..\n",
            "13537    0\n",
            "295      0\n",
            "41556    0\n",
            "17850    0\n",
            "3873     0\n",
            "Name: Acarbose, Length: 10855, dtype: object, 'Glimepiride': 20670    0\n",
            "38142    0\n",
            "47412    0\n",
            "29887    0\n",
            "35019    0\n",
            "        ..\n",
            "13537    0\n",
            "295      0\n",
            "41556    0\n",
            "17850    0\n",
            "3873     0\n",
            "Name: Glimepiride, Length: 10855, dtype: object, 'Glipizide': 20670    0\n",
            "38142    0\n",
            "47412    0\n",
            "29887    0\n",
            "35019    0\n",
            "        ..\n",
            "13537    0\n",
            "295      0\n",
            "41556    0\n",
            "17850    1\n",
            "3873     0\n",
            "Name: Glipizide, Length: 10855, dtype: object, 'Glipizide_And_Metformin_Hcl': 20670    0\n",
            "38142    0\n",
            "47412    0\n",
            "29887    0\n",
            "35019    0\n",
            "        ..\n",
            "13537    0\n",
            "295      0\n",
            "41556    0\n",
            "17850    0\n",
            "3873     0\n",
            "Name: Glipizide_And_Metformin_Hcl, Length: 10855, dtype: object, 'Glipizide_And_Metformin_Hydrochloride': 20670    0\n",
            "38142    0\n",
            "47412    0\n",
            "29887    0\n",
            "35019    0\n",
            "        ..\n",
            "13537    0\n",
            "295      0\n",
            "41556    0\n",
            "17850    0\n",
            "3873     0\n",
            "Name: Glipizide_And_Metformin_Hydrochloride, Length: 10855, dtype: object, 'Glyburide': 20670    0\n",
            "38142    0\n",
            "47412    0\n",
            "29887    0\n",
            "35019    0\n",
            "        ..\n",
            "13537    0\n",
            "295      0\n",
            "41556    0\n",
            "17850    0\n",
            "3873     0\n",
            "Name: Glyburide, Length: 10855, dtype: object, 'Glyburide_And_Metformin_Hydrochloride': 20670    0\n",
            "38142    0\n",
            "47412    0\n",
            "29887    0\n",
            "35019    0\n",
            "        ..\n",
            "13537    0\n",
            "295      0\n",
            "41556    0\n",
            "17850    0\n",
            "3873     0\n",
            "Name: Glyburide_And_Metformin_Hydrochloride, Length: 10855, dtype: object, 'Glyburide-metformin_Hydrochloride': 20670    0\n",
            "38142    0\n",
            "47412    0\n",
            "29887    0\n",
            "35019    0\n",
            "        ..\n",
            "13537    0\n",
            "295      0\n",
            "41556    0\n",
            "17850    0\n",
            "3873     0\n",
            "Name: Glyburide-metformin_Hydrochloride, Length: 10855, dtype: object, 'Human_Insulin': 20670    0\n",
            "38142    0\n",
            "47412    0\n",
            "29887    1\n",
            "35019    0\n",
            "        ..\n",
            "13537    0\n",
            "295      0\n",
            "41556    0\n",
            "17850    0\n",
            "3873     0\n",
            "Name: Human_Insulin, Length: 10855, dtype: object, 'Insulin_Human': 20670    0\n",
            "38142    0\n",
            "47412    0\n",
            "29887    0\n",
            "35019    1\n",
            "        ..\n",
            "13537    0\n",
            "295      0\n",
            "41556    0\n",
            "17850    0\n",
            "3873     0\n",
            "Name: Insulin_Human, Length: 10855, dtype: object, 'Metformin_Hcl': 20670    0\n",
            "38142    0\n",
            "47412    0\n",
            "29887    0\n",
            "35019    0\n",
            "        ..\n",
            "13537    0\n",
            "295      0\n",
            "41556    0\n",
            "17850    0\n",
            "3873     0\n",
            "Name: Metformin_Hcl, Length: 10855, dtype: object, 'Metformin_Hydrochloride': 20670    0\n",
            "38142    0\n",
            "47412    1\n",
            "29887    0\n",
            "35019    0\n",
            "        ..\n",
            "13537    1\n",
            "295      0\n",
            "41556    1\n",
            "17850    0\n",
            "3873     0\n",
            "Name: Metformin_Hydrochloride, Length: 10855, dtype: object, 'Miglitol': 20670    0\n",
            "38142    0\n",
            "47412    0\n",
            "29887    0\n",
            "35019    0\n",
            "        ..\n",
            "13537    0\n",
            "295      0\n",
            "41556    0\n",
            "17850    0\n",
            "3873     0\n",
            "Name: Miglitol, Length: 10855, dtype: object, 'Nateglinide': 20670    0\n",
            "38142    0\n",
            "47412    0\n",
            "29887    0\n",
            "35019    0\n",
            "        ..\n",
            "13537    0\n",
            "295      0\n",
            "41556    0\n",
            "17850    0\n",
            "3873     0\n",
            "Name: Nateglinide, Length: 10855, dtype: object, 'Pioglitazone': 20670    1\n",
            "38142    1\n",
            "47412    0\n",
            "29887    0\n",
            "35019    0\n",
            "        ..\n",
            "13537    0\n",
            "295      0\n",
            "41556    0\n",
            "17850    0\n",
            "3873     0\n",
            "Name: Pioglitazone, Length: 10855, dtype: object, 'Pioglitazone_Hydrochloride_And_Glimepiride': 20670    0\n",
            "38142    0\n",
            "47412    0\n",
            "29887    0\n",
            "35019    0\n",
            "        ..\n",
            "13537    0\n",
            "295      0\n",
            "41556    0\n",
            "17850    0\n",
            "3873     0\n",
            "Name: Pioglitazone_Hydrochloride_And_Glimepiride, Length: 10855, dtype: object, 'Repaglinide': 20670    0\n",
            "38142    0\n",
            "47412    0\n",
            "29887    0\n",
            "35019    0\n",
            "        ..\n",
            "13537    0\n",
            "295      0\n",
            "41556    0\n",
            "17850    0\n",
            "3873     0\n",
            "Name: Repaglinide, Length: 10855, dtype: object, 'Rosiglitazone_Maleate': 20670    0\n",
            "38142    0\n",
            "47412    0\n",
            "29887    0\n",
            "35019    0\n",
            "        ..\n",
            "13537    0\n",
            "295      1\n",
            "41556    0\n",
            "17850    0\n",
            "3873     1\n",
            "Name: Rosiglitazone_Maleate, Length: 10855, dtype: object, 'Tolazamide': 20670    0\n",
            "38142    0\n",
            "47412    0\n",
            "29887    0\n",
            "35019    0\n",
            "        ..\n",
            "13537    0\n",
            "295      0\n",
            "41556    0\n",
            "17850    0\n",
            "3873     0\n",
            "Name: Tolazamide, Length: 10855, dtype: object, 'Tolbutamide': 20670    0\n",
            "38142    0\n",
            "47412    0\n",
            "29887    0\n",
            "35019    0\n",
            "        ..\n",
            "13537    0\n",
            "295      0\n",
            "41556    0\n",
            "17850    0\n",
            "3873     0\n",
            "Name: Tolbutamide, Length: 10855, dtype: object, 'num_procedures': 20670    0\n",
            "38142    0\n",
            "47412    1\n",
            "29887    0\n",
            "35019    0\n",
            "        ..\n",
            "13537    1\n",
            "295      0\n",
            "41556    0\n",
            "17850    0\n",
            "3873     3\n",
            "Name: num_procedures, Length: 10855, dtype: int64, 'num_medications': 20670     6\n",
            "38142    10\n",
            "47412    18\n",
            "29887    35\n",
            "35019    23\n",
            "         ..\n",
            "13537     7\n",
            "295      12\n",
            "41556    18\n",
            "17850    17\n",
            "3873      7\n",
            "Name: num_medications, Length: 10855, dtype: int64, 'number_diagnoses': 20670    6\n",
            "38142    5\n",
            "47412    5\n",
            "29887    9\n",
            "35019    9\n",
            "        ..\n",
            "13537    4\n",
            "295      6\n",
            "41556    6\n",
            "17850    5\n",
            "3873     7\n",
            "Name: number_diagnoses, Length: 10855, dtype: int64}. Consider rewriting this model with the Functional API.\n",
            "WARNING:tensorflow:Layers in a Sequential model should only have a single input tensor. Received: inputs={'patient_nbr': <tf.Tensor 'IteratorGetNext:33' shape=(None,) dtype=int64>, 'ndc_code': <tf.Tensor 'IteratorGetNext:28' shape=(None,) dtype=string>, 'readmitted': <tf.Tensor 'IteratorGetNext:36' shape=(None,) dtype=string>, 'admission_type_id': <tf.Tensor 'IteratorGetNext:22' shape=(None,) dtype=string>, 'discharge_disposition_id': <tf.Tensor 'IteratorGetNext:25' shape=(None,) dtype=string>, 'max_glu_serum': <tf.Tensor 'IteratorGetNext:27' shape=(None,) dtype=string>, 'admission_source_id': <tf.Tensor 'IteratorGetNext:21' shape=(None,) dtype=string>, 'A1Cresult': <tf.Tensor 'IteratorGetNext:0' shape=(None,) dtype=string>, 'primary_diagnosis_code': <tf.Tensor 'IteratorGetNext:34' shape=(None,) dtype=string>, 'other_diagnosis_codes': <tf.Tensor 'IteratorGetNext:32' shape=(None,) dtype=string>, 'change': <tf.Tensor 'IteratorGetNext:24' shape=(None,) dtype=string>, 'race': <tf.Tensor 'IteratorGetNext:35' shape=(None,) dtype=string>, 'gender': <tf.Tensor 'IteratorGetNext:26' shape=(None,) dtype=string>, 'age': <tf.Tensor 'IteratorGetNext:23' shape=(None,) dtype=string>, 'Acarbose': <tf.Tensor 'IteratorGetNext:1' shape=(None,) dtype=string>, 'Glimepiride': <tf.Tensor 'IteratorGetNext:2' shape=(None,) dtype=string>, 'Glipizide': <tf.Tensor 'IteratorGetNext:3' shape=(None,) dtype=string>, 'Glipizide_And_Metformin_Hcl': <tf.Tensor 'IteratorGetNext:4' shape=(None,) dtype=string>, 'Glipizide_And_Metformin_Hydrochloride': <tf.Tensor 'IteratorGetNext:5' shape=(None,) dtype=string>, 'Glyburide': <tf.Tensor 'IteratorGetNext:6' shape=(None,) dtype=string>, 'Glyburide_And_Metformin_Hydrochloride': <tf.Tensor 'IteratorGetNext:8' shape=(None,) dtype=string>, 'Glyburide-metformin_Hydrochloride': <tf.Tensor 'IteratorGetNext:7' shape=(None,) dtype=string>, 'Human_Insulin': <tf.Tensor 'IteratorGetNext:9' shape=(None,) dtype=string>, 'Insulin_Human': <tf.Tensor 'IteratorGetNext:10' shape=(None,) dtype=string>, 'Metformin_Hcl': <tf.Tensor 'IteratorGetNext:11' shape=(None,) dtype=string>, 'Metformin_Hydrochloride': <tf.Tensor 'IteratorGetNext:12' shape=(None,) dtype=string>, 'Miglitol': <tf.Tensor 'IteratorGetNext:13' shape=(None,) dtype=string>, 'Nateglinide': <tf.Tensor 'IteratorGetNext:14' shape=(None,) dtype=string>, 'Pioglitazone': <tf.Tensor 'IteratorGetNext:15' shape=(None,) dtype=string>, 'Pioglitazone_Hydrochloride_And_Glimepiride': <tf.Tensor 'IteratorGetNext:16' shape=(None,) dtype=string>, 'Repaglinide': <tf.Tensor 'IteratorGetNext:17' shape=(None,) dtype=string>, 'Rosiglitazone_Maleate': <tf.Tensor 'IteratorGetNext:18' shape=(None,) dtype=string>, 'Tolazamide': <tf.Tensor 'IteratorGetNext:19' shape=(None,) dtype=string>, 'Tolbutamide': <tf.Tensor 'IteratorGetNext:20' shape=(None,) dtype=string>, 'num_procedures': <tf.Tensor 'IteratorGetNext:30' shape=(None,) dtype=int64>, 'num_medications': <tf.Tensor 'IteratorGetNext:29' shape=(None,) dtype=int64>, 'number_diagnoses': <tf.Tensor 'IteratorGetNext:31' shape=(None,) dtype=int64>}. Consider rewriting this model with the Functional API.\n"
          ]
        },
        {
          "output_type": "stream",
          "name": "stdout",
          "text": [
            "85/85 [==============================] - 5s 7ms/step\n"
          ]
        },
        {
          "output_type": "execute_result",
          "data": {
            "text/plain": [
              "array([[4.9043107],\n",
              "       [4.1974983],\n",
              "       [3.6601624],\n",
              "       ...,\n",
              "       [4.725168 ],\n",
              "       [3.418857 ],\n",
              "       [6.716187 ]], dtype=float32)"
            ]
          },
          "metadata": {},
          "execution_count": 76
        }
      ]
    },
    {
      "cell_type": "code",
      "source": [
        "from my_utils import get_mean_std_from_preds\n",
        "m, s = get_mean_std_from_preds(diabetes_yhat)"
      ],
      "metadata": {
        "id": "jtVmoZJdcj7M"
      },
      "execution_count": 77,
      "outputs": []
    },
    {
      "cell_type": "code",
      "source": [],
      "metadata": {
        "id": "woyh_laScp-x"
      },
      "execution_count": null,
      "outputs": []
    },
    {
      "cell_type": "markdown",
      "source": [
        "## Show Prediction Output"
      ],
      "metadata": {
        "id": "G2VWOY-8csfl"
      }
    },
    {
      "cell_type": "code",
      "source": [
        "prob_outputs = {\n",
        "    \"pred\": preds.flatten(),\n",
        "    \"actual_value\": d_test['time_in_hospital'].values,\n",
        "    \"pred_mean\": m.numpy().flatten(),\n",
        "    \"pred_std\": s.numpy().flatten()\n",
        "}\n",
        "prob_output_df = pd.DataFrame(prob_outputs)\n",
        "prob_output_df.head()"
      ],
      "metadata": {
        "colab": {
          "base_uri": "https://localhost:8080/",
          "height": 206
        },
        "id": "UiR16HYrcuyu",
        "outputId": "62a8f791-d819-4bc0-abad-8c0fb4a68d5e"
      },
      "execution_count": 78,
      "outputs": [
        {
          "output_type": "execute_result",
          "data": {
            "text/plain": [
              "       pred  actual_value  pred_mean  pred_std\n",
              "0  4.904311           1.0   2.192016  0.694691\n",
              "1  4.197498           5.0   3.094538  0.693492\n",
              "2  3.660162           4.0   4.113023  0.692909\n",
              "3  2.901910           8.0  10.502642  0.685309\n",
              "4  7.786010           3.0   6.503889  0.690194"
            ],
            "text/html": [
              "\n",
              "  <div id=\"df-82ed91d0-0e87-4215-b19f-976677956a9d\">\n",
              "    <div class=\"colab-df-container\">\n",
              "      <div>\n",
              "<style scoped>\n",
              "    .dataframe tbody tr th:only-of-type {\n",
              "        vertical-align: middle;\n",
              "    }\n",
              "\n",
              "    .dataframe tbody tr th {\n",
              "        vertical-align: top;\n",
              "    }\n",
              "\n",
              "    .dataframe thead th {\n",
              "        text-align: right;\n",
              "    }\n",
              "</style>\n",
              "<table border=\"1\" class=\"dataframe\">\n",
              "  <thead>\n",
              "    <tr style=\"text-align: right;\">\n",
              "      <th></th>\n",
              "      <th>pred</th>\n",
              "      <th>actual_value</th>\n",
              "      <th>pred_mean</th>\n",
              "      <th>pred_std</th>\n",
              "    </tr>\n",
              "  </thead>\n",
              "  <tbody>\n",
              "    <tr>\n",
              "      <th>0</th>\n",
              "      <td>4.904311</td>\n",
              "      <td>1.0</td>\n",
              "      <td>2.192016</td>\n",
              "      <td>0.694691</td>\n",
              "    </tr>\n",
              "    <tr>\n",
              "      <th>1</th>\n",
              "      <td>4.197498</td>\n",
              "      <td>5.0</td>\n",
              "      <td>3.094538</td>\n",
              "      <td>0.693492</td>\n",
              "    </tr>\n",
              "    <tr>\n",
              "      <th>2</th>\n",
              "      <td>3.660162</td>\n",
              "      <td>4.0</td>\n",
              "      <td>4.113023</td>\n",
              "      <td>0.692909</td>\n",
              "    </tr>\n",
              "    <tr>\n",
              "      <th>3</th>\n",
              "      <td>2.901910</td>\n",
              "      <td>8.0</td>\n",
              "      <td>10.502642</td>\n",
              "      <td>0.685309</td>\n",
              "    </tr>\n",
              "    <tr>\n",
              "      <th>4</th>\n",
              "      <td>7.786010</td>\n",
              "      <td>3.0</td>\n",
              "      <td>6.503889</td>\n",
              "      <td>0.690194</td>\n",
              "    </tr>\n",
              "  </tbody>\n",
              "</table>\n",
              "</div>\n",
              "      <button class=\"colab-df-convert\" onclick=\"convertToInteractive('df-82ed91d0-0e87-4215-b19f-976677956a9d')\"\n",
              "              title=\"Convert this dataframe to an interactive table.\"\n",
              "              style=\"display:none;\">\n",
              "        \n",
              "  <svg xmlns=\"http://www.w3.org/2000/svg\" height=\"24px\"viewBox=\"0 0 24 24\"\n",
              "       width=\"24px\">\n",
              "    <path d=\"M0 0h24v24H0V0z\" fill=\"none\"/>\n",
              "    <path d=\"M18.56 5.44l.94 2.06.94-2.06 2.06-.94-2.06-.94-.94-2.06-.94 2.06-2.06.94zm-11 1L8.5 8.5l.94-2.06 2.06-.94-2.06-.94L8.5 2.5l-.94 2.06-2.06.94zm10 10l.94 2.06.94-2.06 2.06-.94-2.06-.94-.94-2.06-.94 2.06-2.06.94z\"/><path d=\"M17.41 7.96l-1.37-1.37c-.4-.4-.92-.59-1.43-.59-.52 0-1.04.2-1.43.59L10.3 9.45l-7.72 7.72c-.78.78-.78 2.05 0 2.83L4 21.41c.39.39.9.59 1.41.59.51 0 1.02-.2 1.41-.59l7.78-7.78 2.81-2.81c.8-.78.8-2.07 0-2.86zM5.41 20L4 18.59l7.72-7.72 1.47 1.35L5.41 20z\"/>\n",
              "  </svg>\n",
              "      </button>\n",
              "      \n",
              "  <style>\n",
              "    .colab-df-container {\n",
              "      display:flex;\n",
              "      flex-wrap:wrap;\n",
              "      gap: 12px;\n",
              "    }\n",
              "\n",
              "    .colab-df-convert {\n",
              "      background-color: #E8F0FE;\n",
              "      border: none;\n",
              "      border-radius: 50%;\n",
              "      cursor: pointer;\n",
              "      display: none;\n",
              "      fill: #1967D2;\n",
              "      height: 32px;\n",
              "      padding: 0 0 0 0;\n",
              "      width: 32px;\n",
              "    }\n",
              "\n",
              "    .colab-df-convert:hover {\n",
              "      background-color: #E2EBFA;\n",
              "      box-shadow: 0px 1px 2px rgba(60, 64, 67, 0.3), 0px 1px 3px 1px rgba(60, 64, 67, 0.15);\n",
              "      fill: #174EA6;\n",
              "    }\n",
              "\n",
              "    [theme=dark] .colab-df-convert {\n",
              "      background-color: #3B4455;\n",
              "      fill: #D2E3FC;\n",
              "    }\n",
              "\n",
              "    [theme=dark] .colab-df-convert:hover {\n",
              "      background-color: #434B5C;\n",
              "      box-shadow: 0px 1px 3px 1px rgba(0, 0, 0, 0.15);\n",
              "      filter: drop-shadow(0px 1px 2px rgba(0, 0, 0, 0.3));\n",
              "      fill: #FFFFFF;\n",
              "    }\n",
              "  </style>\n",
              "\n",
              "      <script>\n",
              "        const buttonEl =\n",
              "          document.querySelector('#df-82ed91d0-0e87-4215-b19f-976677956a9d button.colab-df-convert');\n",
              "        buttonEl.style.display =\n",
              "          google.colab.kernel.accessAllowed ? 'block' : 'none';\n",
              "\n",
              "        async function convertToInteractive(key) {\n",
              "          const element = document.querySelector('#df-82ed91d0-0e87-4215-b19f-976677956a9d');\n",
              "          const dataTable =\n",
              "            await google.colab.kernel.invokeFunction('convertToInteractive',\n",
              "                                                     [key], {});\n",
              "          if (!dataTable) return;\n",
              "\n",
              "          const docLinkHtml = 'Like what you see? Visit the ' +\n",
              "            '<a target=\"_blank\" href=https://colab.research.google.com/notebooks/data_table.ipynb>data table notebook</a>'\n",
              "            + ' to learn more about interactive tables.';\n",
              "          element.innerHTML = '';\n",
              "          dataTable['output_type'] = 'display_data';\n",
              "          await google.colab.output.renderOutput(dataTable, element);\n",
              "          const docLink = document.createElement('div');\n",
              "          docLink.innerHTML = docLinkHtml;\n",
              "          element.appendChild(docLink);\n",
              "        }\n",
              "      </script>\n",
              "    </div>\n",
              "  </div>\n",
              "  "
            ]
          },
          "metadata": {},
          "execution_count": 78
        }
      ]
    },
    {
      "cell_type": "code",
      "source": [],
      "metadata": {
        "id": "UufDZSbHcxNY"
      },
      "execution_count": null,
      "outputs": []
    },
    {
      "cell_type": "markdown",
      "source": [
        "##Convert Regression Output to Classification Output for Patient Selection\n",
        "Given the output predictions, we convert it to a binary label for whether the patient meets the time criteria or does not"
      ],
      "metadata": {
        "id": "GNYpR3Mqczq2"
      }
    },
    {
      "cell_type": "code",
      "source": [
        "from my_utils import get_student_binary_prediction\n",
        "student_binary_prediction = get_student_binary_prediction(prob_output_df, 'pred_mean')"
      ],
      "metadata": {
        "colab": {
          "base_uri": "https://localhost:8080/"
        },
        "id": "tRvr69Cdc77N",
        "outputId": "c9bbbade-3840-42c8-b25b-623041768b34"
      },
      "execution_count": 79,
      "outputs": [
        {
          "output_type": "stream",
          "name": "stdout",
          "text": [
            "### Transformed to numpy: <class 'numpy.ndarray'>, shape: (10855,)\n"
          ]
        }
      ]
    },
    {
      "cell_type": "code",
      "source": [
        "def add_pred_to_test(test_df, pred_np, demo_col_list):\n",
        "    for c in demo_col_list:\n",
        "        test_df[c] = test_df[c].astype(str)\n",
        "    test_df['score'] = pred_np\n",
        "    test_df['label_value'] = test_df['time_in_hospital'].apply(lambda x: 1 if x >=5 else 0)\n",
        "    return test_df\n",
        "\n",
        "pred_test_df = add_pred_to_test(d_test, student_binary_prediction, ['race', 'gender'])"
      ],
      "metadata": {
        "id": "HcdnhbF3dAvi"
      },
      "execution_count": 80,
      "outputs": []
    },
    {
      "cell_type": "code",
      "source": [
        "pred_test_df[['patient_nbr', 'gender', 'race', 'time_in_hospital', 'score', 'label_value']].head()"
      ],
      "metadata": {
        "colab": {
          "base_uri": "https://localhost:8080/",
          "height": 206
        },
        "id": "5F2HePWbdC7n",
        "outputId": "a1d285b7-7560-4690-dc65-1c634705f1d0"
      },
      "execution_count": 81,
      "outputs": [
        {
          "output_type": "execute_result",
          "data": {
            "text/plain": [
              "       patient_nbr  gender             race  time_in_hospital  score  \\\n",
              "20670     98621343    Male        Caucasian               1.0      0   \n",
              "38142    103488624    Male        Caucasian               5.0      0   \n",
              "47412    105554556  Female        Caucasian               4.0      0   \n",
              "29887     89260308  Female        Caucasian               8.0      1   \n",
              "35019     86194917  Female  AfricanAmerican               3.0      1   \n",
              "\n",
              "       label_value  \n",
              "20670            0  \n",
              "38142            1  \n",
              "47412            0  \n",
              "29887            1  \n",
              "35019            0  "
            ],
            "text/html": [
              "\n",
              "  <div id=\"df-b08102f9-6e38-4633-8de2-84f2674edc35\">\n",
              "    <div class=\"colab-df-container\">\n",
              "      <div>\n",
              "<style scoped>\n",
              "    .dataframe tbody tr th:only-of-type {\n",
              "        vertical-align: middle;\n",
              "    }\n",
              "\n",
              "    .dataframe tbody tr th {\n",
              "        vertical-align: top;\n",
              "    }\n",
              "\n",
              "    .dataframe thead th {\n",
              "        text-align: right;\n",
              "    }\n",
              "</style>\n",
              "<table border=\"1\" class=\"dataframe\">\n",
              "  <thead>\n",
              "    <tr style=\"text-align: right;\">\n",
              "      <th></th>\n",
              "      <th>patient_nbr</th>\n",
              "      <th>gender</th>\n",
              "      <th>race</th>\n",
              "      <th>time_in_hospital</th>\n",
              "      <th>score</th>\n",
              "      <th>label_value</th>\n",
              "    </tr>\n",
              "  </thead>\n",
              "  <tbody>\n",
              "    <tr>\n",
              "      <th>20670</th>\n",
              "      <td>98621343</td>\n",
              "      <td>Male</td>\n",
              "      <td>Caucasian</td>\n",
              "      <td>1.0</td>\n",
              "      <td>0</td>\n",
              "      <td>0</td>\n",
              "    </tr>\n",
              "    <tr>\n",
              "      <th>38142</th>\n",
              "      <td>103488624</td>\n",
              "      <td>Male</td>\n",
              "      <td>Caucasian</td>\n",
              "      <td>5.0</td>\n",
              "      <td>0</td>\n",
              "      <td>1</td>\n",
              "    </tr>\n",
              "    <tr>\n",
              "      <th>47412</th>\n",
              "      <td>105554556</td>\n",
              "      <td>Female</td>\n",
              "      <td>Caucasian</td>\n",
              "      <td>4.0</td>\n",
              "      <td>0</td>\n",
              "      <td>0</td>\n",
              "    </tr>\n",
              "    <tr>\n",
              "      <th>29887</th>\n",
              "      <td>89260308</td>\n",
              "      <td>Female</td>\n",
              "      <td>Caucasian</td>\n",
              "      <td>8.0</td>\n",
              "      <td>1</td>\n",
              "      <td>1</td>\n",
              "    </tr>\n",
              "    <tr>\n",
              "      <th>35019</th>\n",
              "      <td>86194917</td>\n",
              "      <td>Female</td>\n",
              "      <td>AfricanAmerican</td>\n",
              "      <td>3.0</td>\n",
              "      <td>1</td>\n",
              "      <td>0</td>\n",
              "    </tr>\n",
              "  </tbody>\n",
              "</table>\n",
              "</div>\n",
              "      <button class=\"colab-df-convert\" onclick=\"convertToInteractive('df-b08102f9-6e38-4633-8de2-84f2674edc35')\"\n",
              "              title=\"Convert this dataframe to an interactive table.\"\n",
              "              style=\"display:none;\">\n",
              "        \n",
              "  <svg xmlns=\"http://www.w3.org/2000/svg\" height=\"24px\"viewBox=\"0 0 24 24\"\n",
              "       width=\"24px\">\n",
              "    <path d=\"M0 0h24v24H0V0z\" fill=\"none\"/>\n",
              "    <path d=\"M18.56 5.44l.94 2.06.94-2.06 2.06-.94-2.06-.94-.94-2.06-.94 2.06-2.06.94zm-11 1L8.5 8.5l.94-2.06 2.06-.94-2.06-.94L8.5 2.5l-.94 2.06-2.06.94zm10 10l.94 2.06.94-2.06 2.06-.94-2.06-.94-.94-2.06-.94 2.06-2.06.94z\"/><path d=\"M17.41 7.96l-1.37-1.37c-.4-.4-.92-.59-1.43-.59-.52 0-1.04.2-1.43.59L10.3 9.45l-7.72 7.72c-.78.78-.78 2.05 0 2.83L4 21.41c.39.39.9.59 1.41.59.51 0 1.02-.2 1.41-.59l7.78-7.78 2.81-2.81c.8-.78.8-2.07 0-2.86zM5.41 20L4 18.59l7.72-7.72 1.47 1.35L5.41 20z\"/>\n",
              "  </svg>\n",
              "      </button>\n",
              "      \n",
              "  <style>\n",
              "    .colab-df-container {\n",
              "      display:flex;\n",
              "      flex-wrap:wrap;\n",
              "      gap: 12px;\n",
              "    }\n",
              "\n",
              "    .colab-df-convert {\n",
              "      background-color: #E8F0FE;\n",
              "      border: none;\n",
              "      border-radius: 50%;\n",
              "      cursor: pointer;\n",
              "      display: none;\n",
              "      fill: #1967D2;\n",
              "      height: 32px;\n",
              "      padding: 0 0 0 0;\n",
              "      width: 32px;\n",
              "    }\n",
              "\n",
              "    .colab-df-convert:hover {\n",
              "      background-color: #E2EBFA;\n",
              "      box-shadow: 0px 1px 2px rgba(60, 64, 67, 0.3), 0px 1px 3px 1px rgba(60, 64, 67, 0.15);\n",
              "      fill: #174EA6;\n",
              "    }\n",
              "\n",
              "    [theme=dark] .colab-df-convert {\n",
              "      background-color: #3B4455;\n",
              "      fill: #D2E3FC;\n",
              "    }\n",
              "\n",
              "    [theme=dark] .colab-df-convert:hover {\n",
              "      background-color: #434B5C;\n",
              "      box-shadow: 0px 1px 3px 1px rgba(0, 0, 0, 0.15);\n",
              "      filter: drop-shadow(0px 1px 2px rgba(0, 0, 0, 0.3));\n",
              "      fill: #FFFFFF;\n",
              "    }\n",
              "  </style>\n",
              "\n",
              "      <script>\n",
              "        const buttonEl =\n",
              "          document.querySelector('#df-b08102f9-6e38-4633-8de2-84f2674edc35 button.colab-df-convert');\n",
              "        buttonEl.style.display =\n",
              "          google.colab.kernel.accessAllowed ? 'block' : 'none';\n",
              "\n",
              "        async function convertToInteractive(key) {\n",
              "          const element = document.querySelector('#df-b08102f9-6e38-4633-8de2-84f2674edc35');\n",
              "          const dataTable =\n",
              "            await google.colab.kernel.invokeFunction('convertToInteractive',\n",
              "                                                     [key], {});\n",
              "          if (!dataTable) return;\n",
              "\n",
              "          const docLinkHtml = 'Like what you see? Visit the ' +\n",
              "            '<a target=\"_blank\" href=https://colab.research.google.com/notebooks/data_table.ipynb>data table notebook</a>'\n",
              "            + ' to learn more about interactive tables.';\n",
              "          element.innerHTML = '';\n",
              "          dataTable['output_type'] = 'display_data';\n",
              "          await google.colab.output.renderOutput(dataTable, element);\n",
              "          const docLink = document.createElement('div');\n",
              "          docLink.innerHTML = docLinkHtml;\n",
              "          element.appendChild(docLink);\n",
              "        }\n",
              "      </script>\n",
              "    </div>\n",
              "  </div>\n",
              "  "
            ]
          },
          "metadata": {},
          "execution_count": 81
        }
      ]
    },
    {
      "cell_type": "code",
      "source": [],
      "metadata": {
        "id": "8vXK0V4MdEsk"
      },
      "execution_count": null,
      "outputs": []
    },
    {
      "cell_type": "markdown",
      "source": [
        "#Model Evaluation Metrics"
      ],
      "metadata": {
        "id": "F4pxYNH_dGun"
      }
    },
    {
      "cell_type": "code",
      "source": [
        "from sklearn.metrics import confusion_matrix\n",
        "print(confusion_matrix(pred_test_df['label_value'], pred_test_df['score']))"
      ],
      "metadata": {
        "colab": {
          "base_uri": "https://localhost:8080/"
        },
        "id": "EUktoBl9dKi7",
        "outputId": "468997ce-5710-4df9-a826-53bd97640029"
      },
      "execution_count": 82,
      "outputs": [
        {
          "output_type": "stream",
          "name": "stdout",
          "text": [
            "[[5350 1467]\n",
            " [1405 2633]]\n"
          ]
        }
      ]
    },
    {
      "cell_type": "code",
      "source": [
        "# AUC, F1, precision and recall\n",
        "# Summary\n",
        "from sklearn.metrics import classification_report\n",
        "print(classification_report(pred_test_df['label_value'], pred_test_df['score']))"
      ],
      "metadata": {
        "colab": {
          "base_uri": "https://localhost:8080/"
        },
        "id": "TWAI1WlCdMxf",
        "outputId": "3113bfb4-5ab0-45b5-e7ae-341ebd78c72f"
      },
      "execution_count": 83,
      "outputs": [
        {
          "output_type": "stream",
          "name": "stdout",
          "text": [
            "              precision    recall  f1-score   support\n",
            "\n",
            "           0       0.79      0.78      0.79      6817\n",
            "           1       0.64      0.65      0.65      4038\n",
            "\n",
            "    accuracy                           0.74     10855\n",
            "   macro avg       0.72      0.72      0.72     10855\n",
            "weighted avg       0.74      0.74      0.74     10855\n",
            "\n"
          ]
        }
      ]
    },
    {
      "cell_type": "code",
      "source": [
        "from sklearn.metrics import auc, f1_score, roc_auc_score, recall_score, precision_score\n",
        "print(\"AUC score : \",roc_auc_score(pred_test_df['label_value'], pred_test_df['score']))\n",
        "print(\"F1 score : \", f1_score(pred_test_df['label_value'], pred_test_df['score'], average='weighted'))\n",
        "print(\"Precision score: \", precision_score(pred_test_df['label_value'], pred_test_df['score'], average='micro'))\n",
        "print(\"Recall score : \", recall_score(pred_test_df['label_value'], pred_test_df['score'], average='micro'))"
      ],
      "metadata": {
        "colab": {
          "base_uri": "https://localhost:8080/"
        },
        "id": "XZPGDGmUdQn2",
        "outputId": "241dde01-e8fa-4657-c72b-e0cc59455e25"
      },
      "execution_count": 84,
      "outputs": [
        {
          "output_type": "stream",
          "name": "stdout",
          "text": [
            "AUC score :  0.7184290860704776\n",
            "F1 score :  0.7358249934357506\n",
            "Precision score:  0.7354214647627821\n",
            "Recall score :  0.7354214647627821\n"
          ]
        }
      ]
    },
    {
      "cell_type": "markdown",
      "source": [
        "Precison score is the measure of true identified result while Recall score measure the false identified result. In our problem, we need to identified patients who satisfy our criteria as well as we don't want to interept patients who can't be part of our testing due to low hospitalize time.\n",
        "\n",
        "So, both precison and recall are important measure.\n",
        "\n",
        "For more improvement of model performance, can add more complex layers in model architecture with data."
      ],
      "metadata": {
        "id": "2D4stmOSdko0"
      }
    },
    {
      "cell_type": "markdown",
      "source": [
        "#7. Evaluating Potential Model Biases with Aequitas Toolkit\n",
        "##Prepare Data For Aequitas Bias Toolkit\n",
        "Using the gender and race fields, we will prepare the data for the Aequitas Toolkit."
      ],
      "metadata": {
        "id": "XX2nQ_x0eHBB"
      }
    },
    {
      "cell_type": "code",
      "source": [
        "# Aequitas\n",
        "from aequitas.preprocessing import preprocess_input_df\n",
        "from aequitas.group import Group\n",
        "from aequitas.plotting import Plot\n",
        "from aequitas.bias import Bias\n",
        "from aequitas.fairness import Fairness\n",
        "\n",
        "ae_subset_df = pred_test_df[['race', 'gender', 'score', 'label_value']]\n",
        "ae_df, _ = preprocess_input_df(ae_subset_df)\n",
        "g = Group()\n",
        "xtab, _ = g.get_crosstabs(ae_df)\n",
        "absolute_metrics = g.list_absolute_metrics(xtab)\n",
        "clean_xtab = xtab.fillna(-1)\n",
        "aqp = Plot()\n",
        "b = Bias()"
      ],
      "metadata": {
        "colab": {
          "base_uri": "https://localhost:8080/"
        },
        "id": "TnYOcZ9peH89",
        "outputId": "97a41437-86ee-4cc0-e2b4-28d32a74b39b"
      },
      "execution_count": 87,
      "outputs": [
        {
          "output_type": "stream",
          "name": "stderr",
          "text": [
            "/usr/local/lib/python3.9/dist-packages/aequitas/group.py:182: SettingWithCopyWarning: \n",
            "A value is trying to be set on a copy of a slice from a DataFrame.\n",
            "Try using .loc[row_indexer,col_indexer] = value instead\n",
            "\n",
            "See the caveats in the documentation: https://pandas.pydata.org/pandas-docs/stable/user_guide/indexing.html#returning-a-view-versus-a-copy\n",
            "  df.loc[:, 'score'] = df.loc[:,'score'].astype(float)\n"
          ]
        }
      ]
    },
    {
      "cell_type": "markdown",
      "source": [
        "##Reference Group Selection\n",
        "Below we have chosen the reference group for our analysis"
      ],
      "metadata": {
        "id": "4rD9ef1peSN8"
      }
    },
    {
      "cell_type": "code",
      "source": [
        "# test reference group with Caucasian Male\n",
        "bdf = b.get_disparity_predefined_groups(clean_xtab, \n",
        "                    original_df=ae_df, \n",
        "                    ref_groups_dict={'race':'Caucasian', 'gender':'Male'}, \n",
        "                    alpha=0.05, \n",
        "                    check_significance=False)\n",
        "\n",
        "\n",
        "f = Fairness()\n",
        "fdf = f.get_group_value_fairness(bdf)"
      ],
      "metadata": {
        "colab": {
          "base_uri": "https://localhost:8080/"
        },
        "id": "PWXP33gxeT0i",
        "outputId": "67c4ef78-fe1b-4608-bca1-a5f2e9a08f53"
      },
      "execution_count": 88,
      "outputs": [
        {
          "output_type": "stream",
          "name": "stdout",
          "text": [
            "get_disparity_predefined_group()\n"
          ]
        }
      ]
    },
    {
      "cell_type": "markdown",
      "source": [
        "##Race and Gender Bias Analysis for Patient Selection\n",
        "\n",
        "For the gender and race fields, we plot two metrics that are important for patient selection below and whether there is a significant bias in our model across any of the groups."
      ],
      "metadata": {
        "id": "N6SjeAemegs9"
      }
    },
    {
      "cell_type": "code",
      "source": [
        "# Is there significant bias in your model for either race or gender?\n",
        "tpr = aqp.plot_group_metric(clean_xtab, 'tpr')"
      ],
      "metadata": {
        "colab": {
          "base_uri": "https://localhost:8080/",
          "height": 355
        },
        "id": "CDIn-fDveYcb",
        "outputId": "d16fdad2-af34-42c2-e663-bdccdd3234d7"
      },
      "execution_count": 89,
      "outputs": [
        {
          "output_type": "display_data",
          "data": {
            "text/plain": [
              "<Figure size 720x360 with 1 Axes>"
            ],
            "image/png": "[encoded data removed]"
          },
          "metadata": {
            "needs_background": "light"
          }
        }
      ]
    },
    {
      "cell_type": "code",
      "source": [
        "fpr = aqp.plot_group_metric(clean_xtab, 'fpr')"
      ],
      "metadata": {
        "colab": {
          "base_uri": "https://localhost:8080/",
          "height": 355
        },
        "id": "S1W5c8W3e0qh",
        "outputId": "41975fbf-2672-4690-a910-20ee7ca58298"
      },
      "execution_count": 90,
      "outputs": [
        {
          "output_type": "display_data",
          "data": {
            "text/plain": [
              "<Figure size 720x360 with 1 Axes>"
            ],
            "image/png": "[encoded data removed]"
          },
          "metadata": {
            "needs_background": "light"
          }
        }
      ]
    },
    {
      "cell_type": "code",
      "source": [
        "tnr = aqp.plot_group_metric(clean_xtab, 'tnr')"
      ],
      "metadata": {
        "colab": {
          "base_uri": "https://localhost:8080/",
          "height": 355
        },
        "id": "ZDxO-q_3e3XH",
        "outputId": "54c5cf5e-87cd-400b-d4ba-3f410d82ea7a"
      },
      "execution_count": 91,
      "outputs": [
        {
          "output_type": "display_data",
          "data": {
            "text/plain": [
              "<Figure size 720x360 with 1 Axes>"
            ],
            "image/png": "[encoded data removed]"
          },
          "metadata": {
            "needs_background": "light"
          }
        }
      ]
    },
    {
      "cell_type": "code",
      "source": [
        "precision = aqp.plot_group_metric(clean_xtab, 'precision')"
      ],
      "metadata": {
        "colab": {
          "base_uri": "https://localhost:8080/",
          "height": 355
        },
        "id": "rEywGsgKe8zN",
        "outputId": "66a37283-b1d2-4009-c3c0-d92c3b15bc6c"
      },
      "execution_count": 92,
      "outputs": [
        {
          "output_type": "display_data",
          "data": {
            "text/plain": [
              "<Figure size 720x360 with 1 Axes>"
            ],
            "image/png": "[encoded data removed]"
          },
          "metadata": {
            "needs_background": "light"
          }
        }
      ]
    },
    {
      "cell_type": "markdown",
      "source": [
        "Bias analysis finds that Asian are more precisly identified than any other region. There are some un-identified regions have true classfication. African American and Caucasian(Reference) has almost same True classfied and false identified rate based on samples."
      ],
      "metadata": {
        "id": "mgwVkbu2fDVu"
      }
    },
    {
      "cell_type": "markdown",
      "source": [
        "##Fairness Analysis Example - Relative to a Reference Group\n",
        "\n",
        "Here we provided a visualization of the fairness evaluation for this reference group and analyze whether there is disparity."
      ],
      "metadata": {
        "id": "DJ44UJ-ifIgn"
      }
    },
    {
      "cell_type": "code",
      "source": [
        "# Reference group fairness plot\n",
        "fpr_fairness = aqp.plot_fairness_group(fdf, group_metric='fpr', title=True)"
      ],
      "metadata": {
        "colab": {
          "base_uri": "https://localhost:8080/",
          "height": 355
        },
        "id": "T58sUJlte_Ul",
        "outputId": "9ab81bd3-8dc4-4805-bebb-587e1f3d634a"
      },
      "execution_count": 93,
      "outputs": [
        {
          "output_type": "display_data",
          "data": {
            "text/plain": [
              "<Figure size 720x360 with 1 Axes>"
            ],
            "image/png": "[encoded data removed]"
          },
          "metadata": {
            "needs_background": "light"
          }
        }
      ]
    },
    {
      "cell_type": "code",
      "source": [
        "fpr_disparity_fairness = aqp.plot_fairness_disparity(fdf, group_metric='tpr', attribute_name='race')"
      ],
      "metadata": {
        "colab": {
          "base_uri": "https://localhost:8080/",
          "height": 313
        },
        "id": "pvI8jOxffWjk",
        "outputId": "84667ec4-3d59-4208-9eae-ac9a9c83e4a8"
      },
      "execution_count": 94,
      "outputs": [
        {
          "output_type": "display_data",
          "data": {
            "text/plain": [
              "<Figure size 360x288 with 1 Axes>"
            ],
            "image/png": "[encoded data removed]"
          },
          "metadata": {
            "needs_background": "light"
          }
        }
      ]
    },
    {
      "cell_type": "code",
      "source": [
        "tpr_disparity_fairness = aqp.plot_fairness_disparity(fdf, group_metric='tpr', attribute_name='gender')"
      ],
      "metadata": {
        "colab": {
          "base_uri": "https://localhost:8080/",
          "height": 272
        },
        "id": "IMcyJ3_ZfY6O",
        "outputId": "910923f4-fa09-42f4-9e4c-ced3ea11b977"
      },
      "execution_count": 95,
      "outputs": [
        {
          "output_type": "display_data",
          "data": {
            "text/plain": [
              "<Figure size 360x288 with 1 Axes>"
            ],
            "image/png": "[encoded data removed]"
          },
          "metadata": {
            "needs_background": "light"
          }
        }
      ]
    },
    {
      "cell_type": "code",
      "source": [],
      "metadata": {
        "id": "P7cMV-Dsfb1O"
      },
      "execution_count": null,
      "outputs": []
    }
  ]
}